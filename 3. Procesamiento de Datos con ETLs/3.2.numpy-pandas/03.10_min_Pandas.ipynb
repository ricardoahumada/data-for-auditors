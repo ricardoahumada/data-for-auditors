{
 "cells": [
  {
   "cell_type": "markdown",
   "metadata": {
    "id": "WZXfQwKWD6mY"
   },
   "source": [
    "# Basics"
   ]
  },
  {
   "cell_type": "code",
   "execution_count": null,
   "metadata": {
    "id": "HY114DWe4zb9"
   },
   "outputs": [],
   "source": [
    "import pandas as pd"
   ]
  },
  {
   "cell_type": "markdown",
   "metadata": {
    "id": "8NY8U-QmCQc-"
   },
   "source": [
    "**series and datasets**"
   ]
  },
  {
   "cell_type": "code",
   "execution_count": null,
   "metadata": {
    "id": "YHscmKbp4_Cj"
   },
   "outputs": [],
   "source": [
    "serie=pd.Series([1,2,3,4])"
   ]
  },
  {
   "cell_type": "code",
   "execution_count": null,
   "metadata": {
    "colab": {
     "base_uri": "https://localhost:8080/"
    },
    "id": "FfF0RNNE5GDo",
    "outputId": "f857397e-80c4-4ec0-fa7a-58846834c854"
   },
   "outputs": [],
   "source": [
    "serie"
   ]
  },
  {
   "cell_type": "code",
   "execution_count": null,
   "metadata": {
    "id": "lgmQH55k5R1A"
   },
   "outputs": [],
   "source": [
    "serie.name='Serie 1'"
   ]
  },
  {
   "cell_type": "code",
   "execution_count": null,
   "metadata": {
    "colab": {
     "base_uri": "https://localhost:8080/"
    },
    "id": "whj5IAEP5W0j",
    "outputId": "751ae13c-bc17-4112-b48c-c19b8d3b4d89"
   },
   "outputs": [],
   "source": [
    "serie"
   ]
  },
  {
   "cell_type": "code",
   "execution_count": null,
   "metadata": {
    "id": "oeJfdzfP5YcU"
   },
   "outputs": [],
   "source": [
    "df=pd.DataFrame({'col1':[1,2,3,4],'col2':['a','b','c','d']})"
   ]
  },
  {
   "cell_type": "code",
   "execution_count": null,
   "metadata": {
    "colab": {
     "base_uri": "https://localhost:8080/",
     "height": 175
    },
    "id": "7e3ptr7E5gng",
    "outputId": "ee553625-5720-4768-b465-b33c6bbed88e"
   },
   "outputs": [],
   "source": [
    "df"
   ]
  },
  {
   "cell_type": "markdown",
   "metadata": {
    "id": "oRoT2WfQCaG4"
   },
   "source": [
    "**dimensionality**"
   ]
  },
  {
   "cell_type": "code",
   "execution_count": null,
   "metadata": {
    "colab": {
     "base_uri": "https://localhost:8080/"
    },
    "id": "SYIDt2RL5lrK",
    "outputId": "e0fc3cb2-284b-421d-b512-2b5b7a6d87b5"
   },
   "outputs": [],
   "source": [
    "df.shape"
   ]
  },
  {
   "cell_type": "markdown",
   "metadata": {
    "id": "g8GnhvenCt4l"
   },
   "source": [
    "**read csv file**"
   ]
  },
  {
   "cell_type": "code",
   "execution_count": null,
   "metadata": {
    "id": "Inrsmyyg5ymy"
   },
   "outputs": [],
   "source": [
    "df = pd.read_csv('data/iris.data',header=None)"
   ]
  },
  {
   "cell_type": "code",
   "execution_count": null,
   "metadata": {
    "colab": {
     "base_uri": "https://localhost:8080/",
     "height": 424
    },
    "id": "du9KSGUC6zHW",
    "outputId": "03793d36-65f9-494e-bd3b-eb772889b5b0"
   },
   "outputs": [],
   "source": [
    "df"
   ]
  },
  {
   "cell_type": "markdown",
   "metadata": {
    "id": "L8L_Q-7LCyqi"
   },
   "source": [
    "**first and last rows**"
   ]
  },
  {
   "cell_type": "code",
   "execution_count": null,
   "metadata": {
    "colab": {
     "base_uri": "https://localhost:8080/",
     "height": 206
    },
    "id": "SV2Tf5ZT67Gk",
    "outputId": "8e69d351-a9ad-44ba-f242-9368aacc45e3"
   },
   "outputs": [],
   "source": [
    "df.head()"
   ]
  },
  {
   "cell_type": "code",
   "execution_count": null,
   "metadata": {
    "colab": {
     "base_uri": "https://localhost:8080/",
     "height": 112
    },
    "id": "aKOYjPNH6-Za",
    "outputId": "01fa651b-677d-49b5-ee82-eebec748c1e6"
   },
   "outputs": [],
   "source": [
    "df.head(2)"
   ]
  },
  {
   "cell_type": "code",
   "execution_count": null,
   "metadata": {
    "colab": {
     "base_uri": "https://localhost:8080/",
     "height": 206
    },
    "id": "raV9sjNu7Aw-",
    "outputId": "37f66eb1-1273-4535-9737-9272ec3a0f20"
   },
   "outputs": [],
   "source": [
    "df.tail(5)"
   ]
  },
  {
   "cell_type": "markdown",
   "metadata": {
    "id": "KTY4tQ-lC6cv"
   },
   "source": [
    "**column names**"
   ]
  },
  {
   "cell_type": "code",
   "execution_count": null,
   "metadata": {
    "id": "um_vrZ2j7FQL"
   },
   "outputs": [],
   "source": [
    "nombres = ['long_sepalo','ancho_sepalo','long_petalo','ancho_petalo','clase']"
   ]
  },
  {
   "cell_type": "code",
   "execution_count": null,
   "metadata": {
    "colab": {
     "base_uri": "https://localhost:8080/"
    },
    "id": "VFCRamVH7Q69",
    "outputId": "e52ca650-e0cb-4b0b-840a-5218f48dc47d"
   },
   "outputs": [],
   "source": [
    "nombres"
   ]
  },
  {
   "cell_type": "code",
   "execution_count": null,
   "metadata": {
    "id": "7OuplzK57YL1"
   },
   "outputs": [],
   "source": [
    "df.columns = nombres"
   ]
  },
  {
   "cell_type": "code",
   "execution_count": null,
   "metadata": {
    "colab": {
     "base_uri": "https://localhost:8080/",
     "height": 424
    },
    "id": "VEoEzXpZ7a2Z",
    "outputId": "535ba07f-33b6-475a-c0dc-937ff47779fa"
   },
   "outputs": [],
   "source": [
    "df"
   ]
  },
  {
   "cell_type": "code",
   "execution_count": null,
   "metadata": {
    "colab": {
     "base_uri": "https://localhost:8080/"
    },
    "id": "LOM_Itm571y8",
    "outputId": "ce4e815a-4d14-4aa2-ec34-8b7e917cea9f"
   },
   "outputs": [],
   "source": [
    "df.columns"
   ]
  },
  {
   "cell_type": "code",
   "execution_count": null,
   "metadata": {
    "colab": {
     "base_uri": "https://localhost:8080/"
    },
    "id": "onMO-hoP75IY",
    "outputId": "656e1414-a279-4078-9996-78eaa17f6b3f"
   },
   "outputs": [],
   "source": [
    "df.index"
   ]
  },
  {
   "cell_type": "code",
   "execution_count": null,
   "metadata": {
    "colab": {
     "base_uri": "https://localhost:8080/"
    },
    "id": "t_Y1ElSr85fD",
    "outputId": "42ce6835-0de8-4f0f-c01f-7cb4921b5173"
   },
   "outputs": [],
   "source": [
    "df.shape"
   ]
  },
  {
   "cell_type": "markdown",
   "metadata": {
    "id": "-4JFuxQSDAjz"
   },
   "source": [
    "**basic statistics**"
   ]
  },
  {
   "cell_type": "code",
   "execution_count": null,
   "metadata": {
    "colab": {
     "base_uri": "https://localhost:8080/",
     "height": 300
    },
    "id": "CBC3aSIb88N-",
    "outputId": "9cb2057e-e436-43a2-a1c4-84eb77a99a8b"
   },
   "outputs": [],
   "source": [
    "df.describe()"
   ]
  },
  {
   "cell_type": "markdown",
   "metadata": {
    "id": "Ec2sL9TeDF4N"
   },
   "source": [
    "**values count**"
   ]
  },
  {
   "cell_type": "code",
   "execution_count": null,
   "metadata": {
    "colab": {
     "base_uri": "https://localhost:8080/"
    },
    "id": "Kij1E_C79KG-",
    "outputId": "e949d04c-cb3a-44a7-91fb-86eefe12e941"
   },
   "outputs": [],
   "source": [
    "df['clase'].value_counts()"
   ]
  },
  {
   "cell_type": "code",
   "execution_count": null,
   "metadata": {
    "colab": {
     "base_uri": "https://localhost:8080/"
    },
    "id": "D6j1t9CS9atW",
    "outputId": "a8d6be3c-7a1d-4d28-a59d-5c494f987c12"
   },
   "outputs": [],
   "source": [
    "df.memory_usage()"
   ]
  },
  {
   "cell_type": "markdown",
   "metadata": {
    "id": "3pFzPGnTDMEN"
   },
   "source": [
    "**traspose**"
   ]
  },
  {
   "cell_type": "code",
   "execution_count": null,
   "metadata": {
    "colab": {
     "base_uri": "https://localhost:8080/",
     "height": 317
    },
    "id": "8bzA-Dix9jqg",
    "outputId": "a20546e3-cf1d-4244-de05-61f0f82100fb"
   },
   "outputs": [],
   "source": [
    "df.T"
   ]
  },
  {
   "cell_type": "markdown",
   "metadata": {
    "id": "ATFdphfSDPq0"
   },
   "source": [
    "**sorting**"
   ]
  },
  {
   "cell_type": "code",
   "execution_count": null,
   "metadata": {
    "colab": {
     "base_uri": "https://localhost:8080/",
     "height": 424
    },
    "id": "Zu_NnS0K9pWa",
    "outputId": "9db185fb-fbed-4e17-a86a-361a84e4f929"
   },
   "outputs": [],
   "source": [
    "df.sort_values('ancho_sepalo',ascending=False)"
   ]
  },
  {
   "cell_type": "markdown",
   "metadata": {
    "id": "XAxuAOZfDTcV"
   },
   "source": [
    "**filtering**"
   ]
  },
  {
   "cell_type": "code",
   "execution_count": null,
   "metadata": {
    "colab": {
     "base_uri": "https://localhost:8080/",
     "height": 424
    },
    "id": "46iiA1N794Ui",
    "outputId": "91325988-e7fa-4bca-9c38-8a2c7b628e80"
   },
   "outputs": [],
   "source": [
    "df[['long_sepalo','long_petalo']]"
   ]
  },
  {
   "cell_type": "code",
   "execution_count": null,
   "metadata": {
    "colab": {
     "base_uri": "https://localhost:8080/",
     "height": 143
    },
    "id": "qAJbavrn-JIc",
    "outputId": "e1763280-f426-40de-c459-e63969df1900"
   },
   "outputs": [],
   "source": [
    "df[:3]"
   ]
  },
  {
   "cell_type": "code",
   "execution_count": null,
   "metadata": {},
   "outputs": [],
   "source": [
    "df.loc[[3,1,5],['ancho_sepalo']]"
   ]
  },
  {
   "cell_type": "code",
   "execution_count": null,
   "metadata": {},
   "outputs": [],
   "source": [
    "df.iloc[:5,2:]"
   ]
  },
  {
   "cell_type": "code",
   "execution_count": null,
   "metadata": {
    "colab": {
     "base_uri": "https://localhost:8080/",
     "height": 112
    },
    "id": "rUo4RdVy-P61",
    "outputId": "611d5faf-a4ff-43bc-d29f-2bc149761629"
   },
   "outputs": [],
   "source": [
    "df.iloc[[4,19],[0,2]]"
   ]
  },
  {
   "cell_type": "code",
   "execution_count": null,
   "metadata": {
    "colab": {
     "base_uri": "https://localhost:8080/",
     "height": 424
    },
    "id": "Gxm35Z3d-gUF",
    "outputId": "7cebdb49-9e1c-4251-f1ca-be605f1e1173"
   },
   "outputs": [],
   "source": [
    "df[(df['long_sepalo']>5) & (df['long_petalo']>2)]"
   ]
  },
  {
   "cell_type": "markdown",
   "metadata": {
    "id": "OmAKdA4VDiMm"
   },
   "source": [
    "**columns operation**"
   ]
  },
  {
   "cell_type": "code",
   "execution_count": null,
   "metadata": {
    "colab": {
     "base_uri": "https://localhost:8080/"
    },
    "id": "aZ7x3J4w_FSE",
    "outputId": "c7426fab-cf57-4846-e2ae-a274c9d77c08"
   },
   "outputs": [],
   "source": [
    "df['long_sepalo']-df['long_petalo']"
   ]
  },
  {
   "cell_type": "markdown",
   "metadata": {
    "id": "ds6uY3GRDmir"
   },
   "source": [
    "**missing values**"
   ]
  },
  {
   "cell_type": "code",
   "execution_count": null,
   "metadata": {},
   "outputs": [],
   "source": [
    "df.isna()"
   ]
  },
  {
   "cell_type": "code",
   "execution_count": null,
   "metadata": {
    "colab": {
     "base_uri": "https://localhost:8080/"
    },
    "id": "nzU7YFzAABth",
    "outputId": "38f9cc51-69bb-4196-be6d-1230547a0831"
   },
   "outputs": [],
   "source": [
    "df.isna().sum()"
   ]
  },
  {
   "cell_type": "code",
   "execution_count": null,
   "metadata": {},
   "outputs": [],
   "source": [
    "df.isna().sum().sum()"
   ]
  },
  {
   "cell_type": "code",
   "execution_count": null,
   "metadata": {
    "id": "46WA0p9TALSK"
   },
   "outputs": [],
   "source": [
    "import numpy as np"
   ]
  },
  {
   "cell_type": "code",
   "execution_count": null,
   "metadata": {
    "colab": {
     "base_uri": "https://localhost:8080/"
    },
    "id": "kjb3CnryAXjP",
    "outputId": "377570a3-4624-44df-bb9c-06fe7b97c7d6"
   },
   "outputs": [],
   "source": [
    "df['long_petalo'][:2]=np.nan"
   ]
  },
  {
   "cell_type": "code",
   "execution_count": null,
   "metadata": {
    "colab": {
     "base_uri": "https://localhost:8080/",
     "height": 424
    },
    "id": "Q-89eUNGAg-n",
    "outputId": "50fff240-72e4-43a4-f748-0b5855a16ea6"
   },
   "outputs": [],
   "source": [
    "df"
   ]
  },
  {
   "cell_type": "code",
   "execution_count": null,
   "metadata": {
    "colab": {
     "base_uri": "https://localhost:8080/"
    },
    "id": "WsYrniqIBULD",
    "outputId": "71ea7af2-1fc9-4d09-c36f-e7c32b692d7c"
   },
   "outputs": [],
   "source": [
    "df.isna().sum()"
   ]
  },
  {
   "cell_type": "markdown",
   "metadata": {
    "id": "YSb6KXmKDswZ"
   },
   "source": [
    "**completing missing value**"
   ]
  },
  {
   "cell_type": "code",
   "execution_count": null,
   "metadata": {
    "colab": {
     "base_uri": "https://localhost:8080/"
    },
    "id": "zC7mZhwPBbYm",
    "outputId": "bc99672a-1369-493e-c307-e1413954aafd"
   },
   "outputs": [],
   "source": [
    "df['long_petalo'].fillna(2)"
   ]
  },
  {
   "cell_type": "code",
   "execution_count": null,
   "metadata": {
    "colab": {
     "base_uri": "https://localhost:8080/",
     "height": 424
    },
    "id": "2oJxFGf_BlAK",
    "outputId": "7359fddf-be78-4818-daa3-ba5aa57c17f2"
   },
   "outputs": [],
   "source": [
    "df"
   ]
  },
  {
   "cell_type": "code",
   "execution_count": null,
   "metadata": {
    "id": "5BusJHEYBmdX"
   },
   "outputs": [],
   "source": [
    "df['long_petalo']=df['long_petalo'].fillna(2)"
   ]
  },
  {
   "cell_type": "code",
   "execution_count": null,
   "metadata": {
    "colab": {
     "base_uri": "https://localhost:8080/",
     "height": 206
    },
    "id": "vxcHfA6MBule",
    "outputId": "48fd661c-68db-484d-a9cf-8fef6085ca63"
   },
   "outputs": [],
   "source": [
    "df.head()"
   ]
  },
  {
   "cell_type": "markdown",
   "metadata": {
    "id": "TG7QormkCHwq"
   },
   "source": [
    "# Basic Statistics"
   ]
  },
  {
   "cell_type": "code",
   "execution_count": null,
   "metadata": {
    "colab": {
     "base_uri": "https://localhost:8080/"
    },
    "id": "tMBHYO6_EAQG",
    "outputId": "64549c15-8e94-4987-a988-56037a59e47e"
   },
   "outputs": [],
   "source": [
    "df['long_petalo'].mean()"
   ]
  },
  {
   "cell_type": "code",
   "execution_count": null,
   "metadata": {
    "colab": {
     "base_uri": "https://localhost:8080/"
    },
    "id": "L3IN0nb1EKqb",
    "outputId": "fa19448b-51bc-4259-bfa0-326cbe24e32e"
   },
   "outputs": [],
   "source": [
    "df['long_petalo'].median()"
   ]
  },
  {
   "cell_type": "markdown",
   "metadata": {
    "id": "MWHgxCh7FB5_"
   },
   "source": [
    "**lambdas**"
   ]
  },
  {
   "cell_type": "code",
   "execution_count": null,
   "metadata": {
    "colab": {
     "base_uri": "https://localhost:8080/"
    },
    "id": "ceyhNSCVEOUZ",
    "outputId": "be6e779a-6355-4efb-ed87-3f55c8ba036d"
   },
   "outputs": [],
   "source": [
    "df['ancho_sepalo'].apply(lambda x: -x)"
   ]
  },
  {
   "cell_type": "code",
   "execution_count": null,
   "metadata": {
    "colab": {
     "base_uri": "https://localhost:8080/"
    },
    "id": "g8vUDoL8EgSn",
    "outputId": "22750f81-d2e7-45ae-f688-b0e48cb9bb7c"
   },
   "outputs": [],
   "source": [
    "df['ancho_sepalo'].apply(lambda x: x**2)"
   ]
  },
  {
   "cell_type": "markdown",
   "metadata": {
    "id": "opccvkjrE-x2"
   },
   "source": [
    "**grouping**"
   ]
  },
  {
   "cell_type": "code",
   "execution_count": null,
   "metadata": {
    "colab": {
     "base_uri": "https://localhost:8080/"
    },
    "id": "P0KjBV8vEjX9",
    "outputId": "c4ff3a1b-354a-4d65-971d-452bc7fd957d"
   },
   "outputs": [],
   "source": [
    "df_group=df.groupby('clase')['ancho_petalo'].mean()\n",
    "df_group.name='media_ancho_petalo'\n",
    "df_group"
   ]
  },
  {
   "cell_type": "code",
   "execution_count": null,
   "metadata": {
    "id": "I2VDuVsqfG9w"
   },
   "outputs": [],
   "source": [
    "df_join=df.join(df_group,on=['clase'],how='inner')"
   ]
  },
  {
   "cell_type": "code",
   "execution_count": null,
   "metadata": {
    "colab": {
     "base_uri": "https://localhost:8080/",
     "height": 424
    },
    "id": "8e6guu2QgrwS",
    "outputId": "e7b91536-316c-453c-960c-42b9f2d9b875"
   },
   "outputs": [],
   "source": [
    "df_join"
   ]
  },
  {
   "cell_type": "markdown",
   "metadata": {
    "id": "t5uFJkDahCop"
   },
   "source": [
    "# Visualize"
   ]
  },
  {
   "cell_type": "code",
   "execution_count": null,
   "metadata": {
    "id": "kNgndXR-g6Gu"
   },
   "outputs": [],
   "source": [
    "import matplotlib as plt"
   ]
  },
  {
   "cell_type": "code",
   "execution_count": null,
   "metadata": {
    "colab": {
     "base_uri": "https://localhost:8080/",
     "height": 283
    },
    "id": "GH5EzaxPhBjZ",
    "outputId": "c4f1b62b-cfe1-4b3f-9410-49b792c8dd8b"
   },
   "outputs": [],
   "source": [
    "df_join['media_ancho_petalo'].plot()"
   ]
  },
  {
   "cell_type": "code",
   "execution_count": null,
   "metadata": {
    "colab": {
     "base_uri": "https://localhost:8080/",
     "height": 283
    },
    "id": "stJaZbgbhSGY",
    "outputId": "46f62049-b942-4dba-cc59-399266bfaca6"
   },
   "outputs": [],
   "source": [
    "df_join['long_petalo'].plot()"
   ]
  },
  {
   "cell_type": "code",
   "execution_count": null,
   "metadata": {
    "colab": {
     "base_uri": "https://localhost:8080/",
     "height": 283
    },
    "id": "ngatE76MhauF",
    "outputId": "16fa5e42-a6e3-4f92-d279-19f32745e374"
   },
   "outputs": [],
   "source": [
    "df_join.plot()"
   ]
  },
  {
   "cell_type": "code",
   "execution_count": null,
   "metadata": {
    "colab": {
     "base_uri": "https://localhost:8080/",
     "height": 446
    },
    "id": "9HtDAaPihnJ4",
    "outputId": "10048a84-2a7a-4b74-f09f-51d294bee6ac"
   },
   "outputs": [],
   "source": [
    "df_join.plot(figsize=[12,7])"
   ]
  },
  {
   "cell_type": "code",
   "execution_count": null,
   "metadata": {
    "colab": {
     "base_uri": "https://localhost:8080/",
     "height": 292
    },
    "id": "uHn1rKvchy4a",
    "outputId": "860d20f5-4a68-49f6-9ea1-c4e6194bd1e6"
   },
   "outputs": [],
   "source": [
    "df_join['long_petalo'].plot(kind='bar')"
   ]
  },
  {
   "cell_type": "code",
   "execution_count": null,
   "metadata": {},
   "outputs": [],
   "source": []
  }
 ],
 "metadata": {
  "colab": {
   "collapsed_sections": [],
   "provenance": []
  },
  "kernelspec": {
   "display_name": "Python 3",
   "language": "python",
   "name": "python3"
  },
  "language_info": {
   "codemirror_mode": {
    "name": "ipython",
    "version": 3
   },
   "file_extension": ".py",
   "mimetype": "text/x-python",
   "name": "python",
   "nbconvert_exporter": "python",
   "pygments_lexer": "ipython3",
   "version": "3.12.4"
  }
 },
 "nbformat": 4,
 "nbformat_minor": 1
}
