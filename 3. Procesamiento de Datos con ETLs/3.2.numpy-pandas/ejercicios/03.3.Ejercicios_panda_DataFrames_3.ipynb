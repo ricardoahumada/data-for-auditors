{
 "cells": [
  {
   "cell_type": "markdown",
   "metadata": {},
   "source": [
    "# Ejercicios Pandas DataFrames 03"
   ]
  },
  {
   "cell_type": "markdown",
   "metadata": {},
   "source": [
    "Carga el dataset del titanic"
   ]
  },
  {
   "cell_type": "markdown",
   "metadata": {},
   "source": [
    "1. Escribe un programa Pandas para dividir los pasajeros en cuatro categorías según su edad.\n",
    "Nota: Categorías de edad (0, 10), (10, 30), (30, 60), (60, 80)"
   ]
  },
  {
   "cell_type": "markdown",
   "metadata": {},
   "source": [
    "2. Escribe un programa Pandas para crear una tabla dinámica y contar la supervivencia por género, categorías y edad de varias clases.\n",
    "Nota: Categorías de edad (0, 10), (10, 30), (30, 60), (60, 80)"
   ]
  },
  {
   "cell_type": "markdown",
   "metadata": {},
   "source": [
    "- 2.1. Usando pivot\n"
   ]
  },
  {
   "cell_type": "markdown",
   "metadata": {},
   "source": [
    "- 2.1. Usando pivot_table\n"
   ]
  },
  {
   "cell_type": "markdown",
   "metadata": {},
   "source": [
    "3. Escribe un programa Pandas para crear una tabla dinámica y encontrar la tasa de supervivencia por género y edad de las diferentes categorías de varias clases. \n",
    "Agregar la tarifa como una dimensión de columnas y divida la columna de tarifa en 2 categorías según los valores presentes en las columnas de tarifa."
   ]
  },
  {
   "cell_type": "markdown",
   "metadata": {},
   "source": [
    "4. Escribe un programa Pandas para crear una tabla dinámica y calcular la cantidad de mujeres y hombres que había en una clase de cabina en particular."
   ]
  },
  {
   "cell_type": "markdown",
   "metadata": {},
   "source": [
    "5. Escribe un programa Pandas para crear una tabla dinámica y separar el género según si viajaron solos o no para obtener la probabilidad de supervivencia."
   ]
  },
  {
   "cell_type": "markdown",
   "metadata": {},
   "source": [
    "6. Escribe un programa Pandas para crear una tabla dinámica y encontrar la probabilidad de supervivencia por clase, género, embarque en solitario y puerto de embarque."
   ]
  }
 ],
 "metadata": {
  "kernelspec": {
   "display_name": "Python 3",
   "language": "python",
   "name": "python3"
  },
  "language_info": {
   "codemirror_mode": {
    "name": "ipython",
    "version": 3
   },
   "file_extension": ".py",
   "mimetype": "text/x-python",
   "name": "python",
   "nbconvert_exporter": "python",
   "pygments_lexer": "ipython3",
   "version": "3.12.4"
  }
 },
 "nbformat": 4,
 "nbformat_minor": 2
}
