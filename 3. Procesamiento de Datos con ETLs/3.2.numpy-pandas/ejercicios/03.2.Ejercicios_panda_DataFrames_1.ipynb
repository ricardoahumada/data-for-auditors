{
 "cells": [
  {
   "cell_type": "markdown",
   "metadata": {},
   "source": [
    "# Ejercicios Pandas DataFrames 01"
   ]
  },
  {
   "cell_type": "markdown",
   "metadata": {},
   "source": [
    "1. Escribe un programa Pandas para conectarte a la base de datos datafundamentals y carga los pagos como un dataframe"
   ]
  },
  {
   "cell_type": "markdown",
   "metadata": {},
   "source": [
    "2. Escribe un programa Pandas para conectarte a la base de datos datafundamentals y guardar el df de pagos en una tabla nueva. Luego muestra las tablas en la bbdd y comprueba que existe la nueva tabla.\n",
    "\n",
    "- **Tip:** Usar sqlalchemy (https://www.sqlalchemy.org/)\n"
   ]
  },
  {
   "cell_type": "markdown",
   "metadata": {},
   "source": [
    "```python\n",
    "# !pip install sqlalchemy\n",
    "\n",
    "from sqlalchemy import create_engine\n",
    "engine = create_engine('db_url')\n",
    "df.sql('table_name',engine)\n",
    "```"
   ]
  },
  {
   "cell_type": "markdown",
   "metadata": {},
   "source": [
    "3. Escribe un programa Pandas para seleccionar filas donde el valor de la columna \"amount\" sea mayor que 4."
   ]
  },
  {
   "cell_type": "markdown",
   "metadata": {},
   "source": [
    "4. Escribe un programa Pandas para seleccionar solo las columnas \"checknumber\" y \"paymentdate\" del DataFrame."
   ]
  },
  {
   "cell_type": "markdown",
   "metadata": {},
   "source": [
    "5. Escribe un programa Pandas para definir un MultiIndex (multi-índice: varios índices para cada fila), basados en 2 columnas, para:\n",
    "- acceder a datos específicos mediante él\n",
    "- segmentar el DataFrame en función de los niveles de MultiIndex."
   ]
  },
  {
   "cell_type": "markdown",
   "metadata": {},
   "source": [
    "5. Escribe un programa Pandas para seleccionar las primeras tres filas usando iloc."
   ]
  },
  {
   "cell_type": "markdown",
   "metadata": {},
   "source": [
    "6. Escribe un programa Pandas para usar loc para seleccionar filas aplicando una condición dada en 2 columas."
   ]
  },
  {
   "cell_type": "markdown",
   "metadata": {},
   "source": [
    "7. Escribe un programa Pandas que utilice loc para cambiar en el valor de amount de las filas que cumplan con una condición.\n"
   ]
  },
  {
   "cell_type": "markdown",
   "metadata": {},
   "source": [
    "8. Escribe un programa Pandas que utilice .loc para dividir un DataFrame en función de las etiquetas de filas y columnas."
   ]
  },
  {
   "cell_type": "markdown",
   "metadata": {},
   "source": [
    "9. Escribe un programa Pandas que utilice .loc para segmentar un DataFrame multi-índice."
   ]
  }
 ],
 "metadata": {
  "kernelspec": {
   "display_name": "Python 3",
   "language": "python",
   "name": "python3"
  },
  "language_info": {
   "codemirror_mode": {
    "name": "ipython",
    "version": 3
   },
   "file_extension": ".py",
   "mimetype": "text/x-python",
   "name": "python",
   "nbconvert_exporter": "python",
   "pygments_lexer": "ipython3",
   "version": "3.12.4"
  }
 },
 "nbformat": 4,
 "nbformat_minor": 2
}
