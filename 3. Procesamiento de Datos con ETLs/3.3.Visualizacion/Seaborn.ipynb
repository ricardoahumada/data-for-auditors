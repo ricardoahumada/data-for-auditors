{
 "cells": [
  {
   "cell_type": "code",
   "execution_count": null,
   "id": "ff196e3b",
   "metadata": {},
   "outputs": [],
   "source": [
    "# Pandas for managing datasets\n",
    "import pandas as pd\n",
    "\n",
    "# Matplotlib for additional customization\n",
    "from matplotlib import pyplot as plt\n",
    "%matplotlib inline\n",
    "\n",
    "# Seaborn for plotting and styling\n",
    "import seaborn as sns\n"
   ]
  },
  {
   "cell_type": "code",
   "execution_count": null,
   "id": "378078ed",
   "metadata": {},
   "outputs": [],
   "source": [
    "# Read dataset\n",
    "df = pd.read_csv('Pokemon.csv', index_col=0, encoding='latin')"
   ]
  },
  {
   "cell_type": "code",
   "execution_count": null,
   "id": "e9489510",
   "metadata": {},
   "outputs": [],
   "source": [
    "# Display first 5 observations\n",
    "df.head()"
   ]
  },
  {
   "cell_type": "markdown",
   "id": "0a453da8",
   "metadata": {},
   "source": [
    "# Seaborn’s Plotting Functions\n",
    "One of Seaborn’s greatest strengths is its diversity of plotting functions. For instance, making a scatter plot is just one line of code using the `lmplot()` function.\n",
    "\n",
    "There are two ways you can do so.\n",
    "\n",
    "- The first way (recommended) is to pass your DataFrame to the data= argument, while passing column names to the axes arguments, x= and y=.\n",
    "- The second way is to directly pass in Series of data to the axes arguments.\n"
   ]
  },
  {
   "cell_type": "code",
   "execution_count": null,
   "id": "762fc4fe",
   "metadata": {},
   "outputs": [],
   "source": [
    "# Recommended way\n",
    "sns.lmplot(x='Attack', y='Defense', data=df)"
   ]
  },
  {
   "cell_type": "code",
   "execution_count": null,
   "id": "f88a9e10",
   "metadata": {},
   "outputs": [],
   "source": [
    "# Scatterplot arguments\n",
    "sns.lmplot(x='Attack', y='Defense', data=df,\n",
    "           fit_reg=False, # No regression line\n",
    "           hue='Stage')   # Color by evolution stage"
   ]
  },
  {
   "cell_type": "code",
   "execution_count": null,
   "id": "bf6b2a1c",
   "metadata": {},
   "outputs": [],
   "source": [
    "# Recommended way\n",
    "sns.scatterplot(x='Attack', y='Defense', data=df, hue='Stage')"
   ]
  },
  {
   "cell_type": "markdown",
   "id": "770e0c8c",
   "metadata": {},
   "source": [
    "# Customizing with Matplotlib\n",
    "1. First, invoke your Seaborn plotting function as normal.\n",
    "2. Then, invoke Matplotlib’s customization functions. In this case, we’ll use its ylim() and xlim() functions."
   ]
  },
  {
   "cell_type": "code",
   "execution_count": null,
   "id": "03186ff3",
   "metadata": {},
   "outputs": [],
   "source": [
    "# Plot using Seaborn\n",
    "sns.lmplot(x='Attack', y='Defense', data=df,\n",
    "           fit_reg=False,\n",
    "           hue='Stage')\n",
    " \n",
    "# Tweak using Matplotlib\n",
    "plt.xlim(0, 160)\n",
    "plt.ylim(0, 200)"
   ]
  },
  {
   "cell_type": "markdown",
   "id": "6cced31f",
   "metadata": {},
   "source": [
    "# The Role of Pandas\n",
    " Seaborn’s plotting functions benefit from a base DataFrame that’s reasonably formatted.\n",
    "\n",
    "For example, let’s say we wanted to make a box plot for our Pokémon’s combat stats (we’ll also run the code plt.figure(figsize=(9,6)) to make the plot larger and more legible):"
   ]
  },
  {
   "cell_type": "code",
   "execution_count": null,
   "id": "88ef421b",
   "metadata": {},
   "outputs": [],
   "source": [
    "# Boxplot\n",
    "plt.figure(figsize=(9,6)) # Set plot dimensions\n",
    "sns.boxplot(data=df)"
   ]
  },
  {
   "cell_type": "code",
   "execution_count": null,
   "id": "db8e1274",
   "metadata": {},
   "outputs": [],
   "source": [
    "# Preprocess DataFrame\n",
    "stats_df = df.drop(['Total', 'Stage', 'Legendary'], axis=1)\n",
    " \n",
    "# New boxplot using stats_df\n",
    "plt.figure(figsize=(9,6)) # Set plot dimensions\n",
    "sns.boxplot(data=stats_df)"
   ]
  },
  {
   "cell_type": "markdown",
   "id": "7dfe6d9d",
   "metadata": {},
   "source": [
    "# Seaborn Themes"
   ]
  },
  {
   "cell_type": "code",
   "execution_count": null,
   "id": "aff5f232",
   "metadata": {},
   "outputs": [],
   "source": [
    "# Set theme\n",
    "sns.set_style('darkgrid')\n",
    " \n",
    "# Violin plot\n",
    "plt.figure(figsize=(12,8)) # Set plot dimensions\n",
    "sns.violinplot(x='Type 1', y='Attack', data=df)"
   ]
  },
  {
   "cell_type": "markdown",
   "id": "8f6cc614",
   "metadata": {},
   "source": [
    "# Color Palettes"
   ]
  },
  {
   "cell_type": "code",
   "execution_count": null,
   "id": "769b6fb9",
   "metadata": {},
   "outputs": [],
   "source": [
    "pkmn_type_colors = ['#78C850',  # Grass\n",
    "                    '#F08030',  # Fire\n",
    "                    '#6890F0',  # Water\n",
    "                    '#A8B820',  # Bug\n",
    "                    '#A8A878',  # Normal\n",
    "                    '#A040A0',  # Poison\n",
    "                    '#F8D030',  # Electric\n",
    "                    '#E0C068',  # Ground\n",
    "                    '#EE99AC',  # Fairy\n",
    "                    '#C03028',  # Fighting\n",
    "                    '#F85888',  # Psychic\n",
    "                    '#B8A038',  # Rock\n",
    "                    '#705898',  # Ghost\n",
    "                    '#98D8D8',  # Ice\n",
    "                    '#7038F8',  # Dragon\n",
    "                   ]"
   ]
  },
  {
   "cell_type": "code",
   "execution_count": null,
   "id": "70b7ed42",
   "metadata": {},
   "outputs": [],
   "source": [
    "# Violin plot with Pokemon color palette\n",
    "plt.figure(figsize=(11,6)) # Set plot dimensions\n",
    "\n",
    "sns.violinplot(x='Type 1', y='Attack', data=df, palette=pkmn_type_colors) # Set color palette"
   ]
  },
  {
   "cell_type": "code",
   "execution_count": null,
   "id": "38e2b84e",
   "metadata": {},
   "outputs": [],
   "source": [
    "# since we only have 151 Pokémon in our dataset, we may want to simply display each point.\n",
    "\n",
    "# Swarm plot with Pokemon color palette\n",
    "plt.figure(figsize=(11,6)) # Set plot dimensions\n",
    "sns.swarmplot(x='Type 1', y='Attack', data=df, palette=pkmn_type_colors, hue='Stage')"
   ]
  },
  {
   "cell_type": "markdown",
   "id": "5ae62868",
   "metadata": {},
   "source": [
    "# Overlaying Plots\n",
    "1. First, we’ll make our figure larger using Matplotlib.\n",
    "2. Then, we’ll plot the violin plot. However, we’ll set inner=None to remove the bars inside the violins.\n",
    "3. Next, we’ll plot the swarm plot. This time, we’ll make the points black so they pop out more.\n",
    "4. Finally, we’ll set a title using Matplotlib."
   ]
  },
  {
   "cell_type": "code",
   "execution_count": null,
   "id": "c83ddf89",
   "metadata": {},
   "outputs": [],
   "source": [
    "# Set figure size with matplotlib\n",
    "plt.figure(figsize=(11,4))\n",
    " \n",
    "# Create plot\n",
    "sns.violinplot(x='Type 1',\n",
    "               y='Attack', \n",
    "               data=df, \n",
    "               inner=None, # Remove the bars inside the violins\n",
    "               palette=pkmn_type_colors)\n",
    " \n",
    "sns.swarmplot(x='Type 1', \n",
    "              y='Attack', \n",
    "              data=df, \n",
    "              color='k', # Make points black\n",
    "              alpha=0.7) # and slightly transparent\n",
    " \n",
    "# Set title with matplotlib\n",
    "plt.title('Attack by Type')"
   ]
  },
  {
   "cell_type": "markdown",
   "id": "36c0cac1",
   "metadata": {},
   "source": [
    "# Putting It All Together"
   ]
  },
  {
   "cell_type": "code",
   "execution_count": null,
   "id": "69d05626",
   "metadata": {},
   "outputs": [],
   "source": [
    "stats_df.head()"
   ]
  },
  {
   "cell_type": "code",
   "execution_count": null,
   "id": "68ac9ed1",
   "metadata": {},
   "outputs": [],
   "source": [
    "# Melt DataFrame\n",
    "melted_df = pd.melt(stats_df, \n",
    "                    id_vars=[\"Name\", \"Type 1\", \"Type 2\"], # Variables to keep\n",
    "                    var_name=\"Stat\") # Name of melted variable\n",
    "melted_df.head()"
   ]
  },
  {
   "cell_type": "code",
   "execution_count": null,
   "id": "61fa6f8f",
   "metadata": {},
   "outputs": [],
   "source": [
    "# print the shape of these two DataFrames\n",
    "print( stats_df.shape )\n",
    "print( melted_df.shape )"
   ]
  },
  {
   "cell_type": "markdown",
   "id": "857f521b",
   "metadata": {},
   "source": [
    "Now we can make a swarm plot with melted_df.\n",
    "\n",
    "- This time, we’re going to set x='Stat' and y='value' so our swarms are separated by stat.\n",
    "- Then, we’ll set hue='Type 1' to color our points by the Pokémon type."
   ]
  },
  {
   "cell_type": "code",
   "execution_count": null,
   "id": "f1967562",
   "metadata": {},
   "outputs": [],
   "source": [
    "# Swarmplot with melted_df\n",
    "sns.swarmplot(x='Stat', y='value', data=melted_df, hue='Type 1', legend='brief')"
   ]
  },
  {
   "cell_type": "markdown",
   "id": "a9db9014",
   "metadata": {},
   "source": [
    "Finally, let’s make a few final tweaks for a more readable chart:\n",
    "1. Enlarge the plot.\n",
    "2. Separate points by hue using the argument dodge=True .\n",
    "3. Use our custom Pokemon color palette.\n",
    "4. Adjust the y-axis limits to end at 0.\n",
    "5. Plce the legend to the right."
   ]
  },
  {
   "cell_type": "code",
   "execution_count": null,
   "id": "c559f08e",
   "metadata": {},
   "outputs": [],
   "source": [
    "# 1. Enlarge the plot\n",
    "plt.figure(figsize=(12,8))\n",
    " \n",
    "sns.swarmplot(x='Stat', \n",
    "              y='value', \n",
    "              data=melted_df, \n",
    "              hue='Type 1', \n",
    "              dodge=True, # 2. Separate points by hue\n",
    "              palette=pkmn_type_colors) # 3. Use Pokemon palette\n",
    " \n",
    "# 4. Adjust the y-axis\n",
    "plt.ylim(0, 260)\n",
    " \n",
    "# 5. Place legend to the right\n",
    "plt.legend(bbox_to_anchor=(1, 1), loc=2)"
   ]
  },
  {
   "cell_type": "markdown",
   "id": "94e3d36e",
   "metadata": {},
   "source": [
    "# Pokédex (Mini-Gallery)"
   ]
  },
  {
   "cell_type": "markdown",
   "id": "e113ec10",
   "metadata": {},
   "source": [
    "**Heatmap**\n",
    "\n",
    "Heatmaps help you visualize matrix-like data."
   ]
  },
  {
   "cell_type": "code",
   "execution_count": null,
   "id": "da2860f8",
   "metadata": {},
   "outputs": [],
   "source": [
    "# Calculate correlations\n",
    "corr = stats_df.corr()\n",
    " \n",
    "# Heatmap\n",
    "plt.figure(figsize=(9,8))\n",
    "sns.heatmap(corr)"
   ]
  },
  {
   "cell_type": "markdown",
   "id": "6433f884",
   "metadata": {},
   "source": [
    "**Histogram**\n",
    "\n",
    "Histograms allow you to plot the distributions of numeric variables."
   ]
  },
  {
   "cell_type": "code",
   "execution_count": null,
   "id": "b8685fdd",
   "metadata": {},
   "outputs": [],
   "source": [
    "# Distribution Plot (a.k.a. Histogram)\n",
    "plt.figure(figsize=(9,6))\n",
    "sns.histplot(df, x='Attack',\n",
    "             kde=True) # Plot the density curve too"
   ]
  },
  {
   "cell_type": "markdown",
   "id": "11e02d9c",
   "metadata": {},
   "source": [
    "**Bar Plot**\n",
    "\n",
    "Bar plots help you visualize the distributions of categorical variables."
   ]
  },
  {
   "cell_type": "code",
   "execution_count": null,
   "id": "13bd962d",
   "metadata": {},
   "outputs": [],
   "source": [
    "df.head()"
   ]
  },
  {
   "cell_type": "code",
   "execution_count": null,
   "id": "7050f0eb",
   "metadata": {},
   "outputs": [],
   "source": [
    "df.groupby(['Type 1']).count()"
   ]
  },
  {
   "cell_type": "code",
   "execution_count": null,
   "id": "b65e16bf",
   "metadata": {},
   "outputs": [],
   "source": [
    "# Count Plot (a.k.a. Bar Plot)\n",
    "plt.figure(figsize=(9,6))\n",
    "sns.countplot(x='Type 1', data=df, palette=pkmn_type_colors)\n",
    " \n",
    "# Rotate x-labels\n",
    "plt.xticks(rotation=-45)"
   ]
  },
  {
   "cell_type": "markdown",
   "id": "aa5ebad9",
   "metadata": {},
   "source": [
    "**CatPlot (Categorical Plot)**\n",
    "\n",
    "CatPlots make it easy to separate plots by categorical classes."
   ]
  },
  {
   "cell_type": "code",
   "execution_count": null,
   "id": "97e0b287",
   "metadata": {},
   "outputs": [],
   "source": [
    "# Categorical Plot\n",
    "g = sns.catplot(x='Type 1', \n",
    "                   y='Attack', \n",
    "                   data=df, \n",
    "                   hue='Stage',  # Color by stage\n",
    "                   col='Stage',  # Separate by stage\n",
    "                   kind='swarm') # Swarmplot\n",
    " \n",
    "# Rotate x-axis labels\n",
    "g.set_xticklabels(rotation=-45)\n",
    " \n",
    "# Doesn't work because only rotates last plot\n",
    "# plt.xticks(rotation=-45) "
   ]
  },
  {
   "cell_type": "markdown",
   "id": "5c322482",
   "metadata": {},
   "source": [
    "**Density Plot**\n",
    "Density plots display the distribution between two variables.\n",
    ">Tip: Consider overlaying this with a scatter plot."
   ]
  },
  {
   "cell_type": "code",
   "execution_count": null,
   "id": "9bf8a781",
   "metadata": {},
   "outputs": [],
   "source": [
    "# Density Plot\n",
    "sns.kdeplot(x='Attack', y='Defense', data=df)"
   ]
  },
  {
   "cell_type": "markdown",
   "id": "bb2df831",
   "metadata": {},
   "source": [
    "**Joint Distribution Plot**\n",
    "\n",
    "Joint distribution plots combine information from scatter plots and histograms to give you detailed information for bi-variate distributions."
   ]
  },
  {
   "cell_type": "code",
   "execution_count": null,
   "id": "bc4effde",
   "metadata": {},
   "outputs": [],
   "source": [
    "# Joint Distribution Plot\n",
    "sns.jointplot(x='Attack', y='Defense', data=df)"
   ]
  }
 ],
 "metadata": {
  "kernelspec": {
   "display_name": "Python 3",
   "language": "python",
   "name": "python3"
  },
  "language_info": {
   "codemirror_mode": {
    "name": "ipython",
    "version": 3
   },
   "file_extension": ".py",
   "mimetype": "text/x-python",
   "name": "python",
   "nbconvert_exporter": "python",
   "pygments_lexer": "ipython3",
   "version": "3.12.4"
  }
 },
 "nbformat": 4,
 "nbformat_minor": 5
}
