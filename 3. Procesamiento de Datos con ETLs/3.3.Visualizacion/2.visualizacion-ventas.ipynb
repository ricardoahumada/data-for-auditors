{
  "cells": [
    {
      "cell_type": "markdown",
      "metadata": {},
      "source": [
        "# Visualización de Datos con Seaborn - Tabla `sales`"
      ]
    },
    {
      "cell_type": "code",
      "execution_count": null,
      "metadata": {},
      "outputs": [],
      "source": [
        "# Importar librerías necesarias\n",
        "import pandas as pd\n",
        "import numpy as np\n",
        "import matplotlib.pyplot as plt\n",
        "import seaborn as sns\n",
        "\n",
        "# Configurar estilo\n",
        "sns.set(style='whitegrid')"
      ]
    },
    {
      "cell_type": "code",
      "execution_count": null,
      "metadata": {},
      "outputs": [],
      "source": [
        "# Cargar los datos limpios del análisis anterior\n",
        "df = pd.read_csv('./output/ventas_limpias.csv')\n",
        "\n",
        "# Convertir fechas al tipo datetime\n",
        "df['orderdate'] = pd.to_datetime(df['orderdate'])\n",
        "df['shippeddate'] = pd.to_datetime(df['shippeddate'])\n",
        "df['requireddate'] = pd.to_datetime(df['requireddate'])"
      ]
    },
    {
      "cell_type": "markdown",
      "metadata": {},
      "source": [
        "## 1. Ventas Totales por Estado del Pedido (`status`)"
      ]
    },
    {
      "cell_type": "code",
      "execution_count": null,
      "metadata": {},
      "outputs": [],
      "source": [
        "plt.figure(figsize=(10,6))\n",
        "sns.countplot(data=df, x='status', order=df['status'].value_counts().index)\n",
        "plt.title('Distribución de Estados de Pedidos')\n",
        "plt.xticks(rotation=45)\n",
        "plt.xlabel('Estado del Pedido')\n",
        "plt.ylabel('Cantidad')\n",
        "plt.tight_layout()\n",
        "plt.show()"
      ]
    },
    {
      "cell_type": "markdown",
      "metadata": {},
      "source": [
        "## 2. Top 10 Productos por Ventas Totales"
      ]
    },
    {
      "cell_type": "code",
      "execution_count": null,
      "metadata": {},
      "outputs": [],
      "source": [
        "# Calcular ventas por producto\n",
        "ventas_por_producto = df.groupby('productcode')['sales_amount'].sum().sort_values(ascending=False).head(10)\n",
        "\n",
        "plt.figure(figsize=(12,6))\n",
        "sns.barplot(x=ventas_por_producto.values, y=ventas_por_producto.index, palette='viridis')\n",
        "plt.title('Top 10 Productos por Ventas Totales')\n",
        "plt.xlabel('Ventas Totales ($)')\n",
        "plt.ylabel('Código de Producto')\n",
        "plt.tight_layout()\n",
        "plt.show()"
      ]
    },
    {
      "cell_type": "markdown",
      "metadata": {},
      "source": [
        "## 3. Tendencia Mensual de Ventas"
      ]
    },
    {
      "cell_type": "code",
      "execution_count": null,
      "metadata": {},
      "outputs": [],
      "source": [
        "df['orderdate']"
      ]
    },
    {
      "cell_type": "code",
      "execution_count": null,
      "metadata": {},
      "outputs": [],
      "source": [
        "# Agrupar por mes\n",
        "df_monthly = df.resample('ME', on='orderdate')['sales_amount'].sum().reset_index()"
      ]
    },
    {
      "cell_type": "code",
      "execution_count": null,
      "metadata": {},
      "outputs": [],
      "source": [
        "\n",
        "plt.figure(figsize=(12,6))\n",
        "sns.lineplot(data=df_monthly, x='orderdate', y='sales_amount', marker='o')\n",
        "plt.title('Tendencia Mensual de Ventas')\n",
        "plt.xlabel('Fecha')\n",
        "plt.ylabel('Ventas Totales ($)')\n",
        "plt.grid(True)\n",
        "plt.tight_layout()\n",
        "plt.show()"
      ]
    },
    {
      "cell_type": "markdown",
      "metadata": {},
      "source": [
        "## 4. Distribución de Precios Unitarios"
      ]
    },
    {
      "cell_type": "code",
      "execution_count": null,
      "metadata": {},
      "outputs": [],
      "source": [
        "plt.figure(figsize=(10,6))\n",
        "sns.histplot(df['priceeach'], bins=30, kde=True, color='blue')\n",
        "plt.title('Distribución de Precios Unitarios')\n",
        "plt.xlabel('Precio ($)')\n",
        "plt.ylabel('Frecuencia')\n",
        "plt.grid(True, alpha=0.3)\n",
        "plt.tight_layout()\n",
        "plt.show()"
      ]
    },
    {
      "cell_type": "markdown",
      "metadata": {},
      "source": [
        "## 5. Boxplot de Cantidad Vendida por Línea de Pedido"
      ]
    },
    {
      "cell_type": "code",
      "execution_count": null,
      "metadata": {},
      "outputs": [],
      "source": [
        "plt.figure(figsize=(10,6))\n",
        "sns.boxplot(x=df['quantityordered'])\n",
        "plt.title('Distribución de Cantidades Vendidas por Línea')\n",
        "plt.xlabel('Cantidad Vendida')\n",
        "plt.tight_layout()\n",
        "plt.show()"
      ]
    },
    {
      "cell_type": "markdown",
      "metadata": {},
      "source": [
        "## 6. Tiempo de Envío por Estado del Pedido"
      ]
    },
    {
      "cell_type": "code",
      "execution_count": null,
      "metadata": {},
      "outputs": [],
      "source": [
        "# Filtrar pedidos enviados\n",
        "df_shipped = df[df['status'] == 'Shipped']\n",
        "\n",
        "plt.figure(figsize=(12,6))\n",
        "sns.barplot(data=df_shipped, x='status', y='days_to_ship', estimator=np.mean, errorbar=None, palette='muted', hue='status')\n",
        "plt.title('Tiempo Promedio de Envío por Estado')\n",
        "plt.xlabel('Estado del Pedido')\n",
        "plt.ylabel('Días promedio hasta envío')\n",
        "plt.grid(True, axis='y')\n",
        "plt.tight_layout()\n",
        "plt.show()"
      ]
    },
    {
      "cell_type": "markdown",
      "metadata": {},
      "source": [
        "## 7. Relación entre Precio y Cantidad Vendida"
      ]
    },
    {
      "cell_type": "code",
      "execution_count": null,
      "metadata": {},
      "outputs": [],
      "source": [
        "plt.figure(figsize=(10,6))\n",
        "sns.scatterplot(data=df, x='priceeach', y='quantityordered', alpha=0.6)\n",
        "plt.title('Relación entre Precio y Cantidad Vendida')\n",
        "plt.xlabel('Precio Unitario ($)')\n",
        "plt.ylabel('Cantidad Vendida')\n",
        "plt.grid(True)\n",
        "plt.tight_layout()\n",
        "plt.show()"
      ]
    }
  ],
  "metadata": {
    "kernelspec": {
      "display_name": "Python 3",
      "language": "python",
      "name": "python3"
    },
    "language_info": {
      "codemirror_mode": {
        "name": "ipython",
        "version": 3
      },
      "file_extension": ".py",
      "mimetype": "text/x-python",
      "name": "python",
      "nbconvert_exporter": "python",
      "pygments_lexer": "ipython3",
      "version": "3.12.4"
    }
  },
  "nbformat": 4,
  "nbformat_minor": 4
}
