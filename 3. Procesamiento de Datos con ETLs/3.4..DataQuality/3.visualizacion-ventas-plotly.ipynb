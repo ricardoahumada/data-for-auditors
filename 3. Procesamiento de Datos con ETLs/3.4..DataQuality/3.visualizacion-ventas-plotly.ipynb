{
  "cells": [
    {
      "cell_type": "markdown",
      "metadata": {},
      "source": [
        "# Visualizaciones Interactivas con Plotly - Tabla `sales`"
      ]
    },
    {
      "cell_type": "code",
      "execution_count": null,
      "metadata": {},
      "outputs": [],
      "source": [
        "# !pip install plotly"
      ]
    },
    {
      "cell_type": "code",
      "execution_count": 2,
      "metadata": {},
      "outputs": [],
      "source": [
        "# Importar librerías necesarias\n",
        "import pandas as pd\n",
        "import plotly.express as px\n",
        "import plotly.graph_objects as go"
      ]
    },
    {
      "cell_type": "code",
      "execution_count": 3,
      "metadata": {},
      "outputs": [],
      "source": [
        "# Cargar los datos limpios del análisis anterior\n",
        "df = pd.read_csv('./output/ventas_limpias.csv')\n",
        "\n",
        "# Convertir fechas al tipo datetime\n",
        "df['orderdate'] = pd.to_datetime(df['orderdate'])"
      ]
    },
    {
      "cell_type": "markdown",
      "metadata": {},
      "source": [
        "## 1. Ventas Totales por Estado del Pedido (`status`)"
      ]
    },
    {
      "cell_type": "code",
      "execution_count": 4,
      "metadata": {},
      "outputs": [
        {
          "data": {
            "application/vnd.plotly.v1+json": {
              "config": {
                "plotlyServerURL": "https://plot.ly"
              },
              "data": [
                {
                  "hovertemplate": "Estado=%{x}<br>Cantidad=%{y}<extra></extra>",
                  "legendgroup": "",
                  "marker": {
                    "color": "#636efa",
                    "pattern": {
                      "shape": ""
                    }
                  },
                  "name": "",
                  "orientation": "v",
                  "showlegend": false,
                  "textposition": "auto",
                  "type": "bar",
                  "x": [
                    "Shipped",
                    "Cancelled",
                    "Resolved",
                    "On Hold",
                    "In Process",
                    "Disputed"
                  ],
                  "xaxis": "x",
                  "y": {
                    "bdata": "SgpPAC8ALAApAA4A",
                    "dtype": "i2"
                  },
                  "yaxis": "y"
                }
              ],
              "layout": {
                "barmode": "relative",
                "legend": {
                  "tracegroupgap": 0
                },
                "template": {
                  "data": {
                    "bar": [
                      {
                        "error_x": {
                          "color": "#2a3f5f"
                        },
                        "error_y": {
                          "color": "#2a3f5f"
                        },
                        "marker": {
                          "line": {
                            "color": "#E5ECF6",
                            "width": 0.5
                          },
                          "pattern": {
                            "fillmode": "overlay",
                            "size": 10,
                            "solidity": 0.2
                          }
                        },
                        "type": "bar"
                      }
                    ],
                    "barpolar": [
                      {
                        "marker": {
                          "line": {
                            "color": "#E5ECF6",
                            "width": 0.5
                          },
                          "pattern": {
                            "fillmode": "overlay",
                            "size": 10,
                            "solidity": 0.2
                          }
                        },
                        "type": "barpolar"
                      }
                    ],
                    "carpet": [
                      {
                        "aaxis": {
                          "endlinecolor": "#2a3f5f",
                          "gridcolor": "white",
                          "linecolor": "white",
                          "minorgridcolor": "white",
                          "startlinecolor": "#2a3f5f"
                        },
                        "baxis": {
                          "endlinecolor": "#2a3f5f",
                          "gridcolor": "white",
                          "linecolor": "white",
                          "minorgridcolor": "white",
                          "startlinecolor": "#2a3f5f"
                        },
                        "type": "carpet"
                      }
                    ],
                    "choropleth": [
                      {
                        "colorbar": {
                          "outlinewidth": 0,
                          "ticks": ""
                        },
                        "type": "choropleth"
                      }
                    ],
                    "contour": [
                      {
                        "colorbar": {
                          "outlinewidth": 0,
                          "ticks": ""
                        },
                        "colorscale": [
                          [
                            0,
                            "#0d0887"
                          ],
                          [
                            0.1111111111111111,
                            "#46039f"
                          ],
                          [
                            0.2222222222222222,
                            "#7201a8"
                          ],
                          [
                            0.3333333333333333,
                            "#9c179e"
                          ],
                          [
                            0.4444444444444444,
                            "#bd3786"
                          ],
                          [
                            0.5555555555555556,
                            "#d8576b"
                          ],
                          [
                            0.6666666666666666,
                            "#ed7953"
                          ],
                          [
                            0.7777777777777778,
                            "#fb9f3a"
                          ],
                          [
                            0.8888888888888888,
                            "#fdca26"
                          ],
                          [
                            1,
                            "#f0f921"
                          ]
                        ],
                        "type": "contour"
                      }
                    ],
                    "contourcarpet": [
                      {
                        "colorbar": {
                          "outlinewidth": 0,
                          "ticks": ""
                        },
                        "type": "contourcarpet"
                      }
                    ],
                    "heatmap": [
                      {
                        "colorbar": {
                          "outlinewidth": 0,
                          "ticks": ""
                        },
                        "colorscale": [
                          [
                            0,
                            "#0d0887"
                          ],
                          [
                            0.1111111111111111,
                            "#46039f"
                          ],
                          [
                            0.2222222222222222,
                            "#7201a8"
                          ],
                          [
                            0.3333333333333333,
                            "#9c179e"
                          ],
                          [
                            0.4444444444444444,
                            "#bd3786"
                          ],
                          [
                            0.5555555555555556,
                            "#d8576b"
                          ],
                          [
                            0.6666666666666666,
                            "#ed7953"
                          ],
                          [
                            0.7777777777777778,
                            "#fb9f3a"
                          ],
                          [
                            0.8888888888888888,
                            "#fdca26"
                          ],
                          [
                            1,
                            "#f0f921"
                          ]
                        ],
                        "type": "heatmap"
                      }
                    ],
                    "histogram": [
                      {
                        "marker": {
                          "pattern": {
                            "fillmode": "overlay",
                            "size": 10,
                            "solidity": 0.2
                          }
                        },
                        "type": "histogram"
                      }
                    ],
                    "histogram2d": [
                      {
                        "colorbar": {
                          "outlinewidth": 0,
                          "ticks": ""
                        },
                        "colorscale": [
                          [
                            0,
                            "#0d0887"
                          ],
                          [
                            0.1111111111111111,
                            "#46039f"
                          ],
                          [
                            0.2222222222222222,
                            "#7201a8"
                          ],
                          [
                            0.3333333333333333,
                            "#9c179e"
                          ],
                          [
                            0.4444444444444444,
                            "#bd3786"
                          ],
                          [
                            0.5555555555555556,
                            "#d8576b"
                          ],
                          [
                            0.6666666666666666,
                            "#ed7953"
                          ],
                          [
                            0.7777777777777778,
                            "#fb9f3a"
                          ],
                          [
                            0.8888888888888888,
                            "#fdca26"
                          ],
                          [
                            1,
                            "#f0f921"
                          ]
                        ],
                        "type": "histogram2d"
                      }
                    ],
                    "histogram2dcontour": [
                      {
                        "colorbar": {
                          "outlinewidth": 0,
                          "ticks": ""
                        },
                        "colorscale": [
                          [
                            0,
                            "#0d0887"
                          ],
                          [
                            0.1111111111111111,
                            "#46039f"
                          ],
                          [
                            0.2222222222222222,
                            "#7201a8"
                          ],
                          [
                            0.3333333333333333,
                            "#9c179e"
                          ],
                          [
                            0.4444444444444444,
                            "#bd3786"
                          ],
                          [
                            0.5555555555555556,
                            "#d8576b"
                          ],
                          [
                            0.6666666666666666,
                            "#ed7953"
                          ],
                          [
                            0.7777777777777778,
                            "#fb9f3a"
                          ],
                          [
                            0.8888888888888888,
                            "#fdca26"
                          ],
                          [
                            1,
                            "#f0f921"
                          ]
                        ],
                        "type": "histogram2dcontour"
                      }
                    ],
                    "mesh3d": [
                      {
                        "colorbar": {
                          "outlinewidth": 0,
                          "ticks": ""
                        },
                        "type": "mesh3d"
                      }
                    ],
                    "parcoords": [
                      {
                        "line": {
                          "colorbar": {
                            "outlinewidth": 0,
                            "ticks": ""
                          }
                        },
                        "type": "parcoords"
                      }
                    ],
                    "pie": [
                      {
                        "automargin": true,
                        "type": "pie"
                      }
                    ],
                    "scatter": [
                      {
                        "fillpattern": {
                          "fillmode": "overlay",
                          "size": 10,
                          "solidity": 0.2
                        },
                        "type": "scatter"
                      }
                    ],
                    "scatter3d": [
                      {
                        "line": {
                          "colorbar": {
                            "outlinewidth": 0,
                            "ticks": ""
                          }
                        },
                        "marker": {
                          "colorbar": {
                            "outlinewidth": 0,
                            "ticks": ""
                          }
                        },
                        "type": "scatter3d"
                      }
                    ],
                    "scattercarpet": [
                      {
                        "marker": {
                          "colorbar": {
                            "outlinewidth": 0,
                            "ticks": ""
                          }
                        },
                        "type": "scattercarpet"
                      }
                    ],
                    "scattergeo": [
                      {
                        "marker": {
                          "colorbar": {
                            "outlinewidth": 0,
                            "ticks": ""
                          }
                        },
                        "type": "scattergeo"
                      }
                    ],
                    "scattergl": [
                      {
                        "marker": {
                          "colorbar": {
                            "outlinewidth": 0,
                            "ticks": ""
                          }
                        },
                        "type": "scattergl"
                      }
                    ],
                    "scattermap": [
                      {
                        "marker": {
                          "colorbar": {
                            "outlinewidth": 0,
                            "ticks": ""
                          }
                        },
                        "type": "scattermap"
                      }
                    ],
                    "scattermapbox": [
                      {
                        "marker": {
                          "colorbar": {
                            "outlinewidth": 0,
                            "ticks": ""
                          }
                        },
                        "type": "scattermapbox"
                      }
                    ],
                    "scatterpolar": [
                      {
                        "marker": {
                          "colorbar": {
                            "outlinewidth": 0,
                            "ticks": ""
                          }
                        },
                        "type": "scatterpolar"
                      }
                    ],
                    "scatterpolargl": [
                      {
                        "marker": {
                          "colorbar": {
                            "outlinewidth": 0,
                            "ticks": ""
                          }
                        },
                        "type": "scatterpolargl"
                      }
                    ],
                    "scatterternary": [
                      {
                        "marker": {
                          "colorbar": {
                            "outlinewidth": 0,
                            "ticks": ""
                          }
                        },
                        "type": "scatterternary"
                      }
                    ],
                    "surface": [
                      {
                        "colorbar": {
                          "outlinewidth": 0,
                          "ticks": ""
                        },
                        "colorscale": [
                          [
                            0,
                            "#0d0887"
                          ],
                          [
                            0.1111111111111111,
                            "#46039f"
                          ],
                          [
                            0.2222222222222222,
                            "#7201a8"
                          ],
                          [
                            0.3333333333333333,
                            "#9c179e"
                          ],
                          [
                            0.4444444444444444,
                            "#bd3786"
                          ],
                          [
                            0.5555555555555556,
                            "#d8576b"
                          ],
                          [
                            0.6666666666666666,
                            "#ed7953"
                          ],
                          [
                            0.7777777777777778,
                            "#fb9f3a"
                          ],
                          [
                            0.8888888888888888,
                            "#fdca26"
                          ],
                          [
                            1,
                            "#f0f921"
                          ]
                        ],
                        "type": "surface"
                      }
                    ],
                    "table": [
                      {
                        "cells": {
                          "fill": {
                            "color": "#EBF0F8"
                          },
                          "line": {
                            "color": "white"
                          }
                        },
                        "header": {
                          "fill": {
                            "color": "#C8D4E3"
                          },
                          "line": {
                            "color": "white"
                          }
                        },
                        "type": "table"
                      }
                    ]
                  },
                  "layout": {
                    "annotationdefaults": {
                      "arrowcolor": "#2a3f5f",
                      "arrowhead": 0,
                      "arrowwidth": 1
                    },
                    "autotypenumbers": "strict",
                    "coloraxis": {
                      "colorbar": {
                        "outlinewidth": 0,
                        "ticks": ""
                      }
                    },
                    "colorscale": {
                      "diverging": [
                        [
                          0,
                          "#8e0152"
                        ],
                        [
                          0.1,
                          "#c51b7d"
                        ],
                        [
                          0.2,
                          "#de77ae"
                        ],
                        [
                          0.3,
                          "#f1b6da"
                        ],
                        [
                          0.4,
                          "#fde0ef"
                        ],
                        [
                          0.5,
                          "#f7f7f7"
                        ],
                        [
                          0.6,
                          "#e6f5d0"
                        ],
                        [
                          0.7,
                          "#b8e186"
                        ],
                        [
                          0.8,
                          "#7fbc41"
                        ],
                        [
                          0.9,
                          "#4d9221"
                        ],
                        [
                          1,
                          "#276419"
                        ]
                      ],
                      "sequential": [
                        [
                          0,
                          "#0d0887"
                        ],
                        [
                          0.1111111111111111,
                          "#46039f"
                        ],
                        [
                          0.2222222222222222,
                          "#7201a8"
                        ],
                        [
                          0.3333333333333333,
                          "#9c179e"
                        ],
                        [
                          0.4444444444444444,
                          "#bd3786"
                        ],
                        [
                          0.5555555555555556,
                          "#d8576b"
                        ],
                        [
                          0.6666666666666666,
                          "#ed7953"
                        ],
                        [
                          0.7777777777777778,
                          "#fb9f3a"
                        ],
                        [
                          0.8888888888888888,
                          "#fdca26"
                        ],
                        [
                          1,
                          "#f0f921"
                        ]
                      ],
                      "sequentialminus": [
                        [
                          0,
                          "#0d0887"
                        ],
                        [
                          0.1111111111111111,
                          "#46039f"
                        ],
                        [
                          0.2222222222222222,
                          "#7201a8"
                        ],
                        [
                          0.3333333333333333,
                          "#9c179e"
                        ],
                        [
                          0.4444444444444444,
                          "#bd3786"
                        ],
                        [
                          0.5555555555555556,
                          "#d8576b"
                        ],
                        [
                          0.6666666666666666,
                          "#ed7953"
                        ],
                        [
                          0.7777777777777778,
                          "#fb9f3a"
                        ],
                        [
                          0.8888888888888888,
                          "#fdca26"
                        ],
                        [
                          1,
                          "#f0f921"
                        ]
                      ]
                    },
                    "colorway": [
                      "#636efa",
                      "#EF553B",
                      "#00cc96",
                      "#ab63fa",
                      "#FFA15A",
                      "#19d3f3",
                      "#FF6692",
                      "#B6E880",
                      "#FF97FF",
                      "#FECB52"
                    ],
                    "font": {
                      "color": "#2a3f5f"
                    },
                    "geo": {
                      "bgcolor": "white",
                      "lakecolor": "white",
                      "landcolor": "#E5ECF6",
                      "showlakes": true,
                      "showland": true,
                      "subunitcolor": "white"
                    },
                    "hoverlabel": {
                      "align": "left"
                    },
                    "hovermode": "closest",
                    "mapbox": {
                      "style": "light"
                    },
                    "paper_bgcolor": "white",
                    "plot_bgcolor": "#E5ECF6",
                    "polar": {
                      "angularaxis": {
                        "gridcolor": "white",
                        "linecolor": "white",
                        "ticks": ""
                      },
                      "bgcolor": "#E5ECF6",
                      "radialaxis": {
                        "gridcolor": "white",
                        "linecolor": "white",
                        "ticks": ""
                      }
                    },
                    "scene": {
                      "xaxis": {
                        "backgroundcolor": "#E5ECF6",
                        "gridcolor": "white",
                        "gridwidth": 2,
                        "linecolor": "white",
                        "showbackground": true,
                        "ticks": "",
                        "zerolinecolor": "white"
                      },
                      "yaxis": {
                        "backgroundcolor": "#E5ECF6",
                        "gridcolor": "white",
                        "gridwidth": 2,
                        "linecolor": "white",
                        "showbackground": true,
                        "ticks": "",
                        "zerolinecolor": "white"
                      },
                      "zaxis": {
                        "backgroundcolor": "#E5ECF6",
                        "gridcolor": "white",
                        "gridwidth": 2,
                        "linecolor": "white",
                        "showbackground": true,
                        "ticks": "",
                        "zerolinecolor": "white"
                      }
                    },
                    "shapedefaults": {
                      "line": {
                        "color": "#2a3f5f"
                      }
                    },
                    "ternary": {
                      "aaxis": {
                        "gridcolor": "white",
                        "linecolor": "white",
                        "ticks": ""
                      },
                      "baxis": {
                        "gridcolor": "white",
                        "linecolor": "white",
                        "ticks": ""
                      },
                      "bgcolor": "#E5ECF6",
                      "caxis": {
                        "gridcolor": "white",
                        "linecolor": "white",
                        "ticks": ""
                      }
                    },
                    "title": {
                      "x": 0.05
                    },
                    "xaxis": {
                      "automargin": true,
                      "gridcolor": "white",
                      "linecolor": "white",
                      "ticks": "",
                      "title": {
                        "standoff": 15
                      },
                      "zerolinecolor": "white",
                      "zerolinewidth": 2
                    },
                    "yaxis": {
                      "automargin": true,
                      "gridcolor": "white",
                      "linecolor": "white",
                      "ticks": "",
                      "title": {
                        "standoff": 15
                      },
                      "zerolinecolor": "white",
                      "zerolinewidth": 2
                    }
                  }
                },
                "title": {
                  "text": "Distribución de Estados de Pedidos"
                },
                "xaxis": {
                  "anchor": "y",
                  "domain": [
                    0,
                    1
                  ],
                  "title": {
                    "text": "Estado"
                  }
                },
                "yaxis": {
                  "anchor": "x",
                  "domain": [
                    0,
                    1
                  ],
                  "title": {
                    "text": "Cantidad"
                  }
                }
              }
            }
          },
          "metadata": {},
          "output_type": "display_data"
        }
      ],
      "source": [
        "# Conteo de estados\n",
        "status_counts = df['status'].value_counts().reset_index()\n",
        "status_counts.columns = ['status', 'count']\n",
        "\n",
        "# Gráfico interactivo\n",
        "fig = px.bar(status_counts, x='status', y='count', title='Distribución de Estados de Pedidos', labels={'count': 'Cantidad', 'status': 'Estado'})\n",
        "fig.show()"
      ]
    },
    {
      "cell_type": "markdown",
      "metadata": {},
      "source": [
        "## 2. Top 10 Productos por Ventas Totales"
      ]
    },
    {
      "cell_type": "code",
      "execution_count": 5,
      "metadata": {},
      "outputs": [
        {
          "data": {
            "application/vnd.plotly.v1+json": {
              "config": {
                "plotlyServerURL": "https://plot.ly"
              },
              "data": [
                {
                  "hovertemplate": "productcode=%{x}<br>Ventas Totales ($)=%{y}<extra></extra>",
                  "legendgroup": "",
                  "marker": {
                    "color": "#636efa",
                    "pattern": {
                      "shape": ""
                    }
                  },
                  "name": "",
                  "orientation": "v",
                  "showlegend": false,
                  "textposition": "auto",
                  "type": "bar",
                  "x": [
                    "S18_3232",
                    "S12_1108",
                    "S10_1949",
                    "S10_4698",
                    "S12_1099",
                    "S18_1749",
                    "S18_2238",
                    "S12_3891",
                    "S12_2823",
                    "S18_1662"
                  ],
                  "xaxis": "x",
                  "y": {
                    "bdata": "61G4HnV0EEHsUbgeP5gFQcL1KFwHgAVBSOF6FCQzA0FSuB6FTw0DQc3MzMy8JwFBhetRuGjsAEFcj8L1uLYAQdejcD24kgBBXI/C9eJjAEE=",
                    "dtype": "f8"
                  },
                  "yaxis": "y"
                }
              ],
              "layout": {
                "barmode": "relative",
                "legend": {
                  "tracegroupgap": 0
                },
                "template": {
                  "data": {
                    "bar": [
                      {
                        "error_x": {
                          "color": "#2a3f5f"
                        },
                        "error_y": {
                          "color": "#2a3f5f"
                        },
                        "marker": {
                          "line": {
                            "color": "#E5ECF6",
                            "width": 0.5
                          },
                          "pattern": {
                            "fillmode": "overlay",
                            "size": 10,
                            "solidity": 0.2
                          }
                        },
                        "type": "bar"
                      }
                    ],
                    "barpolar": [
                      {
                        "marker": {
                          "line": {
                            "color": "#E5ECF6",
                            "width": 0.5
                          },
                          "pattern": {
                            "fillmode": "overlay",
                            "size": 10,
                            "solidity": 0.2
                          }
                        },
                        "type": "barpolar"
                      }
                    ],
                    "carpet": [
                      {
                        "aaxis": {
                          "endlinecolor": "#2a3f5f",
                          "gridcolor": "white",
                          "linecolor": "white",
                          "minorgridcolor": "white",
                          "startlinecolor": "#2a3f5f"
                        },
                        "baxis": {
                          "endlinecolor": "#2a3f5f",
                          "gridcolor": "white",
                          "linecolor": "white",
                          "minorgridcolor": "white",
                          "startlinecolor": "#2a3f5f"
                        },
                        "type": "carpet"
                      }
                    ],
                    "choropleth": [
                      {
                        "colorbar": {
                          "outlinewidth": 0,
                          "ticks": ""
                        },
                        "type": "choropleth"
                      }
                    ],
                    "contour": [
                      {
                        "colorbar": {
                          "outlinewidth": 0,
                          "ticks": ""
                        },
                        "colorscale": [
                          [
                            0,
                            "#0d0887"
                          ],
                          [
                            0.1111111111111111,
                            "#46039f"
                          ],
                          [
                            0.2222222222222222,
                            "#7201a8"
                          ],
                          [
                            0.3333333333333333,
                            "#9c179e"
                          ],
                          [
                            0.4444444444444444,
                            "#bd3786"
                          ],
                          [
                            0.5555555555555556,
                            "#d8576b"
                          ],
                          [
                            0.6666666666666666,
                            "#ed7953"
                          ],
                          [
                            0.7777777777777778,
                            "#fb9f3a"
                          ],
                          [
                            0.8888888888888888,
                            "#fdca26"
                          ],
                          [
                            1,
                            "#f0f921"
                          ]
                        ],
                        "type": "contour"
                      }
                    ],
                    "contourcarpet": [
                      {
                        "colorbar": {
                          "outlinewidth": 0,
                          "ticks": ""
                        },
                        "type": "contourcarpet"
                      }
                    ],
                    "heatmap": [
                      {
                        "colorbar": {
                          "outlinewidth": 0,
                          "ticks": ""
                        },
                        "colorscale": [
                          [
                            0,
                            "#0d0887"
                          ],
                          [
                            0.1111111111111111,
                            "#46039f"
                          ],
                          [
                            0.2222222222222222,
                            "#7201a8"
                          ],
                          [
                            0.3333333333333333,
                            "#9c179e"
                          ],
                          [
                            0.4444444444444444,
                            "#bd3786"
                          ],
                          [
                            0.5555555555555556,
                            "#d8576b"
                          ],
                          [
                            0.6666666666666666,
                            "#ed7953"
                          ],
                          [
                            0.7777777777777778,
                            "#fb9f3a"
                          ],
                          [
                            0.8888888888888888,
                            "#fdca26"
                          ],
                          [
                            1,
                            "#f0f921"
                          ]
                        ],
                        "type": "heatmap"
                      }
                    ],
                    "histogram": [
                      {
                        "marker": {
                          "pattern": {
                            "fillmode": "overlay",
                            "size": 10,
                            "solidity": 0.2
                          }
                        },
                        "type": "histogram"
                      }
                    ],
                    "histogram2d": [
                      {
                        "colorbar": {
                          "outlinewidth": 0,
                          "ticks": ""
                        },
                        "colorscale": [
                          [
                            0,
                            "#0d0887"
                          ],
                          [
                            0.1111111111111111,
                            "#46039f"
                          ],
                          [
                            0.2222222222222222,
                            "#7201a8"
                          ],
                          [
                            0.3333333333333333,
                            "#9c179e"
                          ],
                          [
                            0.4444444444444444,
                            "#bd3786"
                          ],
                          [
                            0.5555555555555556,
                            "#d8576b"
                          ],
                          [
                            0.6666666666666666,
                            "#ed7953"
                          ],
                          [
                            0.7777777777777778,
                            "#fb9f3a"
                          ],
                          [
                            0.8888888888888888,
                            "#fdca26"
                          ],
                          [
                            1,
                            "#f0f921"
                          ]
                        ],
                        "type": "histogram2d"
                      }
                    ],
                    "histogram2dcontour": [
                      {
                        "colorbar": {
                          "outlinewidth": 0,
                          "ticks": ""
                        },
                        "colorscale": [
                          [
                            0,
                            "#0d0887"
                          ],
                          [
                            0.1111111111111111,
                            "#46039f"
                          ],
                          [
                            0.2222222222222222,
                            "#7201a8"
                          ],
                          [
                            0.3333333333333333,
                            "#9c179e"
                          ],
                          [
                            0.4444444444444444,
                            "#bd3786"
                          ],
                          [
                            0.5555555555555556,
                            "#d8576b"
                          ],
                          [
                            0.6666666666666666,
                            "#ed7953"
                          ],
                          [
                            0.7777777777777778,
                            "#fb9f3a"
                          ],
                          [
                            0.8888888888888888,
                            "#fdca26"
                          ],
                          [
                            1,
                            "#f0f921"
                          ]
                        ],
                        "type": "histogram2dcontour"
                      }
                    ],
                    "mesh3d": [
                      {
                        "colorbar": {
                          "outlinewidth": 0,
                          "ticks": ""
                        },
                        "type": "mesh3d"
                      }
                    ],
                    "parcoords": [
                      {
                        "line": {
                          "colorbar": {
                            "outlinewidth": 0,
                            "ticks": ""
                          }
                        },
                        "type": "parcoords"
                      }
                    ],
                    "pie": [
                      {
                        "automargin": true,
                        "type": "pie"
                      }
                    ],
                    "scatter": [
                      {
                        "fillpattern": {
                          "fillmode": "overlay",
                          "size": 10,
                          "solidity": 0.2
                        },
                        "type": "scatter"
                      }
                    ],
                    "scatter3d": [
                      {
                        "line": {
                          "colorbar": {
                            "outlinewidth": 0,
                            "ticks": ""
                          }
                        },
                        "marker": {
                          "colorbar": {
                            "outlinewidth": 0,
                            "ticks": ""
                          }
                        },
                        "type": "scatter3d"
                      }
                    ],
                    "scattercarpet": [
                      {
                        "marker": {
                          "colorbar": {
                            "outlinewidth": 0,
                            "ticks": ""
                          }
                        },
                        "type": "scattercarpet"
                      }
                    ],
                    "scattergeo": [
                      {
                        "marker": {
                          "colorbar": {
                            "outlinewidth": 0,
                            "ticks": ""
                          }
                        },
                        "type": "scattergeo"
                      }
                    ],
                    "scattergl": [
                      {
                        "marker": {
                          "colorbar": {
                            "outlinewidth": 0,
                            "ticks": ""
                          }
                        },
                        "type": "scattergl"
                      }
                    ],
                    "scattermap": [
                      {
                        "marker": {
                          "colorbar": {
                            "outlinewidth": 0,
                            "ticks": ""
                          }
                        },
                        "type": "scattermap"
                      }
                    ],
                    "scattermapbox": [
                      {
                        "marker": {
                          "colorbar": {
                            "outlinewidth": 0,
                            "ticks": ""
                          }
                        },
                        "type": "scattermapbox"
                      }
                    ],
                    "scatterpolar": [
                      {
                        "marker": {
                          "colorbar": {
                            "outlinewidth": 0,
                            "ticks": ""
                          }
                        },
                        "type": "scatterpolar"
                      }
                    ],
                    "scatterpolargl": [
                      {
                        "marker": {
                          "colorbar": {
                            "outlinewidth": 0,
                            "ticks": ""
                          }
                        },
                        "type": "scatterpolargl"
                      }
                    ],
                    "scatterternary": [
                      {
                        "marker": {
                          "colorbar": {
                            "outlinewidth": 0,
                            "ticks": ""
                          }
                        },
                        "type": "scatterternary"
                      }
                    ],
                    "surface": [
                      {
                        "colorbar": {
                          "outlinewidth": 0,
                          "ticks": ""
                        },
                        "colorscale": [
                          [
                            0,
                            "#0d0887"
                          ],
                          [
                            0.1111111111111111,
                            "#46039f"
                          ],
                          [
                            0.2222222222222222,
                            "#7201a8"
                          ],
                          [
                            0.3333333333333333,
                            "#9c179e"
                          ],
                          [
                            0.4444444444444444,
                            "#bd3786"
                          ],
                          [
                            0.5555555555555556,
                            "#d8576b"
                          ],
                          [
                            0.6666666666666666,
                            "#ed7953"
                          ],
                          [
                            0.7777777777777778,
                            "#fb9f3a"
                          ],
                          [
                            0.8888888888888888,
                            "#fdca26"
                          ],
                          [
                            1,
                            "#f0f921"
                          ]
                        ],
                        "type": "surface"
                      }
                    ],
                    "table": [
                      {
                        "cells": {
                          "fill": {
                            "color": "#EBF0F8"
                          },
                          "line": {
                            "color": "white"
                          }
                        },
                        "header": {
                          "fill": {
                            "color": "#C8D4E3"
                          },
                          "line": {
                            "color": "white"
                          }
                        },
                        "type": "table"
                      }
                    ]
                  },
                  "layout": {
                    "annotationdefaults": {
                      "arrowcolor": "#2a3f5f",
                      "arrowhead": 0,
                      "arrowwidth": 1
                    },
                    "autotypenumbers": "strict",
                    "coloraxis": {
                      "colorbar": {
                        "outlinewidth": 0,
                        "ticks": ""
                      }
                    },
                    "colorscale": {
                      "diverging": [
                        [
                          0,
                          "#8e0152"
                        ],
                        [
                          0.1,
                          "#c51b7d"
                        ],
                        [
                          0.2,
                          "#de77ae"
                        ],
                        [
                          0.3,
                          "#f1b6da"
                        ],
                        [
                          0.4,
                          "#fde0ef"
                        ],
                        [
                          0.5,
                          "#f7f7f7"
                        ],
                        [
                          0.6,
                          "#e6f5d0"
                        ],
                        [
                          0.7,
                          "#b8e186"
                        ],
                        [
                          0.8,
                          "#7fbc41"
                        ],
                        [
                          0.9,
                          "#4d9221"
                        ],
                        [
                          1,
                          "#276419"
                        ]
                      ],
                      "sequential": [
                        [
                          0,
                          "#0d0887"
                        ],
                        [
                          0.1111111111111111,
                          "#46039f"
                        ],
                        [
                          0.2222222222222222,
                          "#7201a8"
                        ],
                        [
                          0.3333333333333333,
                          "#9c179e"
                        ],
                        [
                          0.4444444444444444,
                          "#bd3786"
                        ],
                        [
                          0.5555555555555556,
                          "#d8576b"
                        ],
                        [
                          0.6666666666666666,
                          "#ed7953"
                        ],
                        [
                          0.7777777777777778,
                          "#fb9f3a"
                        ],
                        [
                          0.8888888888888888,
                          "#fdca26"
                        ],
                        [
                          1,
                          "#f0f921"
                        ]
                      ],
                      "sequentialminus": [
                        [
                          0,
                          "#0d0887"
                        ],
                        [
                          0.1111111111111111,
                          "#46039f"
                        ],
                        [
                          0.2222222222222222,
                          "#7201a8"
                        ],
                        [
                          0.3333333333333333,
                          "#9c179e"
                        ],
                        [
                          0.4444444444444444,
                          "#bd3786"
                        ],
                        [
                          0.5555555555555556,
                          "#d8576b"
                        ],
                        [
                          0.6666666666666666,
                          "#ed7953"
                        ],
                        [
                          0.7777777777777778,
                          "#fb9f3a"
                        ],
                        [
                          0.8888888888888888,
                          "#fdca26"
                        ],
                        [
                          1,
                          "#f0f921"
                        ]
                      ]
                    },
                    "colorway": [
                      "#636efa",
                      "#EF553B",
                      "#00cc96",
                      "#ab63fa",
                      "#FFA15A",
                      "#19d3f3",
                      "#FF6692",
                      "#B6E880",
                      "#FF97FF",
                      "#FECB52"
                    ],
                    "font": {
                      "color": "#2a3f5f"
                    },
                    "geo": {
                      "bgcolor": "white",
                      "lakecolor": "white",
                      "landcolor": "#E5ECF6",
                      "showlakes": true,
                      "showland": true,
                      "subunitcolor": "white"
                    },
                    "hoverlabel": {
                      "align": "left"
                    },
                    "hovermode": "closest",
                    "mapbox": {
                      "style": "light"
                    },
                    "paper_bgcolor": "white",
                    "plot_bgcolor": "#E5ECF6",
                    "polar": {
                      "angularaxis": {
                        "gridcolor": "white",
                        "linecolor": "white",
                        "ticks": ""
                      },
                      "bgcolor": "#E5ECF6",
                      "radialaxis": {
                        "gridcolor": "white",
                        "linecolor": "white",
                        "ticks": ""
                      }
                    },
                    "scene": {
                      "xaxis": {
                        "backgroundcolor": "#E5ECF6",
                        "gridcolor": "white",
                        "gridwidth": 2,
                        "linecolor": "white",
                        "showbackground": true,
                        "ticks": "",
                        "zerolinecolor": "white"
                      },
                      "yaxis": {
                        "backgroundcolor": "#E5ECF6",
                        "gridcolor": "white",
                        "gridwidth": 2,
                        "linecolor": "white",
                        "showbackground": true,
                        "ticks": "",
                        "zerolinecolor": "white"
                      },
                      "zaxis": {
                        "backgroundcolor": "#E5ECF6",
                        "gridcolor": "white",
                        "gridwidth": 2,
                        "linecolor": "white",
                        "showbackground": true,
                        "ticks": "",
                        "zerolinecolor": "white"
                      }
                    },
                    "shapedefaults": {
                      "line": {
                        "color": "#2a3f5f"
                      }
                    },
                    "ternary": {
                      "aaxis": {
                        "gridcolor": "white",
                        "linecolor": "white",
                        "ticks": ""
                      },
                      "baxis": {
                        "gridcolor": "white",
                        "linecolor": "white",
                        "ticks": ""
                      },
                      "bgcolor": "#E5ECF6",
                      "caxis": {
                        "gridcolor": "white",
                        "linecolor": "white",
                        "ticks": ""
                      }
                    },
                    "title": {
                      "x": 0.05
                    },
                    "xaxis": {
                      "automargin": true,
                      "gridcolor": "white",
                      "linecolor": "white",
                      "ticks": "",
                      "title": {
                        "standoff": 15
                      },
                      "zerolinecolor": "white",
                      "zerolinewidth": 2
                    },
                    "yaxis": {
                      "automargin": true,
                      "gridcolor": "white",
                      "linecolor": "white",
                      "ticks": "",
                      "title": {
                        "standoff": 15
                      },
                      "zerolinecolor": "white",
                      "zerolinewidth": 2
                    }
                  }
                },
                "title": {
                  "text": "Top 10 Productos por Ventas Totales"
                },
                "xaxis": {
                  "anchor": "y",
                  "domain": [
                    0,
                    1
                  ],
                  "title": {
                    "text": "productcode"
                  }
                },
                "yaxis": {
                  "anchor": "x",
                  "domain": [
                    0,
                    1
                  ],
                  "title": {
                    "text": "Ventas Totales ($)"
                  }
                }
              }
            }
          },
          "metadata": {},
          "output_type": "display_data"
        }
      ],
      "source": [
        "# Calcular ventas por producto\n",
        "ventas_por_producto = df.groupby('productcode')['sales_amount'].sum().sort_values(ascending=False).head(10).reset_index()\n",
        "\n",
        "# Gráfico interactivo\n",
        "fig = px.bar(ventas_por_producto, x='productcode', y='sales_amount', title='Top 10 Productos por Ventas Totales', labels={'sales_amount': 'Ventas Totales ($)', 'productCode': 'Código de Producto'})\n",
        "fig.show()"
      ]
    },
    {
      "cell_type": "markdown",
      "metadata": {},
      "source": [
        "## 3. Tendencia Mensual de Ventas"
      ]
    },
    {
      "cell_type": "code",
      "execution_count": 6,
      "metadata": {},
      "outputs": [
        {
          "data": {
            "application/vnd.plotly.v1+json": {
              "config": {
                "plotlyServerURL": "https://plot.ly"
              },
              "data": [
                {
                  "hovertemplate": "Fecha=%{x}<br>Ventas Totales ($)=%{y}<extra></extra>",
                  "legendgroup": "",
                  "line": {
                    "color": "#636efa",
                    "dash": "solid"
                  },
                  "marker": {
                    "symbol": "circle"
                  },
                  "mode": "lines",
                  "name": "",
                  "orientation": "v",
                  "showlegend": false,
                  "type": "scatter",
                  "x": [
                    "2003-01-31T00:00:00",
                    "2003-02-28T00:00:00",
                    "2003-03-31T00:00:00",
                    "2003-04-30T00:00:00",
                    "2003-05-31T00:00:00",
                    "2003-06-30T00:00:00",
                    "2003-07-31T00:00:00",
                    "2003-08-31T00:00:00",
                    "2003-09-30T00:00:00",
                    "2003-10-31T00:00:00",
                    "2003-11-30T00:00:00",
                    "2003-12-31T00:00:00",
                    "2004-01-31T00:00:00",
                    "2004-02-29T00:00:00",
                    "2004-03-31T00:00:00",
                    "2004-04-30T00:00:00",
                    "2004-05-31T00:00:00",
                    "2004-06-30T00:00:00",
                    "2004-07-31T00:00:00",
                    "2004-08-31T00:00:00",
                    "2004-09-30T00:00:00",
                    "2004-10-31T00:00:00",
                    "2004-11-30T00:00:00",
                    "2004-12-31T00:00:00",
                    "2005-01-31T00:00:00",
                    "2005-02-28T00:00:00",
                    "2005-03-31T00:00:00",
                    "2005-04-30T00:00:00",
                    "2005-05-31T00:00:00"
                  ],
                  "xaxis": "x",
                  "y": {
                    "bdata": "H4XrUUx9/EDXo3A9Oln/QIXrUbi+vPpAUrgeheNEAUFmZmZmXOcFQY/C9Sg2XgJBFK5H4aKmCEEUrkfhiMIFQZqZmZldNghBCtejcH1HG0HD9ShcqqgsQVK4HoVRrg9BXI/C9bzuDUHD9Shce6sRQUjhehTakgpB7FG4HkELBUFmZmZmKlAOQR+F61HTnBNBXI/C9e3eE0EAAAAALW8ZQTMzMzNfUhFBCtejcCeIHkEAAAAA2+grQeF6FK6YLBpBj8L1KKW1EEHhehSuIFwTQeF6FK6PvRVB4XoUrjQCFUEpXI/CC/IaQQ==",
                    "dtype": "f8"
                  },
                  "yaxis": "y"
                }
              ],
              "layout": {
                "legend": {
                  "tracegroupgap": 0
                },
                "template": {
                  "data": {
                    "bar": [
                      {
                        "error_x": {
                          "color": "#2a3f5f"
                        },
                        "error_y": {
                          "color": "#2a3f5f"
                        },
                        "marker": {
                          "line": {
                            "color": "#E5ECF6",
                            "width": 0.5
                          },
                          "pattern": {
                            "fillmode": "overlay",
                            "size": 10,
                            "solidity": 0.2
                          }
                        },
                        "type": "bar"
                      }
                    ],
                    "barpolar": [
                      {
                        "marker": {
                          "line": {
                            "color": "#E5ECF6",
                            "width": 0.5
                          },
                          "pattern": {
                            "fillmode": "overlay",
                            "size": 10,
                            "solidity": 0.2
                          }
                        },
                        "type": "barpolar"
                      }
                    ],
                    "carpet": [
                      {
                        "aaxis": {
                          "endlinecolor": "#2a3f5f",
                          "gridcolor": "white",
                          "linecolor": "white",
                          "minorgridcolor": "white",
                          "startlinecolor": "#2a3f5f"
                        },
                        "baxis": {
                          "endlinecolor": "#2a3f5f",
                          "gridcolor": "white",
                          "linecolor": "white",
                          "minorgridcolor": "white",
                          "startlinecolor": "#2a3f5f"
                        },
                        "type": "carpet"
                      }
                    ],
                    "choropleth": [
                      {
                        "colorbar": {
                          "outlinewidth": 0,
                          "ticks": ""
                        },
                        "type": "choropleth"
                      }
                    ],
                    "contour": [
                      {
                        "colorbar": {
                          "outlinewidth": 0,
                          "ticks": ""
                        },
                        "colorscale": [
                          [
                            0,
                            "#0d0887"
                          ],
                          [
                            0.1111111111111111,
                            "#46039f"
                          ],
                          [
                            0.2222222222222222,
                            "#7201a8"
                          ],
                          [
                            0.3333333333333333,
                            "#9c179e"
                          ],
                          [
                            0.4444444444444444,
                            "#bd3786"
                          ],
                          [
                            0.5555555555555556,
                            "#d8576b"
                          ],
                          [
                            0.6666666666666666,
                            "#ed7953"
                          ],
                          [
                            0.7777777777777778,
                            "#fb9f3a"
                          ],
                          [
                            0.8888888888888888,
                            "#fdca26"
                          ],
                          [
                            1,
                            "#f0f921"
                          ]
                        ],
                        "type": "contour"
                      }
                    ],
                    "contourcarpet": [
                      {
                        "colorbar": {
                          "outlinewidth": 0,
                          "ticks": ""
                        },
                        "type": "contourcarpet"
                      }
                    ],
                    "heatmap": [
                      {
                        "colorbar": {
                          "outlinewidth": 0,
                          "ticks": ""
                        },
                        "colorscale": [
                          [
                            0,
                            "#0d0887"
                          ],
                          [
                            0.1111111111111111,
                            "#46039f"
                          ],
                          [
                            0.2222222222222222,
                            "#7201a8"
                          ],
                          [
                            0.3333333333333333,
                            "#9c179e"
                          ],
                          [
                            0.4444444444444444,
                            "#bd3786"
                          ],
                          [
                            0.5555555555555556,
                            "#d8576b"
                          ],
                          [
                            0.6666666666666666,
                            "#ed7953"
                          ],
                          [
                            0.7777777777777778,
                            "#fb9f3a"
                          ],
                          [
                            0.8888888888888888,
                            "#fdca26"
                          ],
                          [
                            1,
                            "#f0f921"
                          ]
                        ],
                        "type": "heatmap"
                      }
                    ],
                    "histogram": [
                      {
                        "marker": {
                          "pattern": {
                            "fillmode": "overlay",
                            "size": 10,
                            "solidity": 0.2
                          }
                        },
                        "type": "histogram"
                      }
                    ],
                    "histogram2d": [
                      {
                        "colorbar": {
                          "outlinewidth": 0,
                          "ticks": ""
                        },
                        "colorscale": [
                          [
                            0,
                            "#0d0887"
                          ],
                          [
                            0.1111111111111111,
                            "#46039f"
                          ],
                          [
                            0.2222222222222222,
                            "#7201a8"
                          ],
                          [
                            0.3333333333333333,
                            "#9c179e"
                          ],
                          [
                            0.4444444444444444,
                            "#bd3786"
                          ],
                          [
                            0.5555555555555556,
                            "#d8576b"
                          ],
                          [
                            0.6666666666666666,
                            "#ed7953"
                          ],
                          [
                            0.7777777777777778,
                            "#fb9f3a"
                          ],
                          [
                            0.8888888888888888,
                            "#fdca26"
                          ],
                          [
                            1,
                            "#f0f921"
                          ]
                        ],
                        "type": "histogram2d"
                      }
                    ],
                    "histogram2dcontour": [
                      {
                        "colorbar": {
                          "outlinewidth": 0,
                          "ticks": ""
                        },
                        "colorscale": [
                          [
                            0,
                            "#0d0887"
                          ],
                          [
                            0.1111111111111111,
                            "#46039f"
                          ],
                          [
                            0.2222222222222222,
                            "#7201a8"
                          ],
                          [
                            0.3333333333333333,
                            "#9c179e"
                          ],
                          [
                            0.4444444444444444,
                            "#bd3786"
                          ],
                          [
                            0.5555555555555556,
                            "#d8576b"
                          ],
                          [
                            0.6666666666666666,
                            "#ed7953"
                          ],
                          [
                            0.7777777777777778,
                            "#fb9f3a"
                          ],
                          [
                            0.8888888888888888,
                            "#fdca26"
                          ],
                          [
                            1,
                            "#f0f921"
                          ]
                        ],
                        "type": "histogram2dcontour"
                      }
                    ],
                    "mesh3d": [
                      {
                        "colorbar": {
                          "outlinewidth": 0,
                          "ticks": ""
                        },
                        "type": "mesh3d"
                      }
                    ],
                    "parcoords": [
                      {
                        "line": {
                          "colorbar": {
                            "outlinewidth": 0,
                            "ticks": ""
                          }
                        },
                        "type": "parcoords"
                      }
                    ],
                    "pie": [
                      {
                        "automargin": true,
                        "type": "pie"
                      }
                    ],
                    "scatter": [
                      {
                        "fillpattern": {
                          "fillmode": "overlay",
                          "size": 10,
                          "solidity": 0.2
                        },
                        "type": "scatter"
                      }
                    ],
                    "scatter3d": [
                      {
                        "line": {
                          "colorbar": {
                            "outlinewidth": 0,
                            "ticks": ""
                          }
                        },
                        "marker": {
                          "colorbar": {
                            "outlinewidth": 0,
                            "ticks": ""
                          }
                        },
                        "type": "scatter3d"
                      }
                    ],
                    "scattercarpet": [
                      {
                        "marker": {
                          "colorbar": {
                            "outlinewidth": 0,
                            "ticks": ""
                          }
                        },
                        "type": "scattercarpet"
                      }
                    ],
                    "scattergeo": [
                      {
                        "marker": {
                          "colorbar": {
                            "outlinewidth": 0,
                            "ticks": ""
                          }
                        },
                        "type": "scattergeo"
                      }
                    ],
                    "scattergl": [
                      {
                        "marker": {
                          "colorbar": {
                            "outlinewidth": 0,
                            "ticks": ""
                          }
                        },
                        "type": "scattergl"
                      }
                    ],
                    "scattermap": [
                      {
                        "marker": {
                          "colorbar": {
                            "outlinewidth": 0,
                            "ticks": ""
                          }
                        },
                        "type": "scattermap"
                      }
                    ],
                    "scattermapbox": [
                      {
                        "marker": {
                          "colorbar": {
                            "outlinewidth": 0,
                            "ticks": ""
                          }
                        },
                        "type": "scattermapbox"
                      }
                    ],
                    "scatterpolar": [
                      {
                        "marker": {
                          "colorbar": {
                            "outlinewidth": 0,
                            "ticks": ""
                          }
                        },
                        "type": "scatterpolar"
                      }
                    ],
                    "scatterpolargl": [
                      {
                        "marker": {
                          "colorbar": {
                            "outlinewidth": 0,
                            "ticks": ""
                          }
                        },
                        "type": "scatterpolargl"
                      }
                    ],
                    "scatterternary": [
                      {
                        "marker": {
                          "colorbar": {
                            "outlinewidth": 0,
                            "ticks": ""
                          }
                        },
                        "type": "scatterternary"
                      }
                    ],
                    "surface": [
                      {
                        "colorbar": {
                          "outlinewidth": 0,
                          "ticks": ""
                        },
                        "colorscale": [
                          [
                            0,
                            "#0d0887"
                          ],
                          [
                            0.1111111111111111,
                            "#46039f"
                          ],
                          [
                            0.2222222222222222,
                            "#7201a8"
                          ],
                          [
                            0.3333333333333333,
                            "#9c179e"
                          ],
                          [
                            0.4444444444444444,
                            "#bd3786"
                          ],
                          [
                            0.5555555555555556,
                            "#d8576b"
                          ],
                          [
                            0.6666666666666666,
                            "#ed7953"
                          ],
                          [
                            0.7777777777777778,
                            "#fb9f3a"
                          ],
                          [
                            0.8888888888888888,
                            "#fdca26"
                          ],
                          [
                            1,
                            "#f0f921"
                          ]
                        ],
                        "type": "surface"
                      }
                    ],
                    "table": [
                      {
                        "cells": {
                          "fill": {
                            "color": "#EBF0F8"
                          },
                          "line": {
                            "color": "white"
                          }
                        },
                        "header": {
                          "fill": {
                            "color": "#C8D4E3"
                          },
                          "line": {
                            "color": "white"
                          }
                        },
                        "type": "table"
                      }
                    ]
                  },
                  "layout": {
                    "annotationdefaults": {
                      "arrowcolor": "#2a3f5f",
                      "arrowhead": 0,
                      "arrowwidth": 1
                    },
                    "autotypenumbers": "strict",
                    "coloraxis": {
                      "colorbar": {
                        "outlinewidth": 0,
                        "ticks": ""
                      }
                    },
                    "colorscale": {
                      "diverging": [
                        [
                          0,
                          "#8e0152"
                        ],
                        [
                          0.1,
                          "#c51b7d"
                        ],
                        [
                          0.2,
                          "#de77ae"
                        ],
                        [
                          0.3,
                          "#f1b6da"
                        ],
                        [
                          0.4,
                          "#fde0ef"
                        ],
                        [
                          0.5,
                          "#f7f7f7"
                        ],
                        [
                          0.6,
                          "#e6f5d0"
                        ],
                        [
                          0.7,
                          "#b8e186"
                        ],
                        [
                          0.8,
                          "#7fbc41"
                        ],
                        [
                          0.9,
                          "#4d9221"
                        ],
                        [
                          1,
                          "#276419"
                        ]
                      ],
                      "sequential": [
                        [
                          0,
                          "#0d0887"
                        ],
                        [
                          0.1111111111111111,
                          "#46039f"
                        ],
                        [
                          0.2222222222222222,
                          "#7201a8"
                        ],
                        [
                          0.3333333333333333,
                          "#9c179e"
                        ],
                        [
                          0.4444444444444444,
                          "#bd3786"
                        ],
                        [
                          0.5555555555555556,
                          "#d8576b"
                        ],
                        [
                          0.6666666666666666,
                          "#ed7953"
                        ],
                        [
                          0.7777777777777778,
                          "#fb9f3a"
                        ],
                        [
                          0.8888888888888888,
                          "#fdca26"
                        ],
                        [
                          1,
                          "#f0f921"
                        ]
                      ],
                      "sequentialminus": [
                        [
                          0,
                          "#0d0887"
                        ],
                        [
                          0.1111111111111111,
                          "#46039f"
                        ],
                        [
                          0.2222222222222222,
                          "#7201a8"
                        ],
                        [
                          0.3333333333333333,
                          "#9c179e"
                        ],
                        [
                          0.4444444444444444,
                          "#bd3786"
                        ],
                        [
                          0.5555555555555556,
                          "#d8576b"
                        ],
                        [
                          0.6666666666666666,
                          "#ed7953"
                        ],
                        [
                          0.7777777777777778,
                          "#fb9f3a"
                        ],
                        [
                          0.8888888888888888,
                          "#fdca26"
                        ],
                        [
                          1,
                          "#f0f921"
                        ]
                      ]
                    },
                    "colorway": [
                      "#636efa",
                      "#EF553B",
                      "#00cc96",
                      "#ab63fa",
                      "#FFA15A",
                      "#19d3f3",
                      "#FF6692",
                      "#B6E880",
                      "#FF97FF",
                      "#FECB52"
                    ],
                    "font": {
                      "color": "#2a3f5f"
                    },
                    "geo": {
                      "bgcolor": "white",
                      "lakecolor": "white",
                      "landcolor": "#E5ECF6",
                      "showlakes": true,
                      "showland": true,
                      "subunitcolor": "white"
                    },
                    "hoverlabel": {
                      "align": "left"
                    },
                    "hovermode": "closest",
                    "mapbox": {
                      "style": "light"
                    },
                    "paper_bgcolor": "white",
                    "plot_bgcolor": "#E5ECF6",
                    "polar": {
                      "angularaxis": {
                        "gridcolor": "white",
                        "linecolor": "white",
                        "ticks": ""
                      },
                      "bgcolor": "#E5ECF6",
                      "radialaxis": {
                        "gridcolor": "white",
                        "linecolor": "white",
                        "ticks": ""
                      }
                    },
                    "scene": {
                      "xaxis": {
                        "backgroundcolor": "#E5ECF6",
                        "gridcolor": "white",
                        "gridwidth": 2,
                        "linecolor": "white",
                        "showbackground": true,
                        "ticks": "",
                        "zerolinecolor": "white"
                      },
                      "yaxis": {
                        "backgroundcolor": "#E5ECF6",
                        "gridcolor": "white",
                        "gridwidth": 2,
                        "linecolor": "white",
                        "showbackground": true,
                        "ticks": "",
                        "zerolinecolor": "white"
                      },
                      "zaxis": {
                        "backgroundcolor": "#E5ECF6",
                        "gridcolor": "white",
                        "gridwidth": 2,
                        "linecolor": "white",
                        "showbackground": true,
                        "ticks": "",
                        "zerolinecolor": "white"
                      }
                    },
                    "shapedefaults": {
                      "line": {
                        "color": "#2a3f5f"
                      }
                    },
                    "ternary": {
                      "aaxis": {
                        "gridcolor": "white",
                        "linecolor": "white",
                        "ticks": ""
                      },
                      "baxis": {
                        "gridcolor": "white",
                        "linecolor": "white",
                        "ticks": ""
                      },
                      "bgcolor": "#E5ECF6",
                      "caxis": {
                        "gridcolor": "white",
                        "linecolor": "white",
                        "ticks": ""
                      }
                    },
                    "title": {
                      "x": 0.05
                    },
                    "xaxis": {
                      "automargin": true,
                      "gridcolor": "white",
                      "linecolor": "white",
                      "ticks": "",
                      "title": {
                        "standoff": 15
                      },
                      "zerolinecolor": "white",
                      "zerolinewidth": 2
                    },
                    "yaxis": {
                      "automargin": true,
                      "gridcolor": "white",
                      "linecolor": "white",
                      "ticks": "",
                      "title": {
                        "standoff": 15
                      },
                      "zerolinecolor": "white",
                      "zerolinewidth": 2
                    }
                  }
                },
                "title": {
                  "text": "Tendencia Mensual de Ventas"
                },
                "xaxis": {
                  "anchor": "y",
                  "domain": [
                    0,
                    1
                  ],
                  "dtick": "M1",
                  "tickformat": "%b %Y",
                  "title": {
                    "text": "Fecha"
                  }
                },
                "yaxis": {
                  "anchor": "x",
                  "domain": [
                    0,
                    1
                  ],
                  "title": {
                    "text": "Ventas Totales ($)"
                  }
                }
              }
            }
          },
          "metadata": {},
          "output_type": "display_data"
        }
      ],
      "source": [
        "# Agrupar por mes\n",
        "df_monthly = df.resample('ME', on='orderdate')['sales_amount'].sum().reset_index()\n",
        "\n",
        "# Gráfico interactivo\n",
        "fig = px.line(df_monthly, x='orderdate', y='sales_amount', title='Tendencia Mensual de Ventas', labels={'sales_amount': 'Ventas Totales ($)', 'orderdate': 'Fecha'})\n",
        "fig.update_xaxes(dtick='M1', tickformat='%b %Y')\n",
        "fig.show()"
      ]
    },
    {
      "cell_type": "markdown",
      "metadata": {},
      "source": [
        "## 4. Distribución de Precios Unitarios"
      ]
    },
    {
      "cell_type": "code",
      "execution_count": 7,
      "metadata": {},
      "outputs": [
        {
          "data": {
            "application/vnd.plotly.v1+json": {
              "config": {
                "plotlyServerURL": "https://plot.ly"
              },
              "data": [
                {
                  "bingroup": "x",
                  "hovertemplate": "priceeach=%{x}<br>count=%{y}<extra></extra>",
                  "legendgroup": "",
                  "marker": {
                    "color": "#636efa",
                    "pattern": {
                      "shape": ""
                    }
                  },
                  "name": "",
                  "nbinsx": 30,
                  "orientation": "v",
                  "showlegend": false,
                  "type": "histogram",
                  "x": {
                    "bdata": "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",
                    "dtype": "f8"
                  },
                  "xaxis": "x",
                  "yaxis": "y"
                }
              ],
              "layout": {
                "barmode": "relative",
                "legend": {
                  "tracegroupgap": 0
                },
                "template": {
                  "data": {
                    "bar": [
                      {
                        "error_x": {
                          "color": "#2a3f5f"
                        },
                        "error_y": {
                          "color": "#2a3f5f"
                        },
                        "marker": {
                          "line": {
                            "color": "#E5ECF6",
                            "width": 0.5
                          },
                          "pattern": {
                            "fillmode": "overlay",
                            "size": 10,
                            "solidity": 0.2
                          }
                        },
                        "type": "bar"
                      }
                    ],
                    "barpolar": [
                      {
                        "marker": {
                          "line": {
                            "color": "#E5ECF6",
                            "width": 0.5
                          },
                          "pattern": {
                            "fillmode": "overlay",
                            "size": 10,
                            "solidity": 0.2
                          }
                        },
                        "type": "barpolar"
                      }
                    ],
                    "carpet": [
                      {
                        "aaxis": {
                          "endlinecolor": "#2a3f5f",
                          "gridcolor": "white",
                          "linecolor": "white",
                          "minorgridcolor": "white",
                          "startlinecolor": "#2a3f5f"
                        },
                        "baxis": {
                          "endlinecolor": "#2a3f5f",
                          "gridcolor": "white",
                          "linecolor": "white",
                          "minorgridcolor": "white",
                          "startlinecolor": "#2a3f5f"
                        },
                        "type": "carpet"
                      }
                    ],
                    "choropleth": [
                      {
                        "colorbar": {
                          "outlinewidth": 0,
                          "ticks": ""
                        },
                        "type": "choropleth"
                      }
                    ],
                    "contour": [
                      {
                        "colorbar": {
                          "outlinewidth": 0,
                          "ticks": ""
                        },
                        "colorscale": [
                          [
                            0,
                            "#0d0887"
                          ],
                          [
                            0.1111111111111111,
                            "#46039f"
                          ],
                          [
                            0.2222222222222222,
                            "#7201a8"
                          ],
                          [
                            0.3333333333333333,
                            "#9c179e"
                          ],
                          [
                            0.4444444444444444,
                            "#bd3786"
                          ],
                          [
                            0.5555555555555556,
                            "#d8576b"
                          ],
                          [
                            0.6666666666666666,
                            "#ed7953"
                          ],
                          [
                            0.7777777777777778,
                            "#fb9f3a"
                          ],
                          [
                            0.8888888888888888,
                            "#fdca26"
                          ],
                          [
                            1,
                            "#f0f921"
                          ]
                        ],
                        "type": "contour"
                      }
                    ],
                    "contourcarpet": [
                      {
                        "colorbar": {
                          "outlinewidth": 0,
                          "ticks": ""
                        },
                        "type": "contourcarpet"
                      }
                    ],
                    "heatmap": [
                      {
                        "colorbar": {
                          "outlinewidth": 0,
                          "ticks": ""
                        },
                        "colorscale": [
                          [
                            0,
                            "#0d0887"
                          ],
                          [
                            0.1111111111111111,
                            "#46039f"
                          ],
                          [
                            0.2222222222222222,
                            "#7201a8"
                          ],
                          [
                            0.3333333333333333,
                            "#9c179e"
                          ],
                          [
                            0.4444444444444444,
                            "#bd3786"
                          ],
                          [
                            0.5555555555555556,
                            "#d8576b"
                          ],
                          [
                            0.6666666666666666,
                            "#ed7953"
                          ],
                          [
                            0.7777777777777778,
                            "#fb9f3a"
                          ],
                          [
                            0.8888888888888888,
                            "#fdca26"
                          ],
                          [
                            1,
                            "#f0f921"
                          ]
                        ],
                        "type": "heatmap"
                      }
                    ],
                    "histogram": [
                      {
                        "marker": {
                          "pattern": {
                            "fillmode": "overlay",
                            "size": 10,
                            "solidity": 0.2
                          }
                        },
                        "type": "histogram"
                      }
                    ],
                    "histogram2d": [
                      {
                        "colorbar": {
                          "outlinewidth": 0,
                          "ticks": ""
                        },
                        "colorscale": [
                          [
                            0,
                            "#0d0887"
                          ],
                          [
                            0.1111111111111111,
                            "#46039f"
                          ],
                          [
                            0.2222222222222222,
                            "#7201a8"
                          ],
                          [
                            0.3333333333333333,
                            "#9c179e"
                          ],
                          [
                            0.4444444444444444,
                            "#bd3786"
                          ],
                          [
                            0.5555555555555556,
                            "#d8576b"
                          ],
                          [
                            0.6666666666666666,
                            "#ed7953"
                          ],
                          [
                            0.7777777777777778,
                            "#fb9f3a"
                          ],
                          [
                            0.8888888888888888,
                            "#fdca26"
                          ],
                          [
                            1,
                            "#f0f921"
                          ]
                        ],
                        "type": "histogram2d"
                      }
                    ],
                    "histogram2dcontour": [
                      {
                        "colorbar": {
                          "outlinewidth": 0,
                          "ticks": ""
                        },
                        "colorscale": [
                          [
                            0,
                            "#0d0887"
                          ],
                          [
                            0.1111111111111111,
                            "#46039f"
                          ],
                          [
                            0.2222222222222222,
                            "#7201a8"
                          ],
                          [
                            0.3333333333333333,
                            "#9c179e"
                          ],
                          [
                            0.4444444444444444,
                            "#bd3786"
                          ],
                          [
                            0.5555555555555556,
                            "#d8576b"
                          ],
                          [
                            0.6666666666666666,
                            "#ed7953"
                          ],
                          [
                            0.7777777777777778,
                            "#fb9f3a"
                          ],
                          [
                            0.8888888888888888,
                            "#fdca26"
                          ],
                          [
                            1,
                            "#f0f921"
                          ]
                        ],
                        "type": "histogram2dcontour"
                      }
                    ],
                    "mesh3d": [
                      {
                        "colorbar": {
                          "outlinewidth": 0,
                          "ticks": ""
                        },
                        "type": "mesh3d"
                      }
                    ],
                    "parcoords": [
                      {
                        "line": {
                          "colorbar": {
                            "outlinewidth": 0,
                            "ticks": ""
                          }
                        },
                        "type": "parcoords"
                      }
                    ],
                    "pie": [
                      {
                        "automargin": true,
                        "type": "pie"
                      }
                    ],
                    "scatter": [
                      {
                        "fillpattern": {
                          "fillmode": "overlay",
                          "size": 10,
                          "solidity": 0.2
                        },
                        "type": "scatter"
                      }
                    ],
                    "scatter3d": [
                      {
                        "line": {
                          "colorbar": {
                            "outlinewidth": 0,
                            "ticks": ""
                          }
                        },
                        "marker": {
                          "colorbar": {
                            "outlinewidth": 0,
                            "ticks": ""
                          }
                        },
                        "type": "scatter3d"
                      }
                    ],
                    "scattercarpet": [
                      {
                        "marker": {
                          "colorbar": {
                            "outlinewidth": 0,
                            "ticks": ""
                          }
                        },
                        "type": "scattercarpet"
                      }
                    ],
                    "scattergeo": [
                      {
                        "marker": {
                          "colorbar": {
                            "outlinewidth": 0,
                            "ticks": ""
                          }
                        },
                        "type": "scattergeo"
                      }
                    ],
                    "scattergl": [
                      {
                        "marker": {
                          "colorbar": {
                            "outlinewidth": 0,
                            "ticks": ""
                          }
                        },
                        "type": "scattergl"
                      }
                    ],
                    "scattermap": [
                      {
                        "marker": {
                          "colorbar": {
                            "outlinewidth": 0,
                            "ticks": ""
                          }
                        },
                        "type": "scattermap"
                      }
                    ],
                    "scattermapbox": [
                      {
                        "marker": {
                          "colorbar": {
                            "outlinewidth": 0,
                            "ticks": ""
                          }
                        },
                        "type": "scattermapbox"
                      }
                    ],
                    "scatterpolar": [
                      {
                        "marker": {
                          "colorbar": {
                            "outlinewidth": 0,
                            "ticks": ""
                          }
                        },
                        "type": "scatterpolar"
                      }
                    ],
                    "scatterpolargl": [
                      {
                        "marker": {
                          "colorbar": {
                            "outlinewidth": 0,
                            "ticks": ""
                          }
                        },
                        "type": "scatterpolargl"
                      }
                    ],
                    "scatterternary": [
                      {
                        "marker": {
                          "colorbar": {
                            "outlinewidth": 0,
                            "ticks": ""
                          }
                        },
                        "type": "scatterternary"
                      }
                    ],
                    "surface": [
                      {
                        "colorbar": {
                          "outlinewidth": 0,
                          "ticks": ""
                        },
                        "colorscale": [
                          [
                            0,
                            "#0d0887"
                          ],
                          [
                            0.1111111111111111,
                            "#46039f"
                          ],
                          [
                            0.2222222222222222,
                            "#7201a8"
                          ],
                          [
                            0.3333333333333333,
                            "#9c179e"
                          ],
                          [
                            0.4444444444444444,
                            "#bd3786"
                          ],
                          [
                            0.5555555555555556,
                            "#d8576b"
                          ],
                          [
                            0.6666666666666666,
                            "#ed7953"
                          ],
                          [
                            0.7777777777777778,
                            "#fb9f3a"
                          ],
                          [
                            0.8888888888888888,
                            "#fdca26"
                          ],
                          [
                            1,
                            "#f0f921"
                          ]
                        ],
                        "type": "surface"
                      }
                    ],
                    "table": [
                      {
                        "cells": {
                          "fill": {
                            "color": "#EBF0F8"
                          },
                          "line": {
                            "color": "white"
                          }
                        },
                        "header": {
                          "fill": {
                            "color": "#C8D4E3"
                          },
                          "line": {
                            "color": "white"
                          }
                        },
                        "type": "table"
                      }
                    ]
                  },
                  "layout": {
                    "annotationdefaults": {
                      "arrowcolor": "#2a3f5f",
                      "arrowhead": 0,
                      "arrowwidth": 1
                    },
                    "autotypenumbers": "strict",
                    "coloraxis": {
                      "colorbar": {
                        "outlinewidth": 0,
                        "ticks": ""
                      }
                    },
                    "colorscale": {
                      "diverging": [
                        [
                          0,
                          "#8e0152"
                        ],
                        [
                          0.1,
                          "#c51b7d"
                        ],
                        [
                          0.2,
                          "#de77ae"
                        ],
                        [
                          0.3,
                          "#f1b6da"
                        ],
                        [
                          0.4,
                          "#fde0ef"
                        ],
                        [
                          0.5,
                          "#f7f7f7"
                        ],
                        [
                          0.6,
                          "#e6f5d0"
                        ],
                        [
                          0.7,
                          "#b8e186"
                        ],
                        [
                          0.8,
                          "#7fbc41"
                        ],
                        [
                          0.9,
                          "#4d9221"
                        ],
                        [
                          1,
                          "#276419"
                        ]
                      ],
                      "sequential": [
                        [
                          0,
                          "#0d0887"
                        ],
                        [
                          0.1111111111111111,
                          "#46039f"
                        ],
                        [
                          0.2222222222222222,
                          "#7201a8"
                        ],
                        [
                          0.3333333333333333,
                          "#9c179e"
                        ],
                        [
                          0.4444444444444444,
                          "#bd3786"
                        ],
                        [
                          0.5555555555555556,
                          "#d8576b"
                        ],
                        [
                          0.6666666666666666,
                          "#ed7953"
                        ],
                        [
                          0.7777777777777778,
                          "#fb9f3a"
                        ],
                        [
                          0.8888888888888888,
                          "#fdca26"
                        ],
                        [
                          1,
                          "#f0f921"
                        ]
                      ],
                      "sequentialminus": [
                        [
                          0,
                          "#0d0887"
                        ],
                        [
                          0.1111111111111111,
                          "#46039f"
                        ],
                        [
                          0.2222222222222222,
                          "#7201a8"
                        ],
                        [
                          0.3333333333333333,
                          "#9c179e"
                        ],
                        [
                          0.4444444444444444,
                          "#bd3786"
                        ],
                        [
                          0.5555555555555556,
                          "#d8576b"
                        ],
                        [
                          0.6666666666666666,
                          "#ed7953"
                        ],
                        [
                          0.7777777777777778,
                          "#fb9f3a"
                        ],
                        [
                          0.8888888888888888,
                          "#fdca26"
                        ],
                        [
                          1,
                          "#f0f921"
                        ]
                      ]
                    },
                    "colorway": [
                      "#636efa",
                      "#EF553B",
                      "#00cc96",
                      "#ab63fa",
                      "#FFA15A",
                      "#19d3f3",
                      "#FF6692",
                      "#B6E880",
                      "#FF97FF",
                      "#FECB52"
                    ],
                    "font": {
                      "color": "#2a3f5f"
                    },
                    "geo": {
                      "bgcolor": "white",
                      "lakecolor": "white",
                      "landcolor": "#E5ECF6",
                      "showlakes": true,
                      "showland": true,
                      "subunitcolor": "white"
                    },
                    "hoverlabel": {
                      "align": "left"
                    },
                    "hovermode": "closest",
                    "mapbox": {
                      "style": "light"
                    },
                    "paper_bgcolor": "white",
                    "plot_bgcolor": "#E5ECF6",
                    "polar": {
                      "angularaxis": {
                        "gridcolor": "white",
                        "linecolor": "white",
                        "ticks": ""
                      },
                      "bgcolor": "#E5ECF6",
                      "radialaxis": {
                        "gridcolor": "white",
                        "linecolor": "white",
                        "ticks": ""
                      }
                    },
                    "scene": {
                      "xaxis": {
                        "backgroundcolor": "#E5ECF6",
                        "gridcolor": "white",
                        "gridwidth": 2,
                        "linecolor": "white",
                        "showbackground": true,
                        "ticks": "",
                        "zerolinecolor": "white"
                      },
                      "yaxis": {
                        "backgroundcolor": "#E5ECF6",
                        "gridcolor": "white",
                        "gridwidth": 2,
                        "linecolor": "white",
                        "showbackground": true,
                        "ticks": "",
                        "zerolinecolor": "white"
                      },
                      "zaxis": {
                        "backgroundcolor": "#E5ECF6",
                        "gridcolor": "white",
                        "gridwidth": 2,
                        "linecolor": "white",
                        "showbackground": true,
                        "ticks": "",
                        "zerolinecolor": "white"
                      }
                    },
                    "shapedefaults": {
                      "line": {
                        "color": "#2a3f5f"
                      }
                    },
                    "ternary": {
                      "aaxis": {
                        "gridcolor": "white",
                        "linecolor": "white",
                        "ticks": ""
                      },
                      "baxis": {
                        "gridcolor": "white",
                        "linecolor": "white",
                        "ticks": ""
                      },
                      "bgcolor": "#E5ECF6",
                      "caxis": {
                        "gridcolor": "white",
                        "linecolor": "white",
                        "ticks": ""
                      }
                    },
                    "title": {
                      "x": 0.05
                    },
                    "xaxis": {
                      "automargin": true,
                      "gridcolor": "white",
                      "linecolor": "white",
                      "ticks": "",
                      "title": {
                        "standoff": 15
                      },
                      "zerolinecolor": "white",
                      "zerolinewidth": 2
                    },
                    "yaxis": {
                      "automargin": true,
                      "gridcolor": "white",
                      "linecolor": "white",
                      "ticks": "",
                      "title": {
                        "standoff": 15
                      },
                      "zerolinecolor": "white",
                      "zerolinewidth": 2
                    }
                  }
                },
                "title": {
                  "text": "Distribución de Precios Unitarios"
                },
                "xaxis": {
                  "anchor": "y",
                  "domain": [
                    0,
                    1
                  ],
                  "title": {
                    "text": "priceeach"
                  }
                },
                "yaxis": {
                  "anchor": "x",
                  "domain": [
                    0,
                    1
                  ],
                  "title": {
                    "text": "count"
                  }
                }
              }
            }
          },
          "metadata": {},
          "output_type": "display_data"
        }
      ],
      "source": [
        "# Histograma interactivo\n",
        "fig = px.histogram(df, x='priceeach', nbins=30, title='Distribución de Precios Unitarios', labels={'priceEach': 'Precio ($)', 'count': 'Frecuencia'})\n",
        "fig.show()"
      ]
    },
    {
      "cell_type": "markdown",
      "metadata": {},
      "source": [
        "## 5. Boxplot de Cantidad Vendida por Línea de Pedido"
      ]
    },
    {
      "cell_type": "code",
      "execution_count": 8,
      "metadata": {},
      "outputs": [
        {
          "data": {
            "application/vnd.plotly.v1+json": {
              "config": {
                "plotlyServerURL": "https://plot.ly"
              },
              "data": [
                {
                  "alignmentgroup": "True",
                  "hovertemplate": "quantityordered=%{y}<extra></extra>",
                  "legendgroup": "",
                  "marker": {
                    "color": "#636efa"
                  },
                  "name": "",
                  "notched": false,
                  "offsetgroup": "",
                  "orientation": "v",
                  "showlegend": false,
                  "type": "box",
                  "x0": " ",
                  "xaxis": "x",
                  "y": {
                    "bdata": "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",
                    "dtype": "i1"
                  },
                  "y0": " ",
                  "yaxis": "y"
                }
              ],
              "layout": {
                "boxmode": "group",
                "legend": {
                  "tracegroupgap": 0
                },
                "template": {
                  "data": {
                    "bar": [
                      {
                        "error_x": {
                          "color": "#2a3f5f"
                        },
                        "error_y": {
                          "color": "#2a3f5f"
                        },
                        "marker": {
                          "line": {
                            "color": "#E5ECF6",
                            "width": 0.5
                          },
                          "pattern": {
                            "fillmode": "overlay",
                            "size": 10,
                            "solidity": 0.2
                          }
                        },
                        "type": "bar"
                      }
                    ],
                    "barpolar": [
                      {
                        "marker": {
                          "line": {
                            "color": "#E5ECF6",
                            "width": 0.5
                          },
                          "pattern": {
                            "fillmode": "overlay",
                            "size": 10,
                            "solidity": 0.2
                          }
                        },
                        "type": "barpolar"
                      }
                    ],
                    "carpet": [
                      {
                        "aaxis": {
                          "endlinecolor": "#2a3f5f",
                          "gridcolor": "white",
                          "linecolor": "white",
                          "minorgridcolor": "white",
                          "startlinecolor": "#2a3f5f"
                        },
                        "baxis": {
                          "endlinecolor": "#2a3f5f",
                          "gridcolor": "white",
                          "linecolor": "white",
                          "minorgridcolor": "white",
                          "startlinecolor": "#2a3f5f"
                        },
                        "type": "carpet"
                      }
                    ],
                    "choropleth": [
                      {
                        "colorbar": {
                          "outlinewidth": 0,
                          "ticks": ""
                        },
                        "type": "choropleth"
                      }
                    ],
                    "contour": [
                      {
                        "colorbar": {
                          "outlinewidth": 0,
                          "ticks": ""
                        },
                        "colorscale": [
                          [
                            0,
                            "#0d0887"
                          ],
                          [
                            0.1111111111111111,
                            "#46039f"
                          ],
                          [
                            0.2222222222222222,
                            "#7201a8"
                          ],
                          [
                            0.3333333333333333,
                            "#9c179e"
                          ],
                          [
                            0.4444444444444444,
                            "#bd3786"
                          ],
                          [
                            0.5555555555555556,
                            "#d8576b"
                          ],
                          [
                            0.6666666666666666,
                            "#ed7953"
                          ],
                          [
                            0.7777777777777778,
                            "#fb9f3a"
                          ],
                          [
                            0.8888888888888888,
                            "#fdca26"
                          ],
                          [
                            1,
                            "#f0f921"
                          ]
                        ],
                        "type": "contour"
                      }
                    ],
                    "contourcarpet": [
                      {
                        "colorbar": {
                          "outlinewidth": 0,
                          "ticks": ""
                        },
                        "type": "contourcarpet"
                      }
                    ],
                    "heatmap": [
                      {
                        "colorbar": {
                          "outlinewidth": 0,
                          "ticks": ""
                        },
                        "colorscale": [
                          [
                            0,
                            "#0d0887"
                          ],
                          [
                            0.1111111111111111,
                            "#46039f"
                          ],
                          [
                            0.2222222222222222,
                            "#7201a8"
                          ],
                          [
                            0.3333333333333333,
                            "#9c179e"
                          ],
                          [
                            0.4444444444444444,
                            "#bd3786"
                          ],
                          [
                            0.5555555555555556,
                            "#d8576b"
                          ],
                          [
                            0.6666666666666666,
                            "#ed7953"
                          ],
                          [
                            0.7777777777777778,
                            "#fb9f3a"
                          ],
                          [
                            0.8888888888888888,
                            "#fdca26"
                          ],
                          [
                            1,
                            "#f0f921"
                          ]
                        ],
                        "type": "heatmap"
                      }
                    ],
                    "histogram": [
                      {
                        "marker": {
                          "pattern": {
                            "fillmode": "overlay",
                            "size": 10,
                            "solidity": 0.2
                          }
                        },
                        "type": "histogram"
                      }
                    ],
                    "histogram2d": [
                      {
                        "colorbar": {
                          "outlinewidth": 0,
                          "ticks": ""
                        },
                        "colorscale": [
                          [
                            0,
                            "#0d0887"
                          ],
                          [
                            0.1111111111111111,
                            "#46039f"
                          ],
                          [
                            0.2222222222222222,
                            "#7201a8"
                          ],
                          [
                            0.3333333333333333,
                            "#9c179e"
                          ],
                          [
                            0.4444444444444444,
                            "#bd3786"
                          ],
                          [
                            0.5555555555555556,
                            "#d8576b"
                          ],
                          [
                            0.6666666666666666,
                            "#ed7953"
                          ],
                          [
                            0.7777777777777778,
                            "#fb9f3a"
                          ],
                          [
                            0.8888888888888888,
                            "#fdca26"
                          ],
                          [
                            1,
                            "#f0f921"
                          ]
                        ],
                        "type": "histogram2d"
                      }
                    ],
                    "histogram2dcontour": [
                      {
                        "colorbar": {
                          "outlinewidth": 0,
                          "ticks": ""
                        },
                        "colorscale": [
                          [
                            0,
                            "#0d0887"
                          ],
                          [
                            0.1111111111111111,
                            "#46039f"
                          ],
                          [
                            0.2222222222222222,
                            "#7201a8"
                          ],
                          [
                            0.3333333333333333,
                            "#9c179e"
                          ],
                          [
                            0.4444444444444444,
                            "#bd3786"
                          ],
                          [
                            0.5555555555555556,
                            "#d8576b"
                          ],
                          [
                            0.6666666666666666,
                            "#ed7953"
                          ],
                          [
                            0.7777777777777778,
                            "#fb9f3a"
                          ],
                          [
                            0.8888888888888888,
                            "#fdca26"
                          ],
                          [
                            1,
                            "#f0f921"
                          ]
                        ],
                        "type": "histogram2dcontour"
                      }
                    ],
                    "mesh3d": [
                      {
                        "colorbar": {
                          "outlinewidth": 0,
                          "ticks": ""
                        },
                        "type": "mesh3d"
                      }
                    ],
                    "parcoords": [
                      {
                        "line": {
                          "colorbar": {
                            "outlinewidth": 0,
                            "ticks": ""
                          }
                        },
                        "type": "parcoords"
                      }
                    ],
                    "pie": [
                      {
                        "automargin": true,
                        "type": "pie"
                      }
                    ],
                    "scatter": [
                      {
                        "fillpattern": {
                          "fillmode": "overlay",
                          "size": 10,
                          "solidity": 0.2
                        },
                        "type": "scatter"
                      }
                    ],
                    "scatter3d": [
                      {
                        "line": {
                          "colorbar": {
                            "outlinewidth": 0,
                            "ticks": ""
                          }
                        },
                        "marker": {
                          "colorbar": {
                            "outlinewidth": 0,
                            "ticks": ""
                          }
                        },
                        "type": "scatter3d"
                      }
                    ],
                    "scattercarpet": [
                      {
                        "marker": {
                          "colorbar": {
                            "outlinewidth": 0,
                            "ticks": ""
                          }
                        },
                        "type": "scattercarpet"
                      }
                    ],
                    "scattergeo": [
                      {
                        "marker": {
                          "colorbar": {
                            "outlinewidth": 0,
                            "ticks": ""
                          }
                        },
                        "type": "scattergeo"
                      }
                    ],
                    "scattergl": [
                      {
                        "marker": {
                          "colorbar": {
                            "outlinewidth": 0,
                            "ticks": ""
                          }
                        },
                        "type": "scattergl"
                      }
                    ],
                    "scattermap": [
                      {
                        "marker": {
                          "colorbar": {
                            "outlinewidth": 0,
                            "ticks": ""
                          }
                        },
                        "type": "scattermap"
                      }
                    ],
                    "scattermapbox": [
                      {
                        "marker": {
                          "colorbar": {
                            "outlinewidth": 0,
                            "ticks": ""
                          }
                        },
                        "type": "scattermapbox"
                      }
                    ],
                    "scatterpolar": [
                      {
                        "marker": {
                          "colorbar": {
                            "outlinewidth": 0,
                            "ticks": ""
                          }
                        },
                        "type": "scatterpolar"
                      }
                    ],
                    "scatterpolargl": [
                      {
                        "marker": {
                          "colorbar": {
                            "outlinewidth": 0,
                            "ticks": ""
                          }
                        },
                        "type": "scatterpolargl"
                      }
                    ],
                    "scatterternary": [
                      {
                        "marker": {
                          "colorbar": {
                            "outlinewidth": 0,
                            "ticks": ""
                          }
                        },
                        "type": "scatterternary"
                      }
                    ],
                    "surface": [
                      {
                        "colorbar": {
                          "outlinewidth": 0,
                          "ticks": ""
                        },
                        "colorscale": [
                          [
                            0,
                            "#0d0887"
                          ],
                          [
                            0.1111111111111111,
                            "#46039f"
                          ],
                          [
                            0.2222222222222222,
                            "#7201a8"
                          ],
                          [
                            0.3333333333333333,
                            "#9c179e"
                          ],
                          [
                            0.4444444444444444,
                            "#bd3786"
                          ],
                          [
                            0.5555555555555556,
                            "#d8576b"
                          ],
                          [
                            0.6666666666666666,
                            "#ed7953"
                          ],
                          [
                            0.7777777777777778,
                            "#fb9f3a"
                          ],
                          [
                            0.8888888888888888,
                            "#fdca26"
                          ],
                          [
                            1,
                            "#f0f921"
                          ]
                        ],
                        "type": "surface"
                      }
                    ],
                    "table": [
                      {
                        "cells": {
                          "fill": {
                            "color": "#EBF0F8"
                          },
                          "line": {
                            "color": "white"
                          }
                        },
                        "header": {
                          "fill": {
                            "color": "#C8D4E3"
                          },
                          "line": {
                            "color": "white"
                          }
                        },
                        "type": "table"
                      }
                    ]
                  },
                  "layout": {
                    "annotationdefaults": {
                      "arrowcolor": "#2a3f5f",
                      "arrowhead": 0,
                      "arrowwidth": 1
                    },
                    "autotypenumbers": "strict",
                    "coloraxis": {
                      "colorbar": {
                        "outlinewidth": 0,
                        "ticks": ""
                      }
                    },
                    "colorscale": {
                      "diverging": [
                        [
                          0,
                          "#8e0152"
                        ],
                        [
                          0.1,
                          "#c51b7d"
                        ],
                        [
                          0.2,
                          "#de77ae"
                        ],
                        [
                          0.3,
                          "#f1b6da"
                        ],
                        [
                          0.4,
                          "#fde0ef"
                        ],
                        [
                          0.5,
                          "#f7f7f7"
                        ],
                        [
                          0.6,
                          "#e6f5d0"
                        ],
                        [
                          0.7,
                          "#b8e186"
                        ],
                        [
                          0.8,
                          "#7fbc41"
                        ],
                        [
                          0.9,
                          "#4d9221"
                        ],
                        [
                          1,
                          "#276419"
                        ]
                      ],
                      "sequential": [
                        [
                          0,
                          "#0d0887"
                        ],
                        [
                          0.1111111111111111,
                          "#46039f"
                        ],
                        [
                          0.2222222222222222,
                          "#7201a8"
                        ],
                        [
                          0.3333333333333333,
                          "#9c179e"
                        ],
                        [
                          0.4444444444444444,
                          "#bd3786"
                        ],
                        [
                          0.5555555555555556,
                          "#d8576b"
                        ],
                        [
                          0.6666666666666666,
                          "#ed7953"
                        ],
                        [
                          0.7777777777777778,
                          "#fb9f3a"
                        ],
                        [
                          0.8888888888888888,
                          "#fdca26"
                        ],
                        [
                          1,
                          "#f0f921"
                        ]
                      ],
                      "sequentialminus": [
                        [
                          0,
                          "#0d0887"
                        ],
                        [
                          0.1111111111111111,
                          "#46039f"
                        ],
                        [
                          0.2222222222222222,
                          "#7201a8"
                        ],
                        [
                          0.3333333333333333,
                          "#9c179e"
                        ],
                        [
                          0.4444444444444444,
                          "#bd3786"
                        ],
                        [
                          0.5555555555555556,
                          "#d8576b"
                        ],
                        [
                          0.6666666666666666,
                          "#ed7953"
                        ],
                        [
                          0.7777777777777778,
                          "#fb9f3a"
                        ],
                        [
                          0.8888888888888888,
                          "#fdca26"
                        ],
                        [
                          1,
                          "#f0f921"
                        ]
                      ]
                    },
                    "colorway": [
                      "#636efa",
                      "#EF553B",
                      "#00cc96",
                      "#ab63fa",
                      "#FFA15A",
                      "#19d3f3",
                      "#FF6692",
                      "#B6E880",
                      "#FF97FF",
                      "#FECB52"
                    ],
                    "font": {
                      "color": "#2a3f5f"
                    },
                    "geo": {
                      "bgcolor": "white",
                      "lakecolor": "white",
                      "landcolor": "#E5ECF6",
                      "showlakes": true,
                      "showland": true,
                      "subunitcolor": "white"
                    },
                    "hoverlabel": {
                      "align": "left"
                    },
                    "hovermode": "closest",
                    "mapbox": {
                      "style": "light"
                    },
                    "paper_bgcolor": "white",
                    "plot_bgcolor": "#E5ECF6",
                    "polar": {
                      "angularaxis": {
                        "gridcolor": "white",
                        "linecolor": "white",
                        "ticks": ""
                      },
                      "bgcolor": "#E5ECF6",
                      "radialaxis": {
                        "gridcolor": "white",
                        "linecolor": "white",
                        "ticks": ""
                      }
                    },
                    "scene": {
                      "xaxis": {
                        "backgroundcolor": "#E5ECF6",
                        "gridcolor": "white",
                        "gridwidth": 2,
                        "linecolor": "white",
                        "showbackground": true,
                        "ticks": "",
                        "zerolinecolor": "white"
                      },
                      "yaxis": {
                        "backgroundcolor": "#E5ECF6",
                        "gridcolor": "white",
                        "gridwidth": 2,
                        "linecolor": "white",
                        "showbackground": true,
                        "ticks": "",
                        "zerolinecolor": "white"
                      },
                      "zaxis": {
                        "backgroundcolor": "#E5ECF6",
                        "gridcolor": "white",
                        "gridwidth": 2,
                        "linecolor": "white",
                        "showbackground": true,
                        "ticks": "",
                        "zerolinecolor": "white"
                      }
                    },
                    "shapedefaults": {
                      "line": {
                        "color": "#2a3f5f"
                      }
                    },
                    "ternary": {
                      "aaxis": {
                        "gridcolor": "white",
                        "linecolor": "white",
                        "ticks": ""
                      },
                      "baxis": {
                        "gridcolor": "white",
                        "linecolor": "white",
                        "ticks": ""
                      },
                      "bgcolor": "#E5ECF6",
                      "caxis": {
                        "gridcolor": "white",
                        "linecolor": "white",
                        "ticks": ""
                      }
                    },
                    "title": {
                      "x": 0.05
                    },
                    "xaxis": {
                      "automargin": true,
                      "gridcolor": "white",
                      "linecolor": "white",
                      "ticks": "",
                      "title": {
                        "standoff": 15
                      },
                      "zerolinecolor": "white",
                      "zerolinewidth": 2
                    },
                    "yaxis": {
                      "automargin": true,
                      "gridcolor": "white",
                      "linecolor": "white",
                      "ticks": "",
                      "title": {
                        "standoff": 15
                      },
                      "zerolinecolor": "white",
                      "zerolinewidth": 2
                    }
                  }
                },
                "title": {
                  "text": "Distribución de Cantidades Vendidas por Línea"
                },
                "xaxis": {
                  "anchor": "y",
                  "domain": [
                    0,
                    1
                  ]
                },
                "yaxis": {
                  "anchor": "x",
                  "domain": [
                    0,
                    1
                  ],
                  "title": {
                    "text": "quantityordered"
                  }
                }
              }
            }
          },
          "metadata": {},
          "output_type": "display_data"
        }
      ],
      "source": [
        "# Boxplot interactivo\n",
        "fig = px.box(df, y='quantityordered', title='Distribución de Cantidades Vendidas por Línea')\n",
        "fig.show()"
      ]
    },
    {
      "cell_type": "markdown",
      "metadata": {},
      "source": [
        "## 6. Tiempo de Envío por Estado del Pedido"
      ]
    },
    {
      "cell_type": "code",
      "execution_count": 9,
      "metadata": {},
      "outputs": [
        {
          "data": {
            "application/vnd.plotly.v1+json": {
              "config": {
                "plotlyServerURL": "https://plot.ly"
              },
              "data": [
                {
                  "hovertemplate": "Estado=%{x}<br>Días promedio hasta envío=%{y}<extra></extra>",
                  "legendgroup": "",
                  "marker": {
                    "color": "#636efa",
                    "pattern": {
                      "shape": ""
                    }
                  },
                  "name": "",
                  "orientation": "v",
                  "showlegend": false,
                  "textposition": "auto",
                  "type": "bar",
                  "x": [
                    "Shipped"
                  ],
                  "xaxis": "x",
                  "y": {
                    "bdata": "U8siCT3OC0A=",
                    "dtype": "f8"
                  },
                  "yaxis": "y"
                }
              ],
              "layout": {
                "barmode": "relative",
                "legend": {
                  "tracegroupgap": 0
                },
                "template": {
                  "data": {
                    "bar": [
                      {
                        "error_x": {
                          "color": "#2a3f5f"
                        },
                        "error_y": {
                          "color": "#2a3f5f"
                        },
                        "marker": {
                          "line": {
                            "color": "#E5ECF6",
                            "width": 0.5
                          },
                          "pattern": {
                            "fillmode": "overlay",
                            "size": 10,
                            "solidity": 0.2
                          }
                        },
                        "type": "bar"
                      }
                    ],
                    "barpolar": [
                      {
                        "marker": {
                          "line": {
                            "color": "#E5ECF6",
                            "width": 0.5
                          },
                          "pattern": {
                            "fillmode": "overlay",
                            "size": 10,
                            "solidity": 0.2
                          }
                        },
                        "type": "barpolar"
                      }
                    ],
                    "carpet": [
                      {
                        "aaxis": {
                          "endlinecolor": "#2a3f5f",
                          "gridcolor": "white",
                          "linecolor": "white",
                          "minorgridcolor": "white",
                          "startlinecolor": "#2a3f5f"
                        },
                        "baxis": {
                          "endlinecolor": "#2a3f5f",
                          "gridcolor": "white",
                          "linecolor": "white",
                          "minorgridcolor": "white",
                          "startlinecolor": "#2a3f5f"
                        },
                        "type": "carpet"
                      }
                    ],
                    "choropleth": [
                      {
                        "colorbar": {
                          "outlinewidth": 0,
                          "ticks": ""
                        },
                        "type": "choropleth"
                      }
                    ],
                    "contour": [
                      {
                        "colorbar": {
                          "outlinewidth": 0,
                          "ticks": ""
                        },
                        "colorscale": [
                          [
                            0,
                            "#0d0887"
                          ],
                          [
                            0.1111111111111111,
                            "#46039f"
                          ],
                          [
                            0.2222222222222222,
                            "#7201a8"
                          ],
                          [
                            0.3333333333333333,
                            "#9c179e"
                          ],
                          [
                            0.4444444444444444,
                            "#bd3786"
                          ],
                          [
                            0.5555555555555556,
                            "#d8576b"
                          ],
                          [
                            0.6666666666666666,
                            "#ed7953"
                          ],
                          [
                            0.7777777777777778,
                            "#fb9f3a"
                          ],
                          [
                            0.8888888888888888,
                            "#fdca26"
                          ],
                          [
                            1,
                            "#f0f921"
                          ]
                        ],
                        "type": "contour"
                      }
                    ],
                    "contourcarpet": [
                      {
                        "colorbar": {
                          "outlinewidth": 0,
                          "ticks": ""
                        },
                        "type": "contourcarpet"
                      }
                    ],
                    "heatmap": [
                      {
                        "colorbar": {
                          "outlinewidth": 0,
                          "ticks": ""
                        },
                        "colorscale": [
                          [
                            0,
                            "#0d0887"
                          ],
                          [
                            0.1111111111111111,
                            "#46039f"
                          ],
                          [
                            0.2222222222222222,
                            "#7201a8"
                          ],
                          [
                            0.3333333333333333,
                            "#9c179e"
                          ],
                          [
                            0.4444444444444444,
                            "#bd3786"
                          ],
                          [
                            0.5555555555555556,
                            "#d8576b"
                          ],
                          [
                            0.6666666666666666,
                            "#ed7953"
                          ],
                          [
                            0.7777777777777778,
                            "#fb9f3a"
                          ],
                          [
                            0.8888888888888888,
                            "#fdca26"
                          ],
                          [
                            1,
                            "#f0f921"
                          ]
                        ],
                        "type": "heatmap"
                      }
                    ],
                    "histogram": [
                      {
                        "marker": {
                          "pattern": {
                            "fillmode": "overlay",
                            "size": 10,
                            "solidity": 0.2
                          }
                        },
                        "type": "histogram"
                      }
                    ],
                    "histogram2d": [
                      {
                        "colorbar": {
                          "outlinewidth": 0,
                          "ticks": ""
                        },
                        "colorscale": [
                          [
                            0,
                            "#0d0887"
                          ],
                          [
                            0.1111111111111111,
                            "#46039f"
                          ],
                          [
                            0.2222222222222222,
                            "#7201a8"
                          ],
                          [
                            0.3333333333333333,
                            "#9c179e"
                          ],
                          [
                            0.4444444444444444,
                            "#bd3786"
                          ],
                          [
                            0.5555555555555556,
                            "#d8576b"
                          ],
                          [
                            0.6666666666666666,
                            "#ed7953"
                          ],
                          [
                            0.7777777777777778,
                            "#fb9f3a"
                          ],
                          [
                            0.8888888888888888,
                            "#fdca26"
                          ],
                          [
                            1,
                            "#f0f921"
                          ]
                        ],
                        "type": "histogram2d"
                      }
                    ],
                    "histogram2dcontour": [
                      {
                        "colorbar": {
                          "outlinewidth": 0,
                          "ticks": ""
                        },
                        "colorscale": [
                          [
                            0,
                            "#0d0887"
                          ],
                          [
                            0.1111111111111111,
                            "#46039f"
                          ],
                          [
                            0.2222222222222222,
                            "#7201a8"
                          ],
                          [
                            0.3333333333333333,
                            "#9c179e"
                          ],
                          [
                            0.4444444444444444,
                            "#bd3786"
                          ],
                          [
                            0.5555555555555556,
                            "#d8576b"
                          ],
                          [
                            0.6666666666666666,
                            "#ed7953"
                          ],
                          [
                            0.7777777777777778,
                            "#fb9f3a"
                          ],
                          [
                            0.8888888888888888,
                            "#fdca26"
                          ],
                          [
                            1,
                            "#f0f921"
                          ]
                        ],
                        "type": "histogram2dcontour"
                      }
                    ],
                    "mesh3d": [
                      {
                        "colorbar": {
                          "outlinewidth": 0,
                          "ticks": ""
                        },
                        "type": "mesh3d"
                      }
                    ],
                    "parcoords": [
                      {
                        "line": {
                          "colorbar": {
                            "outlinewidth": 0,
                            "ticks": ""
                          }
                        },
                        "type": "parcoords"
                      }
                    ],
                    "pie": [
                      {
                        "automargin": true,
                        "type": "pie"
                      }
                    ],
                    "scatter": [
                      {
                        "fillpattern": {
                          "fillmode": "overlay",
                          "size": 10,
                          "solidity": 0.2
                        },
                        "type": "scatter"
                      }
                    ],
                    "scatter3d": [
                      {
                        "line": {
                          "colorbar": {
                            "outlinewidth": 0,
                            "ticks": ""
                          }
                        },
                        "marker": {
                          "colorbar": {
                            "outlinewidth": 0,
                            "ticks": ""
                          }
                        },
                        "type": "scatter3d"
                      }
                    ],
                    "scattercarpet": [
                      {
                        "marker": {
                          "colorbar": {
                            "outlinewidth": 0,
                            "ticks": ""
                          }
                        },
                        "type": "scattercarpet"
                      }
                    ],
                    "scattergeo": [
                      {
                        "marker": {
                          "colorbar": {
                            "outlinewidth": 0,
                            "ticks": ""
                          }
                        },
                        "type": "scattergeo"
                      }
                    ],
                    "scattergl": [
                      {
                        "marker": {
                          "colorbar": {
                            "outlinewidth": 0,
                            "ticks": ""
                          }
                        },
                        "type": "scattergl"
                      }
                    ],
                    "scattermap": [
                      {
                        "marker": {
                          "colorbar": {
                            "outlinewidth": 0,
                            "ticks": ""
                          }
                        },
                        "type": "scattermap"
                      }
                    ],
                    "scattermapbox": [
                      {
                        "marker": {
                          "colorbar": {
                            "outlinewidth": 0,
                            "ticks": ""
                          }
                        },
                        "type": "scattermapbox"
                      }
                    ],
                    "scatterpolar": [
                      {
                        "marker": {
                          "colorbar": {
                            "outlinewidth": 0,
                            "ticks": ""
                          }
                        },
                        "type": "scatterpolar"
                      }
                    ],
                    "scatterpolargl": [
                      {
                        "marker": {
                          "colorbar": {
                            "outlinewidth": 0,
                            "ticks": ""
                          }
                        },
                        "type": "scatterpolargl"
                      }
                    ],
                    "scatterternary": [
                      {
                        "marker": {
                          "colorbar": {
                            "outlinewidth": 0,
                            "ticks": ""
                          }
                        },
                        "type": "scatterternary"
                      }
                    ],
                    "surface": [
                      {
                        "colorbar": {
                          "outlinewidth": 0,
                          "ticks": ""
                        },
                        "colorscale": [
                          [
                            0,
                            "#0d0887"
                          ],
                          [
                            0.1111111111111111,
                            "#46039f"
                          ],
                          [
                            0.2222222222222222,
                            "#7201a8"
                          ],
                          [
                            0.3333333333333333,
                            "#9c179e"
                          ],
                          [
                            0.4444444444444444,
                            "#bd3786"
                          ],
                          [
                            0.5555555555555556,
                            "#d8576b"
                          ],
                          [
                            0.6666666666666666,
                            "#ed7953"
                          ],
                          [
                            0.7777777777777778,
                            "#fb9f3a"
                          ],
                          [
                            0.8888888888888888,
                            "#fdca26"
                          ],
                          [
                            1,
                            "#f0f921"
                          ]
                        ],
                        "type": "surface"
                      }
                    ],
                    "table": [
                      {
                        "cells": {
                          "fill": {
                            "color": "#EBF0F8"
                          },
                          "line": {
                            "color": "white"
                          }
                        },
                        "header": {
                          "fill": {
                            "color": "#C8D4E3"
                          },
                          "line": {
                            "color": "white"
                          }
                        },
                        "type": "table"
                      }
                    ]
                  },
                  "layout": {
                    "annotationdefaults": {
                      "arrowcolor": "#2a3f5f",
                      "arrowhead": 0,
                      "arrowwidth": 1
                    },
                    "autotypenumbers": "strict",
                    "coloraxis": {
                      "colorbar": {
                        "outlinewidth": 0,
                        "ticks": ""
                      }
                    },
                    "colorscale": {
                      "diverging": [
                        [
                          0,
                          "#8e0152"
                        ],
                        [
                          0.1,
                          "#c51b7d"
                        ],
                        [
                          0.2,
                          "#de77ae"
                        ],
                        [
                          0.3,
                          "#f1b6da"
                        ],
                        [
                          0.4,
                          "#fde0ef"
                        ],
                        [
                          0.5,
                          "#f7f7f7"
                        ],
                        [
                          0.6,
                          "#e6f5d0"
                        ],
                        [
                          0.7,
                          "#b8e186"
                        ],
                        [
                          0.8,
                          "#7fbc41"
                        ],
                        [
                          0.9,
                          "#4d9221"
                        ],
                        [
                          1,
                          "#276419"
                        ]
                      ],
                      "sequential": [
                        [
                          0,
                          "#0d0887"
                        ],
                        [
                          0.1111111111111111,
                          "#46039f"
                        ],
                        [
                          0.2222222222222222,
                          "#7201a8"
                        ],
                        [
                          0.3333333333333333,
                          "#9c179e"
                        ],
                        [
                          0.4444444444444444,
                          "#bd3786"
                        ],
                        [
                          0.5555555555555556,
                          "#d8576b"
                        ],
                        [
                          0.6666666666666666,
                          "#ed7953"
                        ],
                        [
                          0.7777777777777778,
                          "#fb9f3a"
                        ],
                        [
                          0.8888888888888888,
                          "#fdca26"
                        ],
                        [
                          1,
                          "#f0f921"
                        ]
                      ],
                      "sequentialminus": [
                        [
                          0,
                          "#0d0887"
                        ],
                        [
                          0.1111111111111111,
                          "#46039f"
                        ],
                        [
                          0.2222222222222222,
                          "#7201a8"
                        ],
                        [
                          0.3333333333333333,
                          "#9c179e"
                        ],
                        [
                          0.4444444444444444,
                          "#bd3786"
                        ],
                        [
                          0.5555555555555556,
                          "#d8576b"
                        ],
                        [
                          0.6666666666666666,
                          "#ed7953"
                        ],
                        [
                          0.7777777777777778,
                          "#fb9f3a"
                        ],
                        [
                          0.8888888888888888,
                          "#fdca26"
                        ],
                        [
                          1,
                          "#f0f921"
                        ]
                      ]
                    },
                    "colorway": [
                      "#636efa",
                      "#EF553B",
                      "#00cc96",
                      "#ab63fa",
                      "#FFA15A",
                      "#19d3f3",
                      "#FF6692",
                      "#B6E880",
                      "#FF97FF",
                      "#FECB52"
                    ],
                    "font": {
                      "color": "#2a3f5f"
                    },
                    "geo": {
                      "bgcolor": "white",
                      "lakecolor": "white",
                      "landcolor": "#E5ECF6",
                      "showlakes": true,
                      "showland": true,
                      "subunitcolor": "white"
                    },
                    "hoverlabel": {
                      "align": "left"
                    },
                    "hovermode": "closest",
                    "mapbox": {
                      "style": "light"
                    },
                    "paper_bgcolor": "white",
                    "plot_bgcolor": "#E5ECF6",
                    "polar": {
                      "angularaxis": {
                        "gridcolor": "white",
                        "linecolor": "white",
                        "ticks": ""
                      },
                      "bgcolor": "#E5ECF6",
                      "radialaxis": {
                        "gridcolor": "white",
                        "linecolor": "white",
                        "ticks": ""
                      }
                    },
                    "scene": {
                      "xaxis": {
                        "backgroundcolor": "#E5ECF6",
                        "gridcolor": "white",
                        "gridwidth": 2,
                        "linecolor": "white",
                        "showbackground": true,
                        "ticks": "",
                        "zerolinecolor": "white"
                      },
                      "yaxis": {
                        "backgroundcolor": "#E5ECF6",
                        "gridcolor": "white",
                        "gridwidth": 2,
                        "linecolor": "white",
                        "showbackground": true,
                        "ticks": "",
                        "zerolinecolor": "white"
                      },
                      "zaxis": {
                        "backgroundcolor": "#E5ECF6",
                        "gridcolor": "white",
                        "gridwidth": 2,
                        "linecolor": "white",
                        "showbackground": true,
                        "ticks": "",
                        "zerolinecolor": "white"
                      }
                    },
                    "shapedefaults": {
                      "line": {
                        "color": "#2a3f5f"
                      }
                    },
                    "ternary": {
                      "aaxis": {
                        "gridcolor": "white",
                        "linecolor": "white",
                        "ticks": ""
                      },
                      "baxis": {
                        "gridcolor": "white",
                        "linecolor": "white",
                        "ticks": ""
                      },
                      "bgcolor": "#E5ECF6",
                      "caxis": {
                        "gridcolor": "white",
                        "linecolor": "white",
                        "ticks": ""
                      }
                    },
                    "title": {
                      "x": 0.05
                    },
                    "xaxis": {
                      "automargin": true,
                      "gridcolor": "white",
                      "linecolor": "white",
                      "ticks": "",
                      "title": {
                        "standoff": 15
                      },
                      "zerolinecolor": "white",
                      "zerolinewidth": 2
                    },
                    "yaxis": {
                      "automargin": true,
                      "gridcolor": "white",
                      "linecolor": "white",
                      "ticks": "",
                      "title": {
                        "standoff": 15
                      },
                      "zerolinecolor": "white",
                      "zerolinewidth": 2
                    }
                  }
                },
                "title": {
                  "text": "Tiempo Promedio de Envío por Estado"
                },
                "xaxis": {
                  "anchor": "y",
                  "domain": [
                    0,
                    1
                  ],
                  "title": {
                    "text": "Estado"
                  }
                },
                "yaxis": {
                  "anchor": "x",
                  "domain": [
                    0,
                    1
                  ],
                  "title": {
                    "text": "Días promedio hasta envío"
                  }
                }
              }
            }
          },
          "metadata": {},
          "output_type": "display_data"
        }
      ],
      "source": [
        "# Filtrar pedidos enviados\n",
        "df_shipped = df[df['status'] == 'Shipped']\n",
        "\n",
        "# Gráfico interactivo\n",
        "fig = px.bar(df_shipped.groupby('status')['days_to_ship'].mean().reset_index(),\n",
        "             x='status', y='days_to_ship',\n",
        "             title='Tiempo Promedio de Envío por Estado',\n",
        "             labels={'days_to_ship': 'Días promedio hasta envío', 'status': 'Estado'})\n",
        "fig.show()"
      ]
    },
    {
      "cell_type": "markdown",
      "metadata": {},
      "source": [
        "## 8. Relación entre Precio y Cantidad Vendida"
      ]
    },
    {
      "cell_type": "code",
      "execution_count": 10,
      "metadata": {},
      "outputs": [
        {
          "data": {
            "application/vnd.plotly.v1+json": {
              "config": {
                "plotlyServerURL": "https://plot.ly"
              },
              "data": [
                {
                  "hovertemplate": "priceeach=%{x}<br>quantityordered=%{y}<extra></extra>",
                  "legendgroup": "",
                  "marker": {
                    "color": "#636efa",
                    "symbol": "circle"
                  },
                  "mode": "markers",
                  "name": "",
                  "showlegend": false,
                  "type": "scattergl",
                  "x": {
                    "bdata": "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",
                    "dtype": "f8"
                  },
                  "xaxis": "x",
                  "y": {
                    "bdata": "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",
                    "dtype": "i1"
                  },
                  "yaxis": "y"
                }
              ],
              "layout": {
                "legend": {
                  "tracegroupgap": 0
                },
                "template": {
                  "data": {
                    "bar": [
                      {
                        "error_x": {
                          "color": "#2a3f5f"
                        },
                        "error_y": {
                          "color": "#2a3f5f"
                        },
                        "marker": {
                          "line": {
                            "color": "#E5ECF6",
                            "width": 0.5
                          },
                          "pattern": {
                            "fillmode": "overlay",
                            "size": 10,
                            "solidity": 0.2
                          }
                        },
                        "type": "bar"
                      }
                    ],
                    "barpolar": [
                      {
                        "marker": {
                          "line": {
                            "color": "#E5ECF6",
                            "width": 0.5
                          },
                          "pattern": {
                            "fillmode": "overlay",
                            "size": 10,
                            "solidity": 0.2
                          }
                        },
                        "type": "barpolar"
                      }
                    ],
                    "carpet": [
                      {
                        "aaxis": {
                          "endlinecolor": "#2a3f5f",
                          "gridcolor": "white",
                          "linecolor": "white",
                          "minorgridcolor": "white",
                          "startlinecolor": "#2a3f5f"
                        },
                        "baxis": {
                          "endlinecolor": "#2a3f5f",
                          "gridcolor": "white",
                          "linecolor": "white",
                          "minorgridcolor": "white",
                          "startlinecolor": "#2a3f5f"
                        },
                        "type": "carpet"
                      }
                    ],
                    "choropleth": [
                      {
                        "colorbar": {
                          "outlinewidth": 0,
                          "ticks": ""
                        },
                        "type": "choropleth"
                      }
                    ],
                    "contour": [
                      {
                        "colorbar": {
                          "outlinewidth": 0,
                          "ticks": ""
                        },
                        "colorscale": [
                          [
                            0,
                            "#0d0887"
                          ],
                          [
                            0.1111111111111111,
                            "#46039f"
                          ],
                          [
                            0.2222222222222222,
                            "#7201a8"
                          ],
                          [
                            0.3333333333333333,
                            "#9c179e"
                          ],
                          [
                            0.4444444444444444,
                            "#bd3786"
                          ],
                          [
                            0.5555555555555556,
                            "#d8576b"
                          ],
                          [
                            0.6666666666666666,
                            "#ed7953"
                          ],
                          [
                            0.7777777777777778,
                            "#fb9f3a"
                          ],
                          [
                            0.8888888888888888,
                            "#fdca26"
                          ],
                          [
                            1,
                            "#f0f921"
                          ]
                        ],
                        "type": "contour"
                      }
                    ],
                    "contourcarpet": [
                      {
                        "colorbar": {
                          "outlinewidth": 0,
                          "ticks": ""
                        },
                        "type": "contourcarpet"
                      }
                    ],
                    "heatmap": [
                      {
                        "colorbar": {
                          "outlinewidth": 0,
                          "ticks": ""
                        },
                        "colorscale": [
                          [
                            0,
                            "#0d0887"
                          ],
                          [
                            0.1111111111111111,
                            "#46039f"
                          ],
                          [
                            0.2222222222222222,
                            "#7201a8"
                          ],
                          [
                            0.3333333333333333,
                            "#9c179e"
                          ],
                          [
                            0.4444444444444444,
                            "#bd3786"
                          ],
                          [
                            0.5555555555555556,
                            "#d8576b"
                          ],
                          [
                            0.6666666666666666,
                            "#ed7953"
                          ],
                          [
                            0.7777777777777778,
                            "#fb9f3a"
                          ],
                          [
                            0.8888888888888888,
                            "#fdca26"
                          ],
                          [
                            1,
                            "#f0f921"
                          ]
                        ],
                        "type": "heatmap"
                      }
                    ],
                    "histogram": [
                      {
                        "marker": {
                          "pattern": {
                            "fillmode": "overlay",
                            "size": 10,
                            "solidity": 0.2
                          }
                        },
                        "type": "histogram"
                      }
                    ],
                    "histogram2d": [
                      {
                        "colorbar": {
                          "outlinewidth": 0,
                          "ticks": ""
                        },
                        "colorscale": [
                          [
                            0,
                            "#0d0887"
                          ],
                          [
                            0.1111111111111111,
                            "#46039f"
                          ],
                          [
                            0.2222222222222222,
                            "#7201a8"
                          ],
                          [
                            0.3333333333333333,
                            "#9c179e"
                          ],
                          [
                            0.4444444444444444,
                            "#bd3786"
                          ],
                          [
                            0.5555555555555556,
                            "#d8576b"
                          ],
                          [
                            0.6666666666666666,
                            "#ed7953"
                          ],
                          [
                            0.7777777777777778,
                            "#fb9f3a"
                          ],
                          [
                            0.8888888888888888,
                            "#fdca26"
                          ],
                          [
                            1,
                            "#f0f921"
                          ]
                        ],
                        "type": "histogram2d"
                      }
                    ],
                    "histogram2dcontour": [
                      {
                        "colorbar": {
                          "outlinewidth": 0,
                          "ticks": ""
                        },
                        "colorscale": [
                          [
                            0,
                            "#0d0887"
                          ],
                          [
                            0.1111111111111111,
                            "#46039f"
                          ],
                          [
                            0.2222222222222222,
                            "#7201a8"
                          ],
                          [
                            0.3333333333333333,
                            "#9c179e"
                          ],
                          [
                            0.4444444444444444,
                            "#bd3786"
                          ],
                          [
                            0.5555555555555556,
                            "#d8576b"
                          ],
                          [
                            0.6666666666666666,
                            "#ed7953"
                          ],
                          [
                            0.7777777777777778,
                            "#fb9f3a"
                          ],
                          [
                            0.8888888888888888,
                            "#fdca26"
                          ],
                          [
                            1,
                            "#f0f921"
                          ]
                        ],
                        "type": "histogram2dcontour"
                      }
                    ],
                    "mesh3d": [
                      {
                        "colorbar": {
                          "outlinewidth": 0,
                          "ticks": ""
                        },
                        "type": "mesh3d"
                      }
                    ],
                    "parcoords": [
                      {
                        "line": {
                          "colorbar": {
                            "outlinewidth": 0,
                            "ticks": ""
                          }
                        },
                        "type": "parcoords"
                      }
                    ],
                    "pie": [
                      {
                        "automargin": true,
                        "type": "pie"
                      }
                    ],
                    "scatter": [
                      {
                        "fillpattern": {
                          "fillmode": "overlay",
                          "size": 10,
                          "solidity": 0.2
                        },
                        "type": "scatter"
                      }
                    ],
                    "scatter3d": [
                      {
                        "line": {
                          "colorbar": {
                            "outlinewidth": 0,
                            "ticks": ""
                          }
                        },
                        "marker": {
                          "colorbar": {
                            "outlinewidth": 0,
                            "ticks": ""
                          }
                        },
                        "type": "scatter3d"
                      }
                    ],
                    "scattercarpet": [
                      {
                        "marker": {
                          "colorbar": {
                            "outlinewidth": 0,
                            "ticks": ""
                          }
                        },
                        "type": "scattercarpet"
                      }
                    ],
                    "scattergeo": [
                      {
                        "marker": {
                          "colorbar": {
                            "outlinewidth": 0,
                            "ticks": ""
                          }
                        },
                        "type": "scattergeo"
                      }
                    ],
                    "scattergl": [
                      {
                        "marker": {
                          "colorbar": {
                            "outlinewidth": 0,
                            "ticks": ""
                          }
                        },
                        "type": "scattergl"
                      }
                    ],
                    "scattermap": [
                      {
                        "marker": {
                          "colorbar": {
                            "outlinewidth": 0,
                            "ticks": ""
                          }
                        },
                        "type": "scattermap"
                      }
                    ],
                    "scattermapbox": [
                      {
                        "marker": {
                          "colorbar": {
                            "outlinewidth": 0,
                            "ticks": ""
                          }
                        },
                        "type": "scattermapbox"
                      }
                    ],
                    "scatterpolar": [
                      {
                        "marker": {
                          "colorbar": {
                            "outlinewidth": 0,
                            "ticks": ""
                          }
                        },
                        "type": "scatterpolar"
                      }
                    ],
                    "scatterpolargl": [
                      {
                        "marker": {
                          "colorbar": {
                            "outlinewidth": 0,
                            "ticks": ""
                          }
                        },
                        "type": "scatterpolargl"
                      }
                    ],
                    "scatterternary": [
                      {
                        "marker": {
                          "colorbar": {
                            "outlinewidth": 0,
                            "ticks": ""
                          }
                        },
                        "type": "scatterternary"
                      }
                    ],
                    "surface": [
                      {
                        "colorbar": {
                          "outlinewidth": 0,
                          "ticks": ""
                        },
                        "colorscale": [
                          [
                            0,
                            "#0d0887"
                          ],
                          [
                            0.1111111111111111,
                            "#46039f"
                          ],
                          [
                            0.2222222222222222,
                            "#7201a8"
                          ],
                          [
                            0.3333333333333333,
                            "#9c179e"
                          ],
                          [
                            0.4444444444444444,
                            "#bd3786"
                          ],
                          [
                            0.5555555555555556,
                            "#d8576b"
                          ],
                          [
                            0.6666666666666666,
                            "#ed7953"
                          ],
                          [
                            0.7777777777777778,
                            "#fb9f3a"
                          ],
                          [
                            0.8888888888888888,
                            "#fdca26"
                          ],
                          [
                            1,
                            "#f0f921"
                          ]
                        ],
                        "type": "surface"
                      }
                    ],
                    "table": [
                      {
                        "cells": {
                          "fill": {
                            "color": "#EBF0F8"
                          },
                          "line": {
                            "color": "white"
                          }
                        },
                        "header": {
                          "fill": {
                            "color": "#C8D4E3"
                          },
                          "line": {
                            "color": "white"
                          }
                        },
                        "type": "table"
                      }
                    ]
                  },
                  "layout": {
                    "annotationdefaults": {
                      "arrowcolor": "#2a3f5f",
                      "arrowhead": 0,
                      "arrowwidth": 1
                    },
                    "autotypenumbers": "strict",
                    "coloraxis": {
                      "colorbar": {
                        "outlinewidth": 0,
                        "ticks": ""
                      }
                    },
                    "colorscale": {
                      "diverging": [
                        [
                          0,
                          "#8e0152"
                        ],
                        [
                          0.1,
                          "#c51b7d"
                        ],
                        [
                          0.2,
                          "#de77ae"
                        ],
                        [
                          0.3,
                          "#f1b6da"
                        ],
                        [
                          0.4,
                          "#fde0ef"
                        ],
                        [
                          0.5,
                          "#f7f7f7"
                        ],
                        [
                          0.6,
                          "#e6f5d0"
                        ],
                        [
                          0.7,
                          "#b8e186"
                        ],
                        [
                          0.8,
                          "#7fbc41"
                        ],
                        [
                          0.9,
                          "#4d9221"
                        ],
                        [
                          1,
                          "#276419"
                        ]
                      ],
                      "sequential": [
                        [
                          0,
                          "#0d0887"
                        ],
                        [
                          0.1111111111111111,
                          "#46039f"
                        ],
                        [
                          0.2222222222222222,
                          "#7201a8"
                        ],
                        [
                          0.3333333333333333,
                          "#9c179e"
                        ],
                        [
                          0.4444444444444444,
                          "#bd3786"
                        ],
                        [
                          0.5555555555555556,
                          "#d8576b"
                        ],
                        [
                          0.6666666666666666,
                          "#ed7953"
                        ],
                        [
                          0.7777777777777778,
                          "#fb9f3a"
                        ],
                        [
                          0.8888888888888888,
                          "#fdca26"
                        ],
                        [
                          1,
                          "#f0f921"
                        ]
                      ],
                      "sequentialminus": [
                        [
                          0,
                          "#0d0887"
                        ],
                        [
                          0.1111111111111111,
                          "#46039f"
                        ],
                        [
                          0.2222222222222222,
                          "#7201a8"
                        ],
                        [
                          0.3333333333333333,
                          "#9c179e"
                        ],
                        [
                          0.4444444444444444,
                          "#bd3786"
                        ],
                        [
                          0.5555555555555556,
                          "#d8576b"
                        ],
                        [
                          0.6666666666666666,
                          "#ed7953"
                        ],
                        [
                          0.7777777777777778,
                          "#fb9f3a"
                        ],
                        [
                          0.8888888888888888,
                          "#fdca26"
                        ],
                        [
                          1,
                          "#f0f921"
                        ]
                      ]
                    },
                    "colorway": [
                      "#636efa",
                      "#EF553B",
                      "#00cc96",
                      "#ab63fa",
                      "#FFA15A",
                      "#19d3f3",
                      "#FF6692",
                      "#B6E880",
                      "#FF97FF",
                      "#FECB52"
                    ],
                    "font": {
                      "color": "#2a3f5f"
                    },
                    "geo": {
                      "bgcolor": "white",
                      "lakecolor": "white",
                      "landcolor": "#E5ECF6",
                      "showlakes": true,
                      "showland": true,
                      "subunitcolor": "white"
                    },
                    "hoverlabel": {
                      "align": "left"
                    },
                    "hovermode": "closest",
                    "mapbox": {
                      "style": "light"
                    },
                    "paper_bgcolor": "white",
                    "plot_bgcolor": "#E5ECF6",
                    "polar": {
                      "angularaxis": {
                        "gridcolor": "white",
                        "linecolor": "white",
                        "ticks": ""
                      },
                      "bgcolor": "#E5ECF6",
                      "radialaxis": {
                        "gridcolor": "white",
                        "linecolor": "white",
                        "ticks": ""
                      }
                    },
                    "scene": {
                      "xaxis": {
                        "backgroundcolor": "#E5ECF6",
                        "gridcolor": "white",
                        "gridwidth": 2,
                        "linecolor": "white",
                        "showbackground": true,
                        "ticks": "",
                        "zerolinecolor": "white"
                      },
                      "yaxis": {
                        "backgroundcolor": "#E5ECF6",
                        "gridcolor": "white",
                        "gridwidth": 2,
                        "linecolor": "white",
                        "showbackground": true,
                        "ticks": "",
                        "zerolinecolor": "white"
                      },
                      "zaxis": {
                        "backgroundcolor": "#E5ECF6",
                        "gridcolor": "white",
                        "gridwidth": 2,
                        "linecolor": "white",
                        "showbackground": true,
                        "ticks": "",
                        "zerolinecolor": "white"
                      }
                    },
                    "shapedefaults": {
                      "line": {
                        "color": "#2a3f5f"
                      }
                    },
                    "ternary": {
                      "aaxis": {
                        "gridcolor": "white",
                        "linecolor": "white",
                        "ticks": ""
                      },
                      "baxis": {
                        "gridcolor": "white",
                        "linecolor": "white",
                        "ticks": ""
                      },
                      "bgcolor": "#E5ECF6",
                      "caxis": {
                        "gridcolor": "white",
                        "linecolor": "white",
                        "ticks": ""
                      }
                    },
                    "title": {
                      "x": 0.05
                    },
                    "xaxis": {
                      "automargin": true,
                      "gridcolor": "white",
                      "linecolor": "white",
                      "ticks": "",
                      "title": {
                        "standoff": 15
                      },
                      "zerolinecolor": "white",
                      "zerolinewidth": 2
                    },
                    "yaxis": {
                      "automargin": true,
                      "gridcolor": "white",
                      "linecolor": "white",
                      "ticks": "",
                      "title": {
                        "standoff": 15
                      },
                      "zerolinecolor": "white",
                      "zerolinewidth": 2
                    }
                  }
                },
                "title": {
                  "text": "Relación entre Precio y Cantidad Vendida"
                },
                "xaxis": {
                  "anchor": "y",
                  "domain": [
                    0,
                    1
                  ],
                  "title": {
                    "text": "priceeach"
                  }
                },
                "yaxis": {
                  "anchor": "x",
                  "domain": [
                    0,
                    1
                  ],
                  "title": {
                    "text": "quantityordered"
                  }
                }
              }
            }
          },
          "metadata": {},
          "output_type": "display_data"
        }
      ],
      "source": [
        "# Scatter plot interactivo\n",
        "fig = px.scatter(df, x='priceeach', y='quantityordered', title='Relación entre Precio y Cantidad Vendida',\n",
        "                 labels={'priceEach': 'Precio Unitario ($)', 'quantityOrdered': 'Cantidad Vendida'})\n",
        "fig.show()"
      ]
    }
  ],
  "metadata": {
    "kernelspec": {
      "display_name": "Python 3",
      "language": "python",
      "name": "python3"
    },
    "language_info": {
      "codemirror_mode": {
        "name": "ipython",
        "version": 3
      },
      "file_extension": ".py",
      "mimetype": "text/x-python",
      "name": "python",
      "nbconvert_exporter": "python",
      "pygments_lexer": "ipython3",
      "version": "3.12.4"
    }
  },
  "nbformat": 4,
  "nbformat_minor": 4
}
