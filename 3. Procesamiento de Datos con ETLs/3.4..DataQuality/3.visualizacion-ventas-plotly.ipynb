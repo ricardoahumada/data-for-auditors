{
  "cells": [
    {
      "cell_type": "markdown",
      "metadata": {},
      "source": [
        "# Visualizaciones Interactivas con Plotly - Tabla `sales`"
      ]
    },
    {
      "cell_type": "code",
      "execution_count": null,
      "metadata": {},
      "outputs": [],
      "source": [
        "# !pip install plotly"
      ]
    },
    {
      "cell_type": "code",
      "execution_count": null,
      "metadata": {},
      "outputs": [],
      "source": [
        "# Importar librerías necesarias\n",
        "import pandas as pd\n",
        "import plotly.express as px\n",
        "import plotly.graph_objects as go"
      ]
    },
    {
      "cell_type": "code",
      "execution_count": null,
      "metadata": {},
      "outputs": [],
      "source": [
        "# Cargar los datos limpios del análisis anterior\n",
        "df = pd.read_csv('./output/ventas_limpias.csv')\n",
        "\n",
        "# Convertir fechas al tipo datetime\n",
        "df['orderdate'] = pd.to_datetime(df['orderdate'])"
      ]
    },
    {
      "cell_type": "markdown",
      "metadata": {},
      "source": [
        "## 1. Ventas Totales por Estado del Pedido (`status`)"
      ]
    },
    {
      "cell_type": "code",
      "execution_count": null,
      "metadata": {},
      "outputs": [],
      "source": [
        "# Conteo de estados\n",
        "status_counts = df['status'].value_counts().reset_index()\n",
        "status_counts.columns = ['status', 'count']\n",
        "\n",
        "# Gráfico interactivo\n",
        "fig = px.bar(status_counts, x='status', y='count', title='Distribución de Estados de Pedidos', labels={'count': 'Cantidad', 'status': 'Estado'})\n",
        "fig.show()"
      ]
    },
    {
      "cell_type": "markdown",
      "metadata": {},
      "source": [
        "## 2. Top 10 Productos por Ventas Totales"
      ]
    },
    {
      "cell_type": "code",
      "execution_count": null,
      "metadata": {},
      "outputs": [],
      "source": [
        "# Calcular ventas por producto\n",
        "ventas_por_producto = df.groupby('productcode')['sales_amount'].sum().sort_values(ascending=False).head(10).reset_index()\n",
        "\n",
        "# Gráfico interactivo\n",
        "fig = px.bar(ventas_por_producto, x='productcode', y='sales_amount', title='Top 10 Productos por Ventas Totales', labels={'sales_amount': 'Ventas Totales ($)', 'productCode': 'Código de Producto'})\n",
        "fig.show()"
      ]
    },
    {
      "cell_type": "markdown",
      "metadata": {},
      "source": [
        "## 3. Tendencia Mensual de Ventas"
      ]
    },
    {
      "cell_type": "code",
      "execution_count": null,
      "metadata": {},
      "outputs": [],
      "source": [
        "# Agrupar por mes\n",
        "df_monthly = df.resample('ME', on='orderdate')['sales_amount'].sum().reset_index()\n",
        "\n",
        "# Gráfico interactivo\n",
        "fig = px.line(df_monthly, x='orderdate', y='sales_amount', title='Tendencia Mensual de Ventas', labels={'sales_amount': 'Ventas Totales ($)', 'orderdate': 'Fecha'})\n",
        "fig.update_xaxes(dtick='M1', tickformat='%b %Y')\n",
        "fig.show()"
      ]
    },
    {
      "cell_type": "markdown",
      "metadata": {},
      "source": [
        "## 4. Distribución de Precios Unitarios"
      ]
    },
    {
      "cell_type": "code",
      "execution_count": null,
      "metadata": {},
      "outputs": [],
      "source": [
        "# Histograma interactivo\n",
        "fig = px.histogram(df, x='priceeach', nbins=30, title='Distribución de Precios Unitarios', labels={'priceEach': 'Precio ($)', 'count': 'Frecuencia'})\n",
        "fig.show()"
      ]
    },
    {
      "cell_type": "markdown",
      "metadata": {},
      "source": [
        "## 5. Boxplot de Cantidad Vendida por Línea de Pedido"
      ]
    },
    {
      "cell_type": "code",
      "execution_count": null,
      "metadata": {},
      "outputs": [],
      "source": [
        "# Boxplot interactivo\n",
        "fig = px.box(df, y='quantityordered', title='Distribución de Cantidades Vendidas por Línea')\n",
        "fig.show()"
      ]
    },
    {
      "cell_type": "markdown",
      "metadata": {},
      "source": [
        "## 6. Tiempo de Envío por Estado del Pedido"
      ]
    },
    {
      "cell_type": "code",
      "execution_count": null,
      "metadata": {},
      "outputs": [],
      "source": [
        "# Filtrar pedidos enviados\n",
        "df_shipped = df[df['status'] == 'Shipped']\n",
        "\n",
        "# Gráfico interactivo\n",
        "fig = px.bar(df_shipped.groupby('status')['days_to_ship'].mean().reset_index(),\n",
        "             x='status', y='days_to_ship',\n",
        "             title='Tiempo Promedio de Envío por Estado',\n",
        "             labels={'days_to_ship': 'Días promedio hasta envío', 'status': 'Estado'})\n",
        "fig.show()"
      ]
    },
    {
      "cell_type": "markdown",
      "metadata": {},
      "source": [
        "## 8. Relación entre Precio y Cantidad Vendida"
      ]
    },
    {
      "cell_type": "code",
      "execution_count": null,
      "metadata": {},
      "outputs": [],
      "source": [
        "# Scatter plot interactivo\n",
        "fig = px.scatter(df, x='priceeach', y='quantityordered', title='Relación entre Precio y Cantidad Vendida',\n",
        "                 labels={'priceEach': 'Precio Unitario ($)', 'quantityOrdered': 'Cantidad Vendida'})\n",
        "fig.show()"
      ]
    }
  ],
  "metadata": {
    "kernelspec": {
      "display_name": "Python 3",
      "language": "python",
      "name": "python3"
    },
    "language_info": {
      "codemirror_mode": {
        "name": "ipython",
        "version": 3
      },
      "file_extension": ".py",
      "mimetype": "text/x-python",
      "name": "python",
      "nbconvert_exporter": "python",
      "pygments_lexer": "ipython3",
      "version": "3.12.4"
    }
  },
  "nbformat": 4,
  "nbformat_minor": 4
}
