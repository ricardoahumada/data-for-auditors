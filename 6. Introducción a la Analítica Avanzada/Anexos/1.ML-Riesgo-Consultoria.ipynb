{
 "cells": [
  {
   "cell_type": "markdown",
   "id": "7df68d36",
   "metadata": {},
   "source": [
    "# Usar ML para identificar, priorizar y mitigar riesgos"
   ]
  },
  {
   "cell_type": "markdown",
   "id": "b2ab82b1",
   "metadata": {},
   "source": [
    "\n",
    "### En consultoría, el uso de ML permite:\n",
    "- Detectar patrones ocultos que indican riesgo.\n",
    "- Priorizar áreas o clientes con mayor probabilidad de incumplimiento.\n",
    "- Predecir escenarios futuros para anticiparse a problemas.\n",
    "- Automatizar procesos de evaluación de riesgo.\n",
    "\n"
   ]
  },
  {
   "cell_type": "markdown",
   "id": "8340cab8",
   "metadata": {},
   "source": [
    "## Tipos de riesgos comunes en consultoría donde ML puede ayudar\n",
    "\n",
    "| Tipo de Riesgo | Descripción | Aplicación de ML |\n",
    "|----------------|-------------|------------------|\n",
    "| **Riesgo financiero** | Errores contables, fraudes, impagos | Detección de anomalías, scoring crediticio |\n",
    "| **Riesgo operativo** | Fallas en procesos, errores humanos | Análisis de logs, detección de fallos recurrentes |\n",
    "| **Riesgo legal y regulatorio** | Incumplimiento de normativas (GDPR, SOX, etc.) | Clasificación de documentos, análisis de cumplimiento |\n",
    "| **Riesgo reputacional** | Eventos que dañan la imagen corporativa | Análisis de sentimiento, monitoreo en redes sociales |\n",
    "| **Riesgo tecnológico** | Vulnerabilidades en sistemas, ciberataques | Detección de intrusiones, análisis de tráfico anómalo |\n",
    "\n"
   ]
  },
  {
   "cell_type": "markdown",
   "id": "da7268e7",
   "metadata": {},
   "source": [
    "## Ejemplo Práctico: Machine Learning para evaluar riesgos\n",
    "\n",
    "### Caso: Evaluación de riesgo de fraude en facturación\n",
    "\n",
    "#### 1. **Definir el problema**\n",
    "Detectar qué facturas tienen alto riesgo de fraude o error basándose en datos históricos.\n",
    "\n",
    "#### 2. **Recopilar datos**\n",
    "Datos de facturas anteriores, incluyendo:\n",
    "- Monto\n",
    "- Fecha\n",
    "- Cliente\n",
    "- Empleado responsable\n",
    "- Historial de pagos\n",
    "- Marca de si fue revisada o no\n",
    "- Indicador de fraude detectado (si/no)\n",
    "\n",
    "#### 3. **Preparar los datos**\n",
    "- Limpieza de valores faltantes\n",
    "- Codificación de variables categóricas (cliente, empleado)\n",
    "- Escalado de montos y días entre emisión y pago\n",
    "\n",
    "#### 4. **Seleccionar modelo ML**\n",
    "Modelo de clasificación supervisada:\n",
    "\n",
    "- **Random Forest**\n",
    "- **XGBoost**\n",
    "- **Logistic Regression**\n",
    "- **Isolation Forest** (para detección de anomalías)\n",
    "\n",
    "#### 5. **Entrenar y validar el modelo**\n",
    "```python\n",
    "from sklearn.model_selection import train_test_split\n",
    "from sklearn.ensemble import RandomForestClassifier\n",
    "from sklearn.metrics import classification_report\n",
    "\n",
    "# Datos preparados\n",
    "X = df[['monto', 'dias_entre_emision_pago', 'cliente_cod', 'empleado_cod']]\n",
    "y = df['fraude']\n",
    "\n",
    "# Dividir datos\n",
    "X_train, X_test, y_train, y_test = train_test_split(X, y, test_size=0.2)\n",
    "\n",
    "# Entrenar modelo\n",
    "modelo = RandomForestClassifier()\n",
    "modelo.fit(X_train, y_train)\n",
    "\n",
    "# Evaluar\n",
    "predicciones = modelo.predict(X_test)\n",
    "print(classification_report(y_test, predicciones))\n",
    "```\n",
    "\n",
    "#### 6. **Interpretar resultados**\n",
    "El modelo entrega una **probabilidad de riesgo por factura**, lo cual permite:\n",
    "- Priorizar auditorías\n",
    "- Alertar automáticamente cuando se detecte un perfil de riesgo\n",
    "- Generar reportes dinámicos para el cliente\n",
    "\n"
   ]
  },
  {
   "cell_type": "markdown",
   "id": "1df2072d",
   "metadata": {},
   "source": [
    "## Visualización e integración en consultoría\n",
    "\n",
    "- Integrar el modelo en una aplicación web (Streamlit, Dash).\n",
    "- Mostrar dashboard en Power BI/Tableau con:\n",
    "  - Facturas de alto riesgo\n",
    "  - Distribución por empleado/cliente\n",
    "  - Tendencias temporales\n",
    "\n"
   ]
  },
  {
   "cell_type": "markdown",
   "id": "97f13af7",
   "metadata": {},
   "source": [
    "## Otros usos avanzados de ML en evaluación de riesgos\n",
    "\n",
    "| Aplicación | Técnica ML | Valor añadido |\n",
    "|------------|------------|---------------|\n",
    "| **Detección de lavado de dinero** | Redes neuronales, clustering | Identifica patrones sospechosos en transacciones |\n",
    "| **Evaluación de proveedores** | Scoring con modelos de regresión | Asigna puntaje de riesgo a cada proveedor |\n",
    "| **Análisis de contratos** | NLP + clasificación | Detecta cláusulas de riesgo en documentos legales |\n",
    "| **Cumplimiento GDPR / LGPD** | Análisis de texto, entidades sensibles | Mapea tratamiento de datos personales |\n",
    "| **Riesgo de ciberseguridad** | Detección de anomalías | Identifica accesos o comportamientos sospechosos |\n",
    "\n"
   ]
  },
  {
   "cell_type": "markdown",
   "id": "07285797",
   "metadata": {},
   "source": [
    "## Ventajas del uso de ML en consultoría de riesgos\n",
    "\n",
    "- **Automatización**: Ahorro de tiempo y reducción de error humano.\n",
    "- **Escalabilidad**: Analizar miles de registros en minutos.\n",
    "- **Precisión**: Modelos predictivos más confiables que reglas manuales.\n",
    "- **Personalización**: Adaptar modelos al perfil único de cada cliente.\n",
    "- **Proactividad**: Anticiparse a riesgos antes de que ocurran.\n",
    "\n"
   ]
  },
  {
   "cell_type": "markdown",
   "id": "ef5e0cd6",
   "metadata": {},
   "source": [
    "## Conclusión\n",
    "\n",
    "> **\"El futuro de la consultoría en riesgos está en la capacidad de transformar datos en alertas inteligentes.\"**\n",
    "\n",
    "Usar Machine Learning no solo mejora la calidad del servicio, sino que permite ofrecer soluciones proactivas, personalizadas y basadas en evidencia — algo que marca la diferencia en un mercado competitivo.\n",
    "\n"
   ]
  }
 ],
 "metadata": {
  "language_info": {
   "name": "python"
  }
 },
 "nbformat": 4,
 "nbformat_minor": 5
}
