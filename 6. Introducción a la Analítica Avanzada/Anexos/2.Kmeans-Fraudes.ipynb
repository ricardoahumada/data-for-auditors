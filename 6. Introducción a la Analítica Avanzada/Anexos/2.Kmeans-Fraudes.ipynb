{
 "cells": [
  {
   "cell_type": "markdown",
   "id": "3edc02bd",
   "metadata": {},
   "source": [
    "# ¿Cómo funciona la detección de fraudes con KMeans?"
   ]
  },
  {
   "cell_type": "markdown",
   "id": "906c9cf6",
   "metadata": {},
   "source": [
    "El fraude suele representar solo una pequeña proporción del total de datos (muy **imbalanced dataset**), pero tiene características distintas al comportamiento normal. KMeans ayuda a:\n",
    "\n",
    "- Agrupar transacciones similares.\n",
    "- Detectar grupos con comportamiento inusual.\n",
    "- Identificar outliers que pueden corresponder a fraudes.\n",
    "- Segmentar usuarios o transacciones por riesgo.\n",
    "\n"
   ]
  },
  {
   "cell_type": "markdown",
   "id": "3c8c3234",
   "metadata": {},
   "source": [
    "## Ejemplo Práctico: Detección de fraudes en transacciones financieras\n",
    "\n",
    "### 1. **Datos disponibles**\n",
    "\n",
    "Supongamos que tenemos un conjunto de transacciones con las siguientes variables:\n",
    "\n",
    "| transaccion_id | monto | hora_del_dia | ubicacion | dispositivo_usado | cliente_id | es_fraude |\n",
    "|----------------|-------|---------------|-----------|--------------------|------------|-----------|\n",
    "| T001           | 50    | 14            | Madrid    | Tarjeta física     | C1001      | 0         |\n",
    "| T002           | 3000  | 3             | Moscú     | App móvil          | C1002      | 1         |\n",
    "\n",
    "> Nota: En este ejemplo, `es_fraude` es solo para validación posterior; **no se usa en KMeans**, ya que es no supervisado.\n",
    "\n"
   ]
  },
  {
   "cell_type": "markdown",
   "id": "38a522f8",
   "metadata": {},
   "source": [
    "### 2. **Preparación de datos**\n",
    "\n",
    "```python\n",
    "from sklearn.cluster import KMeans\n",
    "from sklearn.preprocessing import StandardScaler, OneHotEncoder\n",
    "from sklearn.compose import ColumnTransformer\n",
    "import pandas as pd\n",
    "\n",
    "# Seleccionamos variables numéricas relevantes\n",
    "X = df[['monto', 'hora_del_dia']]\n",
    "\n",
    "# Escalamos los datos\n",
    "scaler = StandardScaler()\n",
    "X_scaled = scaler.fit_transform(X)\n",
    "\n",
    "# Aplicamos KMeans\n",
    "kmeans = KMeans(n_clusters=4, random_state=42)\n",
    "df['cluster'] = kmeans.labels_\n",
    "```\n",
    "\n"
   ]
  },
  {
   "cell_type": "markdown",
   "id": "5c16e5b0",
   "metadata": {},
   "source": [
    "### 3. **Análisis de clusters**\n",
    "\n",
    "```python\n",
    "# Resumen estadístico por cluster\n",
    "cluster_summary = df.groupby('cluster').agg(\n",
    "    count=('transaccion_id', 'count'),\n",
    "    promedio_monto=('monto', 'mean'),\n",
    "    promedio_hora=('hora_del_dia', 'mean'),\n",
    "    tasa_fraude=('es_fraude', 'mean')  # Solo si tienes etiquetas reales\n",
    ")\n",
    "print(cluster_summary)\n",
    "```\n",
    "\n"
   ]
  },
  {
   "cell_type": "markdown",
   "id": "75c2ef88",
   "metadata": {},
   "source": [
    "### 4. **Interpretación de resultados**\n",
    "\n",
    "Imagina que obtienes esta salida:\n",
    "\n",
    "| Cluster | Count | Promedio Monto | Promedio Hora | Tasa de fraude |\n",
    "|--------|-------|------------------|----------------|----------------|\n",
    "| 0      | 800   | 70 €             | 13 h           | 0.02%          |\n",
    "| 1      | 150   | 400 €            | 22 h           | 0.67%          |\n",
    "| 2      | 40    | 2500 €           | 3 h            | 45%            |\n",
    "| 3      | 10    | 5000 €           | 1 h            | 90%            |\n",
    "\n",
    "- **Cluster 3**: Muy alto monto, fuera de horas normales → muy probablemente fraude.\n",
    "- **Cluster 2**: Similar, pero con menos intensidad.\n",
    "- Estos clusters te ayudan a **priorizar auditorías** o **activar alertas automáticas**.\n",
    "\n"
   ]
  },
  {
   "cell_type": "markdown",
   "id": "d3fe05bf",
   "metadata": {},
   "source": [
    "### 5. **Visualización de clusters (opcional)**\n",
    "\n",
    "```python\n",
    "import matplotlib.pyplot as plt\n",
    "\n",
    "plt.scatter(df['monto'], df['hora_del_dia'], c=df['cluster'], cmap='viridis', s=10)\n",
    "plt.xlabel(\"Monto\")\n",
    "plt.ylabel(\"Hora del día\")\n",
    "plt.title(\"Clusters de transacciones\")\n",
    "plt.show()\n",
    "```\n",
    "\n"
   ]
  },
  {
   "cell_type": "markdown",
   "id": "390871d0",
   "metadata": {},
   "source": [
    "## Casos reales donde KMeans ayuda a detectar fraudes\n",
    "\n",
    "| Sector | Aplicación | Variable clave |\n",
    "|--------|------------|----------------|\n",
    "| Banca | Transacciones sospechosas | Monto, ubicación, hora |\n",
    "| Seguros | Siniestros falsos | Número de reclamaciones, monto, frecuencia |\n",
    "| E-commerce | Compras fraudulentas | IP, ubicación, dispositivo, historial |\n",
    "| Telecomunicaciones | Robo de identidad | Cambio brusco en uso de línea, llamadas internacionales |\n",
    "| Salud | Facturación médica falsa | Cantidad de servicios, montos, médicos involucrados |\n",
    "\n"
   ]
  },
  {
   "cell_type": "markdown",
   "id": "804107ea",
   "metadata": {},
   "source": [
    "## Limitaciones de KMeans para detección de fraudes\n",
    "\n",
    "- **No es predictivo**: No predice si una nueva transacción es fraude.\n",
    "- **Sensible a escala**: Es crucial escalar las variables.\n",
    "- **Número de clusters arbitrario**: Requiere ajuste manual (ej.: usar el método del codo).\n",
    "- **Puede fallar con alta dimensionalidad**: Mejor usar PCA antes de aplicar KMeans.\n",
    "\n"
   ]
  },
  {
   "cell_type": "markdown",
   "id": "9bf2020b",
   "metadata": {},
   "source": [
    "## Consejo práctico:\n",
    "\n",
    "> Usa **KMeans como una herramienta exploratoria** para entender cómo se distribuyen tus transacciones. Luego, puedes usar modelos supervisados (como Random Forest, XGBoost) o técnicas de detección de anomalías (como Isolation Forest, LOF) para construir sistemas más robustos de detección de fraudes.\n",
    "\n"
   ]
  },
  {
   "cell_type": "markdown",
   "id": "7034574b",
   "metadata": {},
   "source": [
    "## Conclusión\n",
    "\n",
    "✅ **KMeans se puede usar para detectar fraudes**, especialmente para:\n",
    "- Descubrir patrones ocultos en transacciones.\n",
    "- Identificar comportamientos anómalos o atípicos.\n",
    "- Segmentar usuarios o transacciones por nivel de riesgo.\n",
    "\n",
    "Es una herramienta poderosa dentro de un flujo de trabajo más amplio de detección de fraudes.\n",
    "\n"
   ]
  }
 ],
 "metadata": {
  "language_info": {
   "name": "python"
  }
 },
 "nbformat": 4,
 "nbformat_minor": 5
}
