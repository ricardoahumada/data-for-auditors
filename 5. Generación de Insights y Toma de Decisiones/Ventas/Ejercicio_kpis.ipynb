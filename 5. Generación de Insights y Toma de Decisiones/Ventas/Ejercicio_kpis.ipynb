{
 "cells": [
  {
   "cell_type": "markdown",
   "id": "afc81340",
   "metadata": {},
   "source": [
    "# KPI para Mejorar el Rendimiento de Ventas"
   ]
  },
  {
   "cell_type": "markdown",
   "id": "0a37d23a",
   "metadata": {},
   "source": [
    "\n",
    "> **Tasa de Conversión de Ventas por Empleado** =  \n",
    "> _Número de clientes contactados que realizan al menos una compra / Número total de clientes contactados por empleado_\n",
    "\n",
    "Este KPI mide la efectividad de cada vendedor en convertir oportunidades (clientes contactados) en ventas reales.\n",
    "\n",
    "## Objetivo:\n",
    "\n",
    "Evaluar y mejorar la eficacia del equipo comercial, identificando empleados con alto o bajo rendimiento y detectando oportunidades de capacitación, estrategias de contacto o ajustes en la cartera de clientes asignada.\n",
    "\n",
    "## Fórmula:\n",
    "\n",
    "```\n",
    "Tasa de conversión = \n",
    "(Cantidad de clientes únicos que realizaron compras durante el periodo) ÷ \n",
    "(Cantidad total de clientes contactados por el empleado en el mismo periodo)\n",
    "× 100\n",
    "```"
   ]
  },
  {
   "cell_type": "markdown",
   "id": "582e1c92",
   "metadata": {},
   "source": [
    "\n",
    "## Consulta SQL Ejemplo (último mes):\n",
    "\n",
    "```sql\n",
    "SELECT\n",
    "    e.employeeNumber,\n",
    "    e.Name AS employeeName,\n",
    "    COUNT(DISTINCT c.customerNumber) AS total_customers_assigned,\n",
    "    COUNT(DISTINCT s.customerNumber) AS customers_with_sales,\n",
    "    ROUND(\n",
    "        (COUNT(DISTINCT s.customerNumber)::DECIMAL / NULLIF(COUNT(DISTINCT c.customerNumber), 0)) * 100,\n",
    "        2\n",
    "    ) AS conversion_rate_percent\n",
    "FROM employees e\n",
    "LEFT JOIN customers c ON e.employeeNumber = c.salesRepEmployeeNumber\n",
    "LEFT JOIN sales s ON c.customerNumber = s.customerNumber\n",
    "    AND s.orderDate >= CURRENT_DATE - INTERVAL '30 days'\n",
    "GROUP BY e.employeeNumber, e.Name\n",
    "ORDER BY conversion_rate_percent DESC;\n",
    "```"
   ]
  },
  {
   "cell_type": "markdown",
   "id": "aa31af5b",
   "metadata": {},
   "source": [
    "\n",
    "## Interpretación y Acciones:\n",
    "\n",
    "| Valor | Interpretación | Acción Sugerida |\n",
    "|-------|----------------|------------------|\n",
    "| > 40% | Excelente tasa de conversión | Identificar buenas prácticas y replicarlas |\n",
    "| 25–40% | Desempeño aceptable | Capacitación selectiva |\n",
    "| < 25% | Baja capacidad de conversión | Revisar estrategia de contacto, reasignar clientes o dar formación específica |\n",
    "\n",
    "## Aplicación Práctica:\n",
    "\n",
    "Este KPI puede usarse para:\n",
    "- Realizar seguimiento individual del desempeño del vendedor.\n",
    "- Diseñar incentivos basados en resultados.\n",
    "- Detectar necesidades de entrenamiento en técnicas de venta.\n",
    "- Evaluar la calidad de la cartera de clientes asignada."
   ]
  },
  {
   "cell_type": "markdown",
   "id": "281210f7",
   "metadata": {},
   "source": [
    "## Evaluación SMART-ER\n",
    "\n",
    "| Criterio | ¿Cumple? | Observaciones |\n",
    "|---------|----------|---------------|\n",
    "| **S** Specific | ✅ | Métrica claramente definida |\n",
    "| **M** Measurable | ✅ | Fácil de calcular con datos existentes |\n",
    "| **A** Achievable | ✅ | Realista y operativo |\n",
    "| **R** Relevant | ✅ | Alina con objetivos comerciales |\n",
    "| **T** Time-bound | ✅ | Medible mensual o trimestralmente |\n",
    "| **E** Evaluable | ✅ | Permite seguimiento y comparación |\n",
    "| **R** Rewarding | ✅ | Motiva mejora individual y colectiva |\n"
   ]
  }
 ],
 "metadata": {
  "kernelspec": {
   "display_name": "Python 3",
   "language": "python",
   "name": "python3"
  },
  "language_info": {
   "name": "python",
   "version": "3.12.4"
  }
 },
 "nbformat": 4,
 "nbformat_minor": 5
}
