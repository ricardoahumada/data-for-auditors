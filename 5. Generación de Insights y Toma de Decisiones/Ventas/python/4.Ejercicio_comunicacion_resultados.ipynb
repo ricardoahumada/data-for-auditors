{
 "cells": [
  {
   "cell_type": "markdown",
   "id": "2c8af4ed",
   "metadata": {},
   "source": [
    "# Ejercicio Práctico: **Comunicación de Resultados usando el Framework CLEAR**  \n",
    "\n",
    "**Objetivo:** Aplicar el marco **CLEAR** para comunicar resultados de análisis de datos a una audiencia técnica, basándose en el esquema de base de datos de ventas."
   ]
  },
  {
   "cell_type": "markdown",
   "id": "cd786bbe",
   "metadata": {},
   "source": [
    "## Contexto del Ejercicio\n",
    "\n",
    "Eres un analista de datos que ha realizado un análisis sobre el rendimiento comercial del último trimestre. Debes presentar tus hallazgos a un equipo técnico conformado por desarrolladores, arquitectos de datos y analistas senior.\n",
    "\n",
    "Tienes acceso a las siguientes tablas:\n",
    "\n",
    "- `sales` (ventas)\n",
    "- `products` (productos)\n",
    "- `employees` (empleados)\n",
    "- `customers` (clientes)\n",
    "\n",
    "Tu objetivo es **comunicar los resultados clave del análisis de forma técnica pero accesible**, con recomendaciones operativas.\n",
    "\n"
   ]
  },
  {
   "cell_type": "markdown",
   "id": "646f2acb",
   "metadata": {},
   "source": [
    "## Instrucciones del Ejercicio\n",
    "\n",
    "Usa el siguiente formato para estructurar tu comunicación de resultados:\n",
    "\n"
   ]
  },
  {
   "cell_type": "markdown",
   "id": "d55eb2d6",
   "metadata": {},
   "source": [
    "### 1. **Contexto (C)**\n",
    "\n",
    "Explica brevemente **por qué se realizó el análisis** y **qué preguntas se buscaba responder**.\n",
    "\n",
    "**Preguntas guía:**\n",
    "- ¿Cuál fue el objetivo del análisis?\n",
    "- ¿Qué problema o necesidad se identificó previamente?\n",
    "- ¿Qué datos se utilizaron y cómo se obtuvieron?\n",
    "\n",
    "**Ejemplo:**\n",
    "> \"Se analizaron las ventas del último trimestre para identificar productos con bajo margen y alto volumen de venta, con el fin de proponer ajustes en estrategias de precios.\"\n",
    "\n"
   ]
  },
  {
   "cell_type": "markdown",
   "id": "61fc2aeb",
   "metadata": {},
   "source": [
    "### 2. **Lenguaje Adecuado (L)**\n",
    "\n",
    "Adapta el lenguaje a la audiencia técnica. Usa términos precisos y evita ambigüedades.\n",
    "\n",
    "**Tips:**\n",
    "- Usa métricas específicas: “margen promedio”, “tasa de conversión”, “días promedio de envío”.\n",
    "- Menciona herramientas usadas: SQL, Python, Power BI, etc.\n",
    "- Sé conciso en definiciones técnicas.\n",
    "\n",
    "**Ejemplo:**\n",
    "> \"Se calculó el margen bruto como `(priceEach - costo_producto) / priceEach` desde la tabla `sales`, agrupando por producto y mes.\"\n",
    "\n"
   ]
  },
  {
   "cell_type": "markdown",
   "id": "364bcae2",
   "metadata": {},
   "source": [
    "### 3. **Evidencia (E)**\n",
    "\n",
    "Presenta los hallazgos con **datos respaldatorios**. Puedes incluir tablas, gráficos, consultas o fragmentos de código.\n",
    "\n",
    "**Elementos clave:**\n",
    "- Tabla resumen con top/bottom performers\n",
    "- Gráfico de barras o líneas con tendencias\n",
    "- Consulta SQL o script usado (opcionalmente en anexo)\n",
    "\n",
    "**Ejemplo de hallazgo:**\n",
    "> \"El producto 'Smartwatch X1' tiene un margen promedio del 12%, significativamente menor al 25% del promedio general.\"\n",
    "\n",
    "**Consulta ejemplo:**\n",
    "```sql\n",
    "SELECT \n",
    "    productCode,\n",
    "    AVG((priceEach - (SELECT cost FROM products p WHERE p.productCode = s.productCode)) / priceEach) * 100 AS avg_margin_percent\n",
    "FROM sales s\n",
    "WHERE orderDate >= CURRENT_DATE - INTERVAL '90 days'\n",
    "GROUP BY productCode\n",
    "ORDER BY avg_margin_percent ASC;\n",
    "```\n",
    "\n"
   ]
  },
  {
   "cell_type": "markdown",
   "id": "0af8824b",
   "metadata": {},
   "source": [
    "### 4. **Acción Recomendada (A)**\n",
    "\n",
    "Propón acciones **basadas en los resultados**, teniendo en cuenta posibles impactos técnicos o operativos.\n",
    "\n",
    "**Preguntas guía:**\n",
    "- ¿Qué cambios se podrían implementar?\n",
    "- ¿Es necesario modificar algún proceso de carga, cálculo o visualización?\n",
    "- ¿Hay oportunidades de optimización en el modelo de datos?\n",
    "\n",
    "**Ejemplo:**\n",
    "> \"Revisar la integración de costos dinámicos en el dashboard de ventas para permitir análisis más preciso del margen por producto.\"\n",
    "\n"
   ]
  },
  {
   "cell_type": "markdown",
   "id": "5810de37",
   "metadata": {},
   "source": [
    "### 5. **Respuesta al Receptor (R)**\n",
    "\n",
    "Hazlo interactivo. Considera las posibles dudas o objeciones de tu audiencia técnica y prepárate para responder.\n",
    "\n",
    "**Sugerencias:**\n",
    "- Incluye una sección de \"Preguntas frecuentes\" o \"Limitaciones del análisis\"\n",
    "- Explica posibles sesgos o limitaciones metodológicas\n",
    "- Ofrece opciones alternativas si se requiere ajustar el análisis\n",
    "\n",
    "**Ejemplo:**\n",
    "> \"¿Por qué no se consideró el IVA en el cálculo del margen? Porque actualmente no está disponible en la tabla `sales`. Proponemos incluirlo en futuras iteraciones del modelo.\"\n",
    "\n"
   ]
  },
  {
   "cell_type": "markdown",
   "id": "a5326517",
   "metadata": {},
   "source": [
    "## Ejemplo: Plantilla Final para Presentar los Resultados\n",
    "\n",
    "| Sección | Contenido |\n",
    "|--------|-----------|\n",
    "| **Contexto** | Breve explicación del propósito del análisis |\n",
    "| **Lenguaje Adecuado** | Uso de términos técnicos y precisión metodológica |\n",
    "| **Evidencia** | Hallazgos clave + gráficos y/o tablas |\n",
    "| **Acción Recomendada** | Propuestas operativas derivadas del análisis |\n",
    "| **Respuesta al Receptor** | Posibles dudas técnicas y respuestas anticipadas |\n",
    "\n"
   ]
  }
 ],
 "metadata": {
  "language_info": {
   "name": "python"
  }
 },
 "nbformat": 4,
 "nbformat_minor": 5
}
