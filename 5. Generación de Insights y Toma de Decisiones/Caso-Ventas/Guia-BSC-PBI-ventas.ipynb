{
 "cells": [
  {
   "cell_type": "markdown",
   "id": "f63aeeab",
   "metadata": {},
   "source": [
    "# Guía generación BSC"
   ]
  },
  {
   "cell_type": "markdown",
   "id": "c40e6827",
   "metadata": {},
   "source": [
    "Para generar un **informe de Balanced Scorecard en Power BI** a partir de la base de datos que has compartido, necesitamos:\n",
    "\n",
    "1. Extraer los datos relevantes.\n",
    "2. Modelar las tablas y crear métricas clave (KPIs).\n",
    "3. Diseñar visualizaciones por cada perspectiva del BSC:\n",
    "   - Financiera\n",
    "   - Clientes\n",
    "   - Procesos internos\n",
    "   - Aprendizaje y crecimiento\n",
    "\n",
    "Como no podemos generar directamente un archivo `.pbix` desde este entorno, te voy a guiar paso a paso para que puedas construirlo tú mismo en Power BI Desktop.\n"
   ]
  },
  {
   "cell_type": "markdown",
   "id": "434e1bd1",
   "metadata": {},
   "source": [
    "\n",
    "## 1. Cargar los datos en Power BI\n",
    "\n",
    "### Opción 1: Conectar a PostgreSQL\n",
    "- Abre **Power BI Desktop**.\n",
    "- Haz clic en **Obtener datos > Más... > PostgreSQL**.\n",
    "- Ingresa los datos de conexión a tu base de datos.\n",
    "- Selecciona las tablas: `customers`, `employees`, `payments`, `products`, `sales`.\n",
    "- Haz clic en **Cargar**.\n",
    "\n",
    "### Opción 2: Usar archivos CSV (si prefieres trabajar offline)\n",
    "Puedes exportar tus tablas como CSV y cargarlas en Power BI.\n"
   ]
  },
  {
   "cell_type": "markdown",
   "id": "ffa4e799",
   "metadata": {},
   "source": [
    "\n",
    "## 2. Modelo de datos\n",
    "\n",
    "Una vez cargadas las tablas, crea relaciones:\n",
    "\n",
    "| Relación | Campo izquierdo | Campo derecho |\n",
    "|----------|------------------|----------------|\n",
    "| `sales → customers` | `sales.customerNumber` | `customers.customerNumber` |\n",
    "| `sales → employees` | `sales.employeeNumber` | `employees.employeeNumber` |\n",
    "| `sales → products` | `sales.productCode` | `products.productCode` |\n",
    "| `payments → customers` | `payments.customerNumber` | `customers.customerNumber` |\n",
    "\n",
    "> En **Modelado → Relaciones**, define estas conexiones.\n"
   ]
  },
  {
   "cell_type": "markdown",
   "id": "b5786b3c",
   "metadata": {},
   "source": [
    "\n",
    "## 3. Crear medidas (KPIs)\n",
    "\n",
    "Ve a la pestaña **Modelado → Nueva medida** y crea las siguientes:\n",
    "\n",
    "### Ventas totales\n",
    "\n",
    "```dax\n",
    "Total Sales = SUMX(sales, sales.quantityOrdered * sales.priceEach)\n",
    "```\n",
    "\n",
    "### Ingresos totales (ventas + pagos)\n",
    "\n",
    "```dax\n",
    "Total Revenue = \n",
    "IF(\n",
    "    ISINSCOPE(sales),\n",
    "    [Total Sales],\n",
    "    SUM(payments.amount)\n",
    ")\n",
    "```\n",
    "\n",
    "### Margen de beneficio (si tienes costos; si no, ignora o usa placeholder)\n",
    "\n",
    "```dax\n",
    "Profit Margin = ([Total Sales] - [Total Cost]) / [Total Sales]\n",
    "```\n",
    "\n",
    "### Satisfacción del cliente (ejemplo basado en comentarios positivos o promedio de rating si lo tuvieras)\n",
    "\n",
    "```dax\n",
    "Customer Satisfaction = AVERAGE(customers.rating) // Requiere campo rating\n",
    "```\n",
    "\n",
    "### Productividad del empleado (ventas por empleado)\n",
    "\n",
    "```dax\n",
    "Sales per Employee = DIVIDE([Total Sales], DISTINCTCOUNT(employees.employeeNumber))\n",
    "```\n"
   ]
  },
  {
   "cell_type": "markdown",
   "id": "a5084ca0",
   "metadata": {},
   "source": [
    "\n",
    "## 4. Diseño del Balanced Scorecard\n",
    "\n",
    "### Perspectiva: **Financiera**\n",
    "\n",
    "- Visualización: Tarjetas o gráfico de líneas\n",
    "  - Total de ventas\n",
    "  - Ingresos totales\n",
    "  - Margen de beneficio\n",
    "\n",
    "### Perspectiva: **Clientes**\n",
    "\n",
    "- Visualizaciones:\n",
    "  - Número de clientes únicos: `DISTINCTCOUNT(customers.customerNumber)`\n",
    "  - Ventas por cliente (gráfico de barras)\n",
    "  - Promedio de ventas por cliente: `[Total Sales] / DISTINCTCOUNT(customers.customerNumber)`\n",
    "\n",
    "### Perspectiva: **Procesos Internos**\n",
    "\n",
    "- Ejemplos:\n",
    "  - Tiempo promedio entre pedido y envío: `AVERAGE(DATEDIFF(sales.orderDate, sales.shippedDate, DAY))`\n",
    "  - Tasa de cumplimiento de fechas de entrega: `% de órdenes entregadas antes de requiredDate`\n",
    "\n",
    "### Perspectiva: **Aprendizaje y Crecimiento**\n",
    "\n",
    "- Ejemplos:\n",
    "  - Número de empleados nuevos por mes\n",
    "  - Ventas por empleado (medida creada antes)\n",
    "  - Jerarquía de reportes (`reportsTo`) para mostrar estructura organizacional\n"
   ]
  },
  {
   "cell_type": "markdown",
   "id": "24f7c5d7",
   "metadata": {},
   "source": [
    "\n",
    "## 5. Diseño final\n",
    "\n",
    "Diseña una página con título “Balanced Scorecard” y divide en secciones:\n",
    "\n",
    "| Sección | Contenido |\n",
    "|--------|-----------|\n",
    "| **Encabezado** | Filtros globales (por región, año, empleado, cliente) |\n",
    "| **Columna Izquierda** | Perspectivas financieras |\n",
    "| **Columna Centro-Izquierda** | Perspectiva de clientes |\n",
    "| **Columna Centro-Derecha** | Perspectiva de procesos internos |\n",
    "| **Columna Derecha** | Perspectiva de aprendizaje y crecimiento |\n",
    "\n",
    "Usa tarjetas, gráficos de barras horizontales, KPIs y mapas visuales.\n"
   ]
  },
  {
   "cell_type": "markdown",
   "id": "5a73a9c5",
   "metadata": {},
   "source": [
    "\n",
    "## 6. Exportar el informe\n",
    "\n",
    "Una vez terminado:\n",
    "\n",
    "- Haz clic en **Archivo > Guardar como**.\n",
    "- Guarda como `Balanced_Scorecard.pbix`.\n",
    "\n",
    "También puedes publicarlo en **Power BI Service** para compartirlo con otros usuarios.\n"
   ]
  }
 ],
 "metadata": {
  "language_info": {
   "name": "python"
  }
 },
 "nbformat": 4,
 "nbformat_minor": 5
}
