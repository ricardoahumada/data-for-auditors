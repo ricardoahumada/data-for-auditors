{
 "cells": [
  {
   "cell_type": "markdown",
   "id": "f4016f94",
   "metadata": {},
   "source": [
    "# Ejercicio Práctico: Diseño de un **Balanced Scorecard (BSC)**  \n",
    "**Objetivo:** Aplicar las **cuatro perspectivas del BSC** al esquema de base de datos de ventas para definir objetivos estratégicos y KPIs asociados.\n",
    "\n"
   ]
  },
  {
   "cell_type": "markdown",
   "id": "d9a40d83",
   "metadata": {},
   "source": [
    "## Contexto\n",
    "\n",
    "Eres el responsable de una empresa que vende productos electrónicos. Tienes acceso a los siguientes datos:\n",
    "\n",
    "- `customers`: Información sobre clientes\n",
    "- `sales`: Ventas realizadas por empleados\n",
    "- `employees`: Datos del equipo comercial\n",
    "- `products`: Catálogo de productos\n",
    "- `payments`: Registros de pagos\n",
    "\n",
    "Tu objetivo es construir un **BSC básico** con indicadores clave de desempeño (**KPIs**) alineados a las **cuatro perspectivas** del Balanced Scorecard.\n",
    "\n"
   ]
  },
  {
   "cell_type": "markdown",
   "id": "e4568d0f",
   "metadata": {},
   "source": [
    "## Las Cuatro Perspectivas del BSC\n",
    "\n",
    "| Perspectiva         | Pregunta Estratégica                  |\n",
    "|---------------------|----------------------------------------|\n",
    "| **Financiera**      | ¿Cómo nos vemos desde el punto de vista financiero? |\n",
    "| **Clientes**        | ¿Cómo deben vernos nuestros clientes? |\n",
    "| **Procesos Internos** | ¿En qué debemos destacar para cumplir nuestras metas? |\n",
    "| **Aprendizaje y Crecimiento** | ¿Podemos seguir mejorando y creciendo como organización? |\n",
    "\n"
   ]
  },
  {
   "cell_type": "markdown",
   "id": "82ad74b7",
   "metadata": {},
   "source": [
    "## Ejercicio: Completa el siguiente cuadro\n",
    "\n",
    "### Instrucciones:\n",
    "Para cada perspectiva del BSC, define:\n",
    "\n",
    "1. **Un objetivo estratégico**\n",
    "2. **Un KPI medible basado en las tablas del esquema de base de datos**\n",
    "3. **Una consulta SQL simple (opcional pero recomendada)**\n",
    "\n"
   ]
  },
  {
   "cell_type": "markdown",
   "id": "1f9017d0",
   "metadata": {},
   "source": [
    "## Ejemplo solución:\n",
    "### 🔹 1. Perspectiva Financiera\n",
    "\n",
    "| Elemento | Descripción |\n",
    "|---------|-------------|\n",
    "| **Objetivo estratégico** | Aumentar la rentabilidad neta del negocio |\n",
    "| **KPI propuesto** | Margen promedio de ventas mensual |\n",
    "| **Definición del KPI** | Promedio de `(priceEach - costo_producto) / priceEach` por línea de venta |\n",
    "| **Tabla(s) utilizada(s)** | `sales` |\n",
    "| **Consulta sugerida (ejemplo):** | ```sql SELECT AVG((priceEach - (SELECT cost FROM products p WHERE p.productCode = s.productCode)) / priceEach) * 100 AS avg_margin_percent FROM sales s WHERE orderDate >= DATE_TRUNC('month', CURRENT_DATE); ``` |\n",
    "\n"
   ]
  },
  {
   "cell_type": "markdown",
   "id": "0f6b1014",
   "metadata": {},
   "source": [
    "### 🔹 2. Perspectiva de Clientes\n",
    "\n",
    "| Elemento | Descripción |\n",
    "|---------|-------------|\n",
    "| **Objetivo estratégico** | Mejorar la retención de clientes |\n",
    "| **KPI propuesto** | Porcentaje de clientes recurrentes |\n",
    "| **Definición del KPI** | % de clientes que han realizado más de una compra en los últimos 6 meses |\n",
    "| **Tabla(s) utilizada(s)** | `sales`, `customers` |\n",
    "| **Consulta sugerida (ejemplo):** | ```sql SELECT COUNT(DISTINCT CASE WHEN cnt > 1 THEN customerNumber END) * 100.0 / COUNT(DISTINCT customerNumber) AS pct_clientes_recurentes FROM (SELECT customerNumber, COUNT(*) AS cnt FROM sales WHERE orderDate >= CURRENT_DATE - INTERVAL '6 months' GROUP BY customerNumber) sub; ``` |\n",
    "\n"
   ]
  },
  {
   "cell_type": "markdown",
   "id": "c732250c",
   "metadata": {},
   "source": [
    "### 🔹 3. Perspectiva de Procesos Internos\n",
    "\n",
    "| Elemento | Descripción |\n",
    "|---------|-------------|\n",
    "| **Objetivo estratégico** | Reducir el tiempo promedio entre pedido y envío |\n",
    "| **KPI propuesto** | Tiempo promedio de entrega (días) |\n",
    "| **Definición del KPI** | Promedio de días entre `orderDate` y `shippedDate` |\n",
    "| **Tabla(s) utilizada(s)** | `sales` |\n",
    "| **Consulta sugerida (ejemplo):** | ```sql SELECT AVG(shippedDate - orderDate) AS avg_days_to_ship FROM sales WHERE shippedDate IS NOT NULL; ``` |\n",
    "\n"
   ]
  },
  {
   "cell_type": "markdown",
   "id": "f48f5fc6",
   "metadata": {},
   "source": [
    "### 🔹 4. Perspectiva de Aprendizaje y Crecimiento\n",
    "\n",
    "| Elemento | Descripción |\n",
    "|---------|-------------|\n",
    "| **Objetivo estratégico** | Incrementar la productividad del equipo comercial |\n",
    "| **KPI propuesto** | Ventas promedio por empleado |\n",
    "| **Definición del KPI** | Promedio de `sales_amount` por empleado |\n",
    "| **Tabla(s) utilizada(s)** | `sales`, `employees` |\n",
    "| **Consulta sugerida (ejemplo):** | ```sql SELECT employeeNumber, AVG(sales_amount) AS avg_sales_per_employee FROM sales GROUP BY employeeNumber ORDER BY avg_sales_per_employee DESC; ``` |\n",
    "\n"
   ]
  },
  {
   "cell_type": "markdown",
   "id": "ed3635a4",
   "metadata": {},
   "source": [
    "## Resumen Final\n",
    "\n",
    "| Perspectiva             | Objetivo Estratégico                   | KPI Propuesto                        |\n",
    "|--------------------------|----------------------------------------|--------------------------------------|\n",
    "| Financiera               | Aumentar rentabilidad                  | Margen promedio de ventas            |\n",
    "| Clientes                 | Mejorar retención                      | % de clientes recurrentes            |\n",
    "| Procesos Internos        | Reducir tiempos de entrega             | Días promedio de entrega             |\n",
    "| Aprendizaje y Crecimiento | Incrementar productividad del equipo   | Ventas promedio por empleado         |\n",
    "\n"
   ]
  }
 ],
 "metadata": {
  "language_info": {
   "name": "python"
  }
 },
 "nbformat": 4,
 "nbformat_minor": 5
}
