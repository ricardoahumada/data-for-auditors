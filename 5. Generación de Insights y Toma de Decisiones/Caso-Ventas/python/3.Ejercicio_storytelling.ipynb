{
 "cells": [
  {
   "cell_type": "markdown",
   "id": "40d2bd17",
   "metadata": {},
   "source": [
    "# Ejercicio Práctico: **Storytelling con Datos usando el Esquema de Base de Datos de Ventas**\n",
    "\n"
   ]
  },
  {
   "cell_type": "markdown",
   "id": "5a7548f0",
   "metadata": {},
   "source": [
    "## Objetivo del Ejercicio:\n",
    "\n",
    "Crear una narrativa visual atractiva e informativa utilizando datos del esquema de base de datos de ventas. El objetivo es contar una historia sobre el rendimiento de los productos y empleados, basada en datos reales y visualizaciones efectivas.\n",
    "\n"
   ]
  },
  {
   "cell_type": "markdown",
   "id": "c80c91ca",
   "metadata": {},
   "source": [
    "## Contexto\n",
    "\n",
    "Eres un analista de negocio que debe presentar ante el equipo directivo un informe visual sobre el desempeño comercial del último trimestre. Tienes acceso a las siguientes tablas:\n",
    "\n",
    "- `sales` (ventas)\n",
    "- `products` (productos)\n",
    "- `employees` (empleados)\n",
    "- `customers` (clientes)\n",
    "\n",
    "Deberás usar estos datos para construir una historia visual clara, impactante y orientada a la toma de decisiones.\n",
    "\n"
   ]
  },
  {
   "cell_type": "markdown",
   "id": "ebd14b67",
   "metadata": {},
   "source": [
    "## Instrucciones\n",
    "\n",
    "### Paso 1: Selecciona una Narrativa\n",
    "Elige uno de los siguientes temas como hilo conductor de tu historia:\n",
    "\n",
    "1. **\"¿Qué productos están liderando el crecimiento?\"**\n",
    "2. **\"¿Quiénes son nuestros empleados más productivos y cómo lo medimos?\"**\n",
    "3. **\"¿Cómo ha evolucionado la cartera de clientes en el último año?\"**\n",
    "4. **\"¿Qué factores afectan la rentabilidad por producto?\"**\n",
    "\n",
    "> Ejemplo: Si eliges el tema \"¿Qué productos están liderando el crecimiento?\", tu historia puede comenzar mostrando cuáles se venden más, seguir con su margen de ganancia, compararlos con productos menos exitosos y terminar proponiendo estrategias para potenciarlos.\n",
    "\n"
   ]
  },
  {
   "cell_type": "markdown",
   "id": "112b6eda",
   "metadata": {},
   "source": [
    "### Paso 2: Define tu Público Objetivo\n",
    "\n",
    "- ¿A quién va dirigida la historia?  \n",
    "  - Ejemplo: Directivos, gerentes comerciales o jefes de producto.\n",
    "- ¿Qué tipo de información les interesa?\n",
    "  - Rentabilidad, volumen de ventas, tendencias, eficiencia.\n",
    "\n"
   ]
  },
  {
   "cell_type": "markdown",
   "id": "554d4503",
   "metadata": {},
   "source": [
    "### Paso 3: Extrae los Datos Relevantes\n",
    "\n",
    "Usa consultas SQL para extraer los datos clave. Aquí tienes ejemplos según el tema:\n",
    "\n",
    "#### 🔹 Ejemplo: Productos más vendidos\n",
    "```sql\n",
    "SELECT \n",
    "    s.productCode,\n",
    "    p.productName,\n",
    "    SUM(s.quantityOrdered) AS total_units_sold,\n",
    "    SUM(s.sales_amount) AS total_sales\n",
    "FROM sales s\n",
    "JOIN products p ON s.productCode = p.productCode\n",
    "WHERE s.orderDate >= CURRENT_DATE - INTERVAL '90 days'\n",
    "GROUP BY s.productCode, p.productName\n",
    "ORDER BY total_units_sold DESC;\n",
    "```\n",
    "\n",
    "#### 🔹 Ejemplo: Empleados con mayores ventas\n",
    "```sql\n",
    "SELECT \n",
    "    e.employeeNumber,\n",
    "    e.Name,\n",
    "    SUM(s.sales_amount) AS total_sales\n",
    "FROM sales s\n",
    "JOIN employees e ON s.employeeNumber = e.employeeNumber\n",
    "WHERE s.orderDate >= CURRENT_DATE - INTERVAL '90 days'\n",
    "GROUP BY e.employeeNumber, e.Name\n",
    "ORDER BY total_sales DESC;\n",
    "```\n",
    "\n"
   ]
  },
  {
   "cell_type": "markdown",
   "id": "d2e88ee4",
   "metadata": {},
   "source": [
    "### Paso 4: Crea Visualizaciones Clave\n",
    "\n",
    "Con herramientas como Excel, Power BI, Tableau o Python (matplotlib/seaborn), genera al menos tres gráficos relevantes:\n",
    "\n",
    "| Gráfico | Tipo | Descripción |\n",
    "|--------|------|-------------|\n",
    "| 1 | Barras | Top 5 productos más vendidos |\n",
    "| 2 | Líneas | Evolución de ventas mensuales |\n",
    "| 3 | Mapa de calor o tabla cruzada | Ventas por región y categoría |\n",
    "| 4 | Dispersión (opcional) | Relación entre precio y cantidad vendida |\n",
    "\n"
   ]
  },
  {
   "cell_type": "markdown",
   "id": "f76f4684",
   "metadata": {},
   "source": [
    "### Paso 5: Construye Tu Historia Visual\n",
    "\n",
    "Organiza tus visualizaciones en un orden lógico que siga esta estructura narrativa:\n",
    "\n",
    "#### Estructura sugerida:\n",
    "1. **Introducción:** Presenta el problema o pregunta que guía la historia.\n",
    "2. **Contexto:** Muestra una visión general del escenario actual.\n",
    "3. **Exploración:** Destaca patrones y hallazgos clave.\n",
    "4. **Insight:** Ofrece interpretaciones claras y contrastantes.\n",
    "5. **Recomendación:** Propón acciones basadas en los datos.\n",
    "\n"
   ]
  },
  {
   "cell_type": "markdown",
   "id": "58571bda",
   "metadata": {},
   "source": [
    "## Ejemplo de Narrativa: “Top Productos y Oportunidades Ocultas”\n",
    "\n",
    "**Pantalla 1: Introducción**\n",
    "- Pregunta: ¿Cuáles son nuestros productos estrella y cuáles necesitan apoyo?\n",
    "- Imagen: Logo de empresa + título llamativo.\n",
    "\n",
    "**Pantalla 2: Visión General**\n",
    "- Gráfico: Total de ventas por mes en el último año.\n",
    "- Texto: “Las ventas han tenido picos en noviembre y caídas en febrero”.\n",
    "\n",
    "**Pantalla 3: Hallazgo #1 – Productos más vendidos**\n",
    "- Gráfico: Barras horizontales con top 5 productos.\n",
    "- Texto: “Smartphones lideran las ventas, pero con bajo margen”.\n",
    "\n",
    "**Pantalla 4: Hallazgo #2 – Margen vs Volumen**\n",
    "- Gráfico: Dispersión (precio vs unidades vendidas).\n",
    "- Texto: “Los productos más caros no siempre generan más ingreso”.\n",
    "\n",
    "**Pantalla 5: Recomendaciones**\n",
    "- Acciones: Revisar precios de ciertos productos, enfocar promociones en artículos de alto margen.\n",
    "\n"
   ]
  }
 ],
 "metadata": {
  "language_info": {
   "name": "python"
  }
 },
 "nbformat": 4,
 "nbformat_minor": 5
}
