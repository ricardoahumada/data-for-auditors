{
 "cells": [
  {
   "cell_type": "code",
   "execution_count": null,
   "id": "3233ef0f-020f-4e07-91d7-11b9f6a8df4e",
   "metadata": {},
   "outputs": [],
   "source": [
    "# IF\n",
    "nota = 4\n",
    "edad = 9\n",
    "grupo = ''"
   ]
  },
  {
   "cell_type": "code",
   "execution_count": null,
   "id": "985dedd6-1d9a-4f93-807c-9c589ca5afe1",
   "metadata": {},
   "outputs": [],
   "source": [
    "if nota >= 8:\n",
    "    grupo = 'Sobresaliente'\n",
    "elif nota >= 5:\n",
    "    grupo = 'Aprobado'\n",
    "else:\n",
    "    grupo = 'Suspenso'\n",
    "\n",
    "print('Grupo:', grupo)\n",
    "print('Fin de programa')\n",
    "    "
   ]
  },
  {
   "cell_type": "code",
   "execution_count": null,
   "id": "31beb444-5e48-462d-9c47-3b21065a491e",
   "metadata": {},
   "outputs": [],
   "source": [
    "# FOR\n",
    "# nombres_alumnos = ['Juan','Luisa','Marta','Juan']\n",
    "# nombres_alumnos = {'Juan','Luisa','Marta','Juan'}\n",
    "\n",
    "for unAlumno in nombres_alumnos:\n",
    "    print('Alumno:',unAlumno)\n",
    "\n",
    "print('Fin de programa')"
   ]
  },
  {
   "cell_type": "code",
   "execution_count": null,
   "id": "27e1654f-fd2c-4ea3-8386-dfaa2d11108a",
   "metadata": {},
   "outputs": [],
   "source": [
    "alumnos = {\n",
    "    'A1': {'nombre':'Juan', 'nota':2},\n",
    "    'A2': {'nombre':'Luisa', 'nota':5},\n",
    "    'A3': {'nombre':'marat', 'nota':9},\n",
    "}\n",
    "\n",
    "# for unAlumno in alumnos.items():\n",
    "    # idA = unAlumno[0]\n",
    "    # datosA = unAlumno[1]\n",
    "for idA, datosA in alumnos.items():\n",
    "    print('Alumno con id', idA,'datos:', datosA)\n",
    "    nota = datosA['nota']\n",
    "    if nota >= 8:\n",
    "        grupo = 'Sobresaliente'\n",
    "    elif nota >= 5:\n",
    "        grupo = 'Aprobado'\n",
    "    else:\n",
    "        grupo = 'Suspenso'\n",
    "        \n",
    "    print('Grupo:', grupo)\n",
    "\n",
    "    "
   ]
  },
  {
   "cell_type": "code",
   "execution_count": null,
   "id": "6aa83805-7ae2-4228-a9ad-f1fbce5ae277",
   "metadata": {},
   "outputs": [],
   "source": [
    "numit = 0\n",
    "\n",
    "while numit < 10:\n",
    "    print('Num iter:', numit)\n",
    "    numit = numit + 2"
   ]
  },
  {
   "cell_type": "code",
   "execution_count": null,
   "id": "b19eee87-ff3e-4343-aebf-fd09bb50b777",
   "metadata": {},
   "outputs": [],
   "source": [
    "num = 6\n",
    "\n",
    "while guessInt != num:\n",
    "    guess = input('Adivina entre 1-10')\n",
    "    guessInt = int(guess)\n",
    "    print('Tu intento:', guessInt)\n",
    "\n",
    "print('Lo adivinaste!!', num)"
   ]
  },
  {
   "cell_type": "code",
   "execution_count": null,
   "id": "6b62e244-8d6a-4c88-819a-12a836a3e5d2",
   "metadata": {},
   "outputs": [],
   "source": [
    "# FUNCIONES\n",
    "\n",
    "def evaluarNota(nombre, nota):\n",
    "    print('Avaluando nota:', nombre, nota,'...')\n",
    "    grupo = None\n",
    "    if nota >= 8:\n",
    "        grupo = 'Sobresaliente'\n",
    "    elif nota >= 5:\n",
    "        grupo = 'Aprobado'\n",
    "    else:\n",
    "        grupo = 'Suspenso'\n",
    "\n",
    "    # print(f'Grupo parar {nombre}: {grupo}')\n",
    "    return nombre, grupo\n"
   ]
  },
  {
   "cell_type": "code",
   "execution_count": null,
   "id": "7784a416-73e0-4584-91a9-ed6fda8c6b15",
   "metadata": {},
   "outputs": [],
   "source": [
    "resultado = evaluarNota('Juan',7)\n",
    "print('resultado:', resultado)"
   ]
  },
  {
   "cell_type": "code",
   "execution_count": null,
   "id": "dd975416-59c8-4250-9cd2-ceeeefa35313",
   "metadata": {},
   "outputs": [],
   "source": [
    "for idA, datosA in alumnos.items():\n",
    "    resultado = evaluarNota(datosA['nombre'],datosA['nota'])\n",
    "    print('resultado:', resultado)"
   ]
  },
  {
   "cell_type": "code",
   "execution_count": null,
   "id": "48425f4c-e900-4c92-be01-bcac34cfe007",
   "metadata": {},
   "outputs": [],
   "source": [
    "def otraFunc(param1, param2=False):\n",
    "    print('Parámetros:',param1, param2)\n",
    "\n",
    "otraFunc(1, True)"
   ]
  },
  {
   "cell_type": "code",
   "execution_count": null,
   "id": "7811c102-6c8b-4dfa-a493-6bb6e9ff975d",
   "metadata": {},
   "outputs": [],
   "source": [
    "# Ejercicio\n",
    "# Implementa un función que reciba una lista de números como parámetro y determine cuantos impares hay en ella.\n",
    "# 79 % 2\n",
    "\n",
    "def contar_impares(lista):\n",
    "    num_impares =0\n",
    "    for numero in lista:\n",
    "        if numero %2 != 0: \n",
    "            num_impares = num_impares +1\n",
    "\n",
    "    return num_impares\n",
    "\n",
    "numeros = [11, 15, 22, 33, 47, 50,77, 2029, 58, 59, 20258]\n",
    "resultado = contar_impares(numeros)\n",
    "print (resultado)\n"
   ]
  },
  {
   "cell_type": "code",
   "execution_count": null,
   "id": "d6f58536-2d8a-4fec-ae99-e3e38cf2349c",
   "metadata": {},
   "outputs": [],
   "source": [
    "def cuentaParesImpares(lista):\n",
    "    num_imp = 0\n",
    "    num_par = 0\n",
    "    for aNum in lista:\n",
    "        if aNum % 2 == 1:\n",
    "            num_imp += 1\n",
    "        else:\n",
    "            num_par+=1\n",
    "    return num_par, num_imp\n",
    "\n",
    "\n",
    "# ejecutar\n",
    "nums = list(range(1, 100,2))\n",
    "print(len(nums),nums)\n",
    "# nums = [1,4,6,7,9]\n",
    "\n",
    "pares, impares = cuentaParesImpares(nums)\n",
    "\n",
    "print(pares, impares)"
   ]
  }
 ],
 "metadata": {
  "kernelspec": {
   "display_name": "Python 3 (ipykernel)",
   "language": "python",
   "name": "python3"
  },
  "language_info": {
   "codemirror_mode": {
    "name": "ipython",
    "version": 3
   },
   "file_extension": ".py",
   "mimetype": "text/x-python",
   "name": "python",
   "nbconvert_exporter": "python",
   "pygments_lexer": "ipython3",
   "version": "3.10.16"
  }
 },
 "nbformat": 4,
 "nbformat_minor": 5
}
