{
 "cells": [
  {
   "cell_type": "code",
   "execution_count": 8,
   "id": "3233ef0f-020f-4e07-91d7-11b9f6a8df4e",
   "metadata": {},
   "outputs": [],
   "source": [
    "# IF\n",
    "nota = 4\n",
    "edad = 9\n",
    "grupo = ''"
   ]
  },
  {
   "cell_type": "code",
   "execution_count": 10,
   "id": "985dedd6-1d9a-4f93-807c-9c589ca5afe1",
   "metadata": {},
   "outputs": [
    {
     "name": "stdout",
     "output_type": "stream",
     "text": [
      "Grupo: Suspenso\n",
      "Fin de programa\n"
     ]
    }
   ],
   "source": [
    "if nota >= 8:\n",
    "    grupo = 'Sobresaliente'\n",
    "elif nota >= 5:\n",
    "    grupo = 'Aprobado'\n",
    "else:\n",
    "    grupo = 'Suspenso'\n",
    "\n",
    "print('Grupo:', grupo)\n",
    "print('Fin de programa')\n",
    "    "
   ]
  },
  {
   "cell_type": "code",
   "execution_count": 18,
   "id": "31beb444-5e48-462d-9c47-3b21065a491e",
   "metadata": {},
   "outputs": [
    {
     "name": "stdout",
     "output_type": "stream",
     "text": [
      "Alumno: Luisa\n",
      "Alumno: Juan\n",
      "Alumno: Marta\n",
      "Fin de programa\n"
     ]
    }
   ],
   "source": [
    "# FOR\n",
    "# nombres_alumnos = ['Juan','Luisa','Marta','Juan']\n",
    "# nombres_alumnos = {'Juan','Luisa','Marta','Juan'}\n",
    "\n",
    "for unAlumno in nombres_alumnos:\n",
    "    print('Alumno:',unAlumno)\n",
    "\n",
    "print('Fin de programa')"
   ]
  },
  {
   "cell_type": "code",
   "execution_count": 29,
   "id": "27e1654f-fd2c-4ea3-8386-dfaa2d11108a",
   "metadata": {},
   "outputs": [
    {
     "name": "stdout",
     "output_type": "stream",
     "text": [
      "Alumno con id A1 datos: {'nombre': 'Juan', 'nota': 2}\n",
      "Grupo: Suspenso\n",
      "Alumno con id A2 datos: {'nombre': 'Luisa', 'nota': 5}\n",
      "Grupo: Aprobado\n",
      "Alumno con id A3 datos: {'nombre': 'marat', 'nota': 9}\n",
      "Grupo: Sobresaliente\n"
     ]
    }
   ],
   "source": [
    "alumnos = {\n",
    "    'A1': {'nombre':'Juan', 'nota':2},\n",
    "    'A2': {'nombre':'Luisa', 'nota':5},\n",
    "    'A3': {'nombre':'marat', 'nota':9},\n",
    "}\n",
    "\n",
    "# for unAlumno in alumnos.items():\n",
    "    # idA = unAlumno[0]\n",
    "    # datosA = unAlumno[1]\n",
    "for idA, datosA in alumnos.items():\n",
    "    print('Alumno con id', idA,'datos:', datosA)\n",
    "    nota = datosA['nota']\n",
    "    if nota >= 8:\n",
    "        grupo = 'Sobresaliente'\n",
    "    elif nota >= 5:\n",
    "        grupo = 'Aprobado'\n",
    "    else:\n",
    "        grupo = 'Suspenso'\n",
    "        \n",
    "    print('Grupo:', grupo)\n",
    "\n",
    "    "
   ]
  },
  {
   "cell_type": "code",
   "execution_count": 32,
   "id": "6aa83805-7ae2-4228-a9ad-f1fbce5ae277",
   "metadata": {},
   "outputs": [
    {
     "name": "stdout",
     "output_type": "stream",
     "text": [
      "Num iter: 0\n",
      "Num iter: 2\n",
      "Num iter: 4\n",
      "Num iter: 6\n",
      "Num iter: 8\n"
     ]
    }
   ],
   "source": [
    "numit = 0\n",
    "\n",
    "while numit < 10:\n",
    "    print('Num iter:', numit)\n",
    "    numit = numit + 2"
   ]
  },
  {
   "cell_type": "code",
   "execution_count": 43,
   "id": "b19eee87-ff3e-4343-aebf-fd09bb50b777",
   "metadata": {},
   "outputs": [
    {
     "name": "stdout",
     "output_type": "stream",
     "text": [
      "Lo adivinaste!! 6\n"
     ]
    }
   ],
   "source": [
    "num = 6\n",
    "\n",
    "while guessInt != num:\n",
    "    guess = input('Adivina entre 1-10')\n",
    "    guessInt = int(guess)\n",
    "    print('Tu intento:', guessInt)\n",
    "\n",
    "print('Lo adivinaste!!', num)"
   ]
  },
  {
   "cell_type": "code",
   "execution_count": 70,
   "id": "6b62e244-8d6a-4c88-819a-12a836a3e5d2",
   "metadata": {},
   "outputs": [],
   "source": [
    "# FUNCIONES\n",
    "\n",
    "def evaluarNota(nombre, nota):\n",
    "    print('Avaluando nota:', nombre, nota,'...')\n",
    "    grupo = None\n",
    "    if nota >= 8:\n",
    "        grupo = 'Sobresaliente'\n",
    "    elif nota >= 5:\n",
    "        grupo = 'Aprobado'\n",
    "    else:\n",
    "        grupo = 'Suspenso'\n",
    "\n",
    "    # print(f'Grupo parar {nombre}: {grupo}')\n",
    "    return nombre, grupo\n"
   ]
  },
  {
   "cell_type": "code",
   "execution_count": 68,
   "id": "7784a416-73e0-4584-91a9-ed6fda8c6b15",
   "metadata": {},
   "outputs": [
    {
     "name": "stdout",
     "output_type": "stream",
     "text": [
      "Avaluando nota: Juan 7 ...\n",
      "resultado: ('Juan', 'Aprobado')\n"
     ]
    }
   ],
   "source": [
    "resultado = evaluarNota('Juan',7)\n",
    "print('resultado:', resultado)"
   ]
  },
  {
   "cell_type": "code",
   "execution_count": 72,
   "id": "dd975416-59c8-4250-9cd2-ceeeefa35313",
   "metadata": {},
   "outputs": [
    {
     "name": "stdout",
     "output_type": "stream",
     "text": [
      "Avaluando nota: Juan 2 ...\n",
      "resultado: ('Juan', 'Suspenso')\n",
      "Avaluando nota: Luisa 5 ...\n",
      "resultado: ('Luisa', 'Aprobado')\n",
      "Avaluando nota: marat 9 ...\n",
      "resultado: ('marat', 'Sobresaliente')\n"
     ]
    }
   ],
   "source": [
    "for idA, datosA in alumnos.items():\n",
    "    resultado = evaluarNota(datosA['nombre'],datosA['nota'])\n",
    "    print('resultado:', resultado)"
   ]
  },
  {
   "cell_type": "code",
   "execution_count": 78,
   "id": "48425f4c-e900-4c92-be01-bcac34cfe007",
   "metadata": {},
   "outputs": [
    {
     "name": "stdout",
     "output_type": "stream",
     "text": [
      "Parámetros: 1 True\n"
     ]
    }
   ],
   "source": [
    "def otraFunc(param1, param2=False):\n",
    "    print('Parámetros:',param1, param2)\n",
    "\n",
    "otraFunc(1, True)"
   ]
  },
  {
   "cell_type": "code",
   "execution_count": 93,
   "id": "7811c102-6c8b-4dfa-a493-6bb6e9ff975d",
   "metadata": {},
   "outputs": [
    {
     "name": "stdout",
     "output_type": "stream",
     "text": [
      "7\n"
     ]
    }
   ],
   "source": [
    "# Ejercicio\n",
    "# Implementa un función que reciba una lista de números como parámetro y determine cuantos impares hay en ella.\n",
    "# 79 % 2\n",
    "\n",
    "def contar_impares(lista):\n",
    "    num_impares =0\n",
    "    for numero in lista:\n",
    "        if numero %2 != 0: \n",
    "            num_impares = num_impares +1\n",
    "\n",
    "    return num_impares\n",
    "\n",
    "numeros = [11, 15, 22, 33, 47, 50,77, 2029, 58, 59, 20258]\n",
    "resultado = contar_impares(numeros)\n",
    "print (resultado)\n"
   ]
  },
  {
   "cell_type": "code",
   "execution_count": 97,
   "id": "d6f58536-2d8a-4fec-ae99-e3e38cf2349c",
   "metadata": {},
   "outputs": [
    {
     "name": "stdout",
     "output_type": "stream",
     "text": [
      "50 [1, 3, 5, 7, 9, 11, 13, 15, 17, 19, 21, 23, 25, 27, 29, 31, 33, 35, 37, 39, 41, 43, 45, 47, 49, 51, 53, 55, 57, 59, 61, 63, 65, 67, 69, 71, 73, 75, 77, 79, 81, 83, 85, 87, 89, 91, 93, 95, 97, 99]\n",
      "0 50\n"
     ]
    }
   ],
   "source": [
    "def cuentaParesImpares(lista):\n",
    "    num_imp = 0\n",
    "    num_par = 0\n",
    "    for aNum in lista:\n",
    "        if aNum % 2 == 1:\n",
    "            num_imp += 1\n",
    "        else:\n",
    "            num_par+=1\n",
    "    return num_par, num_imp\n",
    "\n",
    "\n",
    "# ejecutar\n",
    "nums = list(range(1, 100,2))\n",
    "print(len(nums),nums)\n",
    "# nums = [1,4,6,7,9]\n",
    "\n",
    "pares, impares = cuentaParesImpares(nums)\n",
    "\n",
    "print(pares, impares)"
   ]
  }
 ],
 "metadata": {
  "kernelspec": {
   "display_name": "Python 3 (ipykernel)",
   "language": "python",
   "name": "python3"
  },
  "language_info": {
   "codemirror_mode": {
    "name": "ipython",
    "version": 3
   },
   "file_extension": ".py",
   "mimetype": "text/x-python",
   "name": "python",
   "nbconvert_exporter": "python",
   "pygments_lexer": "ipython3",
   "version": "3.10.16"
  }
 },
 "nbformat": 4,
 "nbformat_minor": 5
}
