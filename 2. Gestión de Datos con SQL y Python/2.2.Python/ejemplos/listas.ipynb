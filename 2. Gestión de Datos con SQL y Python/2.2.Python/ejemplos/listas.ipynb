{
 "cells": [
  {
   "cell_type": "markdown",
   "id": "02499f29-d1c4-488f-a40b-153c7bf463ca",
   "metadata": {},
   "source": [
    "# Tipos\n",
    "- listas -> [] <- ordenada, duplicados, modificar\n",
    "- tuplas -> () <- ordenada, duplicados, NO modificar\n",
    "- conjuntos -> {} <- No ordenada, No duplicados, modificar\n",
    "- diccionarios -> {'clave':valor} <- más flexible, Claves únicas\n"
   ]
  },
  {
   "cell_type": "code",
   "execution_count": 4,
   "id": "dfb69b04-0467-461f-9417-8d199bfa1416",
   "metadata": {},
   "outputs": [
    {
     "name": "stdout",
     "output_type": "stream",
     "text": [
      "ANTES nombre de alumnos: ['Juan', 'Luisa', 'Marta', 'Juan']\n",
      "DESPUÉS nombre de alumnos: ['Juan', 'Luisa', 'Marta', 'Fran']\n",
      "notas: [2, 5, 9, 7]\n",
      "Numero de alumnos: 4\n",
      "<class 'list'>\n",
      "<class 'int'>\n"
     ]
    }
   ],
   "source": [
    "# LISTA\n",
    "nombres_alumnos = ['Juan','Luisa','Marta','Juan']\n",
    "notas = [2,5,9,7]\n",
    "\n",
    "print('ANTES nombre de alumnos:', nombres_alumnos)\n",
    "\n",
    "nombres_alumnos[3] = 'Fran'\n",
    "\n",
    "print('DESPUÉS nombre de alumnos:', nombres_alumnos)\n",
    "print('notas:', notas)\n",
    "print('Numero de alumnos:', len(nombres_alumnos))\n",
    "\n",
    "print(type(nombres_alumnos))\n",
    "print(type(23))"
   ]
  },
  {
   "cell_type": "code",
   "execution_count": null,
   "id": "d9205fe6-ef99-4a1a-96ea-486ceea5bd05",
   "metadata": {},
   "outputs": [],
   "source": [
    "idx = 1\n",
    "print(f'La nota de {nombres_alumnos[idx]} es {notas[idx]}')\n"
   ]
  },
  {
   "cell_type": "code",
   "execution_count": 6,
   "id": "a0cb5a88-e532-408b-8df4-eb5032850824",
   "metadata": {},
   "outputs": [
    {
     "name": "stdout",
     "output_type": "stream",
     "text": [
      "nombre de alumnos: ('Juan', 'Luisa', 'Marta', 'Juan')\n"
     ]
    }
   ],
   "source": [
    "# TUPLA\n",
    "nombres_alumnos = ('Juan','Luisa','Marta','Juan')\n",
    "# nombres_alumnos[3] = 'Fran' No permitido\n",
    "\n",
    "print('nombre de alumnos:', nombres_alumnos)"
   ]
  },
  {
   "cell_type": "code",
   "execution_count": 11,
   "id": "24c16fdb-722b-41dd-8ad8-9e8ece5994a0",
   "metadata": {},
   "outputs": [
    {
     "name": "stdout",
     "output_type": "stream",
     "text": [
      "conjunto_nombres_alumnos: {'Luisa', 'Juan', 'Marta'}\n"
     ]
    }
   ],
   "source": [
    "# CONJUNTO\n",
    "conjunto_nombres_alumnos = {'Juan','Luisa','Marta','Juan'}\n",
    "# print(conjunto_nombres_alumnos[2])\n",
    "print('conjunto_nombres_alumnos:', conjunto_nombres_alumnos)"
   ]
  },
  {
   "cell_type": "code",
   "execution_count": 1,
   "id": "9c9b9ff1-95e6-4349-af83-852d7d77bf81",
   "metadata": {},
   "outputs": [
    {
     "name": "stdout",
     "output_type": "stream",
     "text": [
      "Valor de Marta: 9\n",
      "mis_alumnos: {'Juan': 2, 'Luisa': 5, 'Marta': 8}\n",
      "Nota de Juan: 2\n"
     ]
    }
   ],
   "source": [
    "# DICCIONARIO\n",
    "\n",
    "mis_alumnos = {\n",
    "    'Juan':2,\n",
    "    'Luisa':5,\n",
    "    'Marta':9,\n",
    "}\n",
    "\n",
    "print('Valor de Marta:', mis_alumnos['Marta'])\n",
    "\n",
    "mis_alumnos['Marta'] = 8\n",
    "\n",
    "print('mis_alumnos:', mis_alumnos)\n",
    "print('Nota de Juan:', mis_alumnos['Juan'])\n"
   ]
  },
  {
   "cell_type": "code",
   "execution_count": 2,
   "id": "9eded2f0-760f-4c8f-a28d-efbf64c56ff8",
   "metadata": {},
   "outputs": [
    {
     "name": "stdout",
     "output_type": "stream",
     "text": [
      "alumnos: {'A1': {'nombre': 'Juan', 'nota': 2}, 'A2': {'nombre': 'Luisa', 'nota': 5}, 'A3': {'nombre': 'marat', 'nota': 9}}\n"
     ]
    }
   ],
   "source": [
    "# Estructura más compleja\n",
    "alumnos = {\n",
    "    'A1': {'nombre':'Juan', 'nota':2},\n",
    "    'A2': {'nombre':'Luisa', 'nota':5},\n",
    "    'A3': {'nombre':'marat', 'nota':9},\n",
    "}\n",
    "\n",
    "print('alumnos:', alumnos)"
   ]
  }
 ],
 "metadata": {
  "kernelspec": {
   "display_name": "Python 3 (ipykernel)",
   "language": "python",
   "name": "python3"
  },
  "language_info": {
   "codemirror_mode": {
    "name": "ipython",
    "version": 3
   },
   "file_extension": ".py",
   "mimetype": "text/x-python",
   "name": "python",
   "nbconvert_exporter": "python",
   "pygments_lexer": "ipython3",
   "version": "3.10.16"
  }
 },
 "nbformat": 4,
 "nbformat_minor": 5
}
