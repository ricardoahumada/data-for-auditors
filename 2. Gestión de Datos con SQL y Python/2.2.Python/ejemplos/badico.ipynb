{
 "cells": [
  {
   "cell_type": "code",
   "execution_count": null,
   "id": "d83bec1c-0efc-46fd-8f68-188151b9dcba",
   "metadata": {},
   "outputs": [],
   "source": [
    "print('Hola mundo!!!')"
   ]
  },
  {
   "cell_type": "code",
   "execution_count": null,
   "id": "7a939235-528e-4015-bc11-81264fc615a4",
   "metadata": {},
   "outputs": [],
   "source": [
    "print(3+4)"
   ]
  },
  {
   "cell_type": "code",
   "execution_count": null,
   "id": "b1774d54-4417-43bd-a302-d22fe83ce3f0",
   "metadata": {},
   "outputs": [],
   "source": [
    "print(3+4)\n",
    "print('Hola mundo!!!')"
   ]
  },
  {
   "cell_type": "code",
   "execution_count": null,
   "id": "0b8d6d20-3e97-4243-99ac-6ccd404c9da6",
   "metadata": {},
   "outputs": [],
   "source": [
    "_unNum = 3\n",
    "secVarNum = 17\n",
    "\n",
    "unNum = unNum + secVar\n",
    "print(unNum)"
   ]
  },
  {
   "cell_type": "code",
   "execution_count": null,
   "id": "ba47ea81-6994-47b6-94c8-87805d10484b",
   "metadata": {},
   "outputs": [],
   "source": [
    "# variables asociadas a facturas\n",
    "monto = 2345.67 # representa el monto\n",
    "iva = 21 # el iva\n",
    "NIF = 'XXXXXXXX'\n",
    "estaPagado = True"
   ]
  },
  {
   "cell_type": "code",
   "execution_count": null,
   "id": "fb49ad5e-df16-454c-ac3f-ebd177b875f3",
   "metadata": {},
   "outputs": [],
   "source": [
    "print('Mis datos facturas:', monto, iva, NIF, estaPagado)"
   ]
  },
  {
   "cell_type": "code",
   "execution_count": null,
   "id": "a00a2e63-e315-4538-86a5-427d2b9800eb",
   "metadata": {},
   "outputs": [],
   "source": [
    "# print('Mis datos facturas:' + monto)"
   ]
  },
  {
   "cell_type": "code",
   "execution_count": null,
   "id": "13c53184-8eec-4757-a38b-861765772316",
   "metadata": {},
   "outputs": [],
   "source": [
    "print(f'Mis datos facturas: {monto}, {iva}, {NIF}, {estaPagado}')"
   ]
  },
  {
   "cell_type": "code",
   "execution_count": null,
   "id": "81b01ebe-1a6d-46a5-8369-37aa50914e82",
   "metadata": {},
   "outputs": [],
   "source": [
    "# Calcular el valor total a pagar de la factura\n",
    "valorTotal = monto * (1+iva/100)\n",
    "\n",
    "print(f'Valor total: {valorTotal}€')\n"
   ]
  },
  {
   "cell_type": "code",
   "execution_count": null,
   "id": "d324218b-8c82-4248-b44d-edf5a9fdb989",
   "metadata": {},
   "outputs": [],
   "source": [
    "descripcion = \"\"\"Esta es una descripción de una factura\"\"\"\n",
    "print(descripcion, len(descripcion))"
   ]
  },
  {
   "cell_type": "code",
   "execution_count": null,
   "id": "9a22b279-7f83-448c-8a04-f434c9c25138",
   "metadata": {},
   "outputs": [],
   "source": [
    "print(descripcion.lower())"
   ]
  }
 ],
 "metadata": {
  "kernelspec": {
   "display_name": "Python 3 (ipykernel)",
   "language": "python",
   "name": "python3"
  },
  "language_info": {
   "codemirror_mode": {
    "name": "ipython",
    "version": 3
   },
   "file_extension": ".py",
   "mimetype": "text/x-python",
   "name": "python",
   "nbconvert_exporter": "python",
   "pygments_lexer": "ipython3",
   "version": "3.10.16"
  }
 },
 "nbformat": 4,
 "nbformat_minor": 5
}
