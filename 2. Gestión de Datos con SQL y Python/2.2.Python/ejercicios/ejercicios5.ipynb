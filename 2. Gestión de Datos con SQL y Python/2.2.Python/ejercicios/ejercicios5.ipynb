{
 "cells": [
  {
   "cell_type": "markdown",
   "metadata": {},
   "source": [
    "## EJERCICIOS 5\n",
    "\n",
    "- Implementa una función que verifique si una palabra dada es un palíndromo (se lee igual adelante o atrás).\n",
    "- Implementa un función que reciba una serie de números como parámetro y determine cuantos impares hay en ella.\n",
    "- Dada una lista de alumnos, donde cada alumno es un dictionario con \"nombre, direccion y edad\"; implementa una solución basada en funciones que transforme la letra intermedia (o más cercana al centro) del nombre de cada alumno en mayúscula y el resto en minúsculas.\n",
    "\t+ Pedro > peDro, Luis > luIs\n",
    "- Dada una lista de alumnos anterior, donde cada alumno es un dictionario con nombre, direccion y edad; implementa una solución basada en funciones que transforme la lista en dos listas de tuplas del tipo (nombre, direccion), (nombre, edad).\n",
    "- Escribe una expresión lambda que eleve al cubo todos los números de la lista siguiente: [1,2,3,4,5,6,7,8], usando la función map\n",
    "\n",
    "- Refactoriza el ejercicio de notas de alumnos para que se base en funciones."
   ]
  }
 ],
 "metadata": {
  "kernelspec": {
   "display_name": "Python 3",
   "language": "python",
   "name": "python3"
  },
  "language_info": {
   "codemirror_mode": {
    "name": "ipython",
    "version": 3
   },
   "file_extension": ".py",
   "mimetype": "text/x-python",
   "name": "python",
   "nbconvert_exporter": "python",
   "pygments_lexer": "ipython3",
   "version": "3.12.4"
  }
 },
 "nbformat": 4,
 "nbformat_minor": 2
}
