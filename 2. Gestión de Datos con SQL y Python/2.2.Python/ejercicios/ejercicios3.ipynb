{
 "cells": [
  {
   "cell_type": "markdown",
   "metadata": {},
   "source": [
    "## EJERCICIOS 3\n",
    "- Dada una lista de nombres de alumnos, y otra con las notas cada uno, genera un diccionario que indique para cada alumno sus notas.\n",
    "- Genera una lista de alumnos a partir del diccionario anterior ordenado por notas descendents. Usar sorted-lambda (https://docs.python.org/3/howto/sorting.html)\n"
   ]
  }
 ],
 "metadata": {
  "kernelspec": {
   "display_name": "Python 3 (ipykernel)",
   "language": "python",
   "name": "python3"
  }
 },
 "nbformat": 4,
 "nbformat_minor": 2
}
