{
 "cells": [
  {
   "cell_type": "markdown",
   "metadata": {},
   "source": [
    "## EJERCICIOS 4\n",
    "- Genera un programa que encuentre el mayor de 3 números en tres variables, usando solo if-elif-else\n",
    "- Extendiende la lógica anterior para una lista de números\n",
    "- Extendiende la lógica antarior para un diccionario: {'john':4, 'Anna': 7, 'Peter': 1, 'Riga': 9}"
   ]
  },
  {
   "cell_type": "markdown",
   "metadata": {},
   "source": [
    "### La fiesta VIP de John\n",
    "John desea realizar una fiesta VIP; pero el año anterior una persona se coló utilizando el mismo nombre de otra. Y por eso John ha decidido este año que el portero pida el número de documento.\n",
    "El programa deberá tener una lista de dnis aprobados. El portero deberá poder introducir el número de documento de quien solicita entrar a la fiesta y comprobar si existe en la lista. \n",
    "Si está, se muestra un PERMITIDO ENTRAR. Luego debe mostrar cuántas personas de la lista quedan por entrar.\n",
    "Si no está en la lista, deberá indicar NO PERMITIDO y seguir esperando un nuevo documento.\n",
    "Cuando se complete la lista, seberá indicar COMPLETADO y salir.\n",
    "La lista, una vez definida por John, no debe poder modificarse durante el proceso."
   ]
  },
  {
   "cell_type": "markdown",
   "metadata": {},
   "source": [
    "## EJERCICIO DE NOTAS\n",
    "- Se tiene una lista de alumnos con sus asignaturas y la nota más alta y nota más baja de cada una. \n",
    "\t- data/notas.py\n",
    "\n",
    "Genera un programa que permita completar y extraer datos estadísticos de la lista de la siguiente manera: \n",
    "1. Completar la nota media de cada alumno por asignatura.\n",
    "2. Obtener la media global por asignatura.\n",
    "3. Obtener la media global por alumno (de todos y cada uno).\n",
    "4. Obtener la media global de todos los alumnos.\n",
    "5. Obtener para un alumno determinado, la nota media.\n",
    "6. Obtener los alumnos con una nota media superior o igual a un número dado (5).\n",
    "\n",
    "Haz que el programa solicite la opción que quieres ejecutar el prompt "
   ]
  }
 ],
 "metadata": {
  "kernelspec": {
   "display_name": "Python 3 (ipykernel)",
   "language": "python",
   "name": "python3"
  },
  "language_info": {
   "codemirror_mode": {
    "name": "ipython",
    "version": 3
   },
   "file_extension": ".py",
   "mimetype": "text/x-python",
   "name": "python",
   "nbconvert_exporter": "python",
   "pygments_lexer": "ipython3",
   "version": "3.10.11"
  }
 },
 "nbformat": 4,
 "nbformat_minor": 2
}
