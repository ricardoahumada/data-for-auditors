{
 "cells": [
  {
   "cell_type": "markdown",
   "metadata": {},
   "source": [
    "## EJERCICIOS 2\n",
    "- Escribe un programa que almacene internamente una lista de números, pida al usuario un número e indique si está en la lista con un True o False.\n",
    "- Calcular el sueldo mensual de un operario conociendo la cantidad de horas trabajadas y el valor por hora. Estos valores se deberán solicitar al usuario.\n",
    "- Dados N números, separados por \",\" ingresados por el usuario en una sola entrada, identifica cuál es el mayor de todos.\n",
    "- Dada una lista, escribe un programa que cuente los valores únicos.\n",
    "- Dada una diccionario cualquiera, muestra el valor de la clave en segunda posición.\n"
   ]
  }
 ],
 "metadata": {
  "kernelspec": {
   "display_name": "Python 3",
   "language": "python",
   "name": "python3"
  },
  "language_info": {
   "codemirror_mode": {
    "name": "ipython",
    "version": 3
   },
   "file_extension": ".py",
   "mimetype": "text/x-python",
   "name": "python",
   "nbconvert_exporter": "python",
   "pygments_lexer": "ipython3",
   "version": "3.12.4"
  }
 },
 "nbformat": 4,
 "nbformat_minor": 2
}
