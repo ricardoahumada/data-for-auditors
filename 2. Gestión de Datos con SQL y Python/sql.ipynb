{
 "cells": [
  {
   "cell_type": "code",
   "execution_count": null,
   "id": "a1d606be-9012-460a-bcb3-d5f484842ee1",
   "metadata": {},
   "outputs": [],
   "source": [
    "! pip show psycopg2-binary"
   ]
  },
  {
   "cell_type": "code",
   "execution_count": null,
   "id": "4210888b-7545-4121-af9c-9dee9451b98e",
   "metadata": {},
   "outputs": [],
   "source": [
    "# ! pip install psycopg2-binary"
   ]
  },
  {
   "cell_type": "code",
   "execution_count": null,
   "id": "6f656a52-affb-4b34-b471-182ec900abda",
   "metadata": {},
   "outputs": [],
   "source": [
    "import psycopg2"
   ]
  },
  {
   "cell_type": "code",
   "execution_count": null,
   "id": "631deee5-a465-42d4-8be2-8aa69c4b4c03",
   "metadata": {},
   "outputs": [],
   "source": [
    "import psycopg2\n",
    "\n",
    "PGHOST='ep-white-field-a8rw6835-pooler.eastus2.azure.neon.tech'\n",
    "PGDATABASE='formacion'\n",
    "PGUSER='formacion_owner'\n",
    "PGPASSWORD='xcg_qpOxh7GvM9Ii'\n",
    "\n",
    "def create_server_connection():\n",
    "    conn = None\n",
    "    try:\n",
    "        conn = psycopg2.connect(database=PGDATABASE, user=PGUSER, password=PGPASSWORD, host=PGHOST, port=5432)\n",
    "        print(\"Database conn successful\")\n",
    "    except Error as err:\n",
    "        print(f\"Error: '{err}'\")\n",
    "\n",
    "    return conn"
   ]
  },
  {
   "cell_type": "code",
   "execution_count": 4,
   "id": "8ba0cad3-45a5-4b0b-9a2a-be0d120067a0",
   "metadata": {},
   "outputs": [
    {
     "name": "stdout",
     "output_type": "stream",
     "text": [
      "Database conn successful\n"
     ]
    }
   ],
   "source": [
    "connection = create_server_connection()\n",
    "connection.close()"
   ]
  },
  {
   "cell_type": "code",
   "execution_count": null,
   "id": "a47abfc6-ef47-4d4a-820d-e8f34fc20f86",
   "metadata": {},
   "outputs": [],
   "source": [
    "conn = create_server_connection()\n",
    "\n",
    "# Open a cursor to perform database operations\n",
    "cur = conn.cursor()\n",
    "# Execute a command: create datafund_students table\n",
    "try:\n",
    "    cur.execute(\"\"\"CREATE TABLE datafund_students(\n",
    "                student_id SERIAL PRIMARY KEY,\n",
    "                student_name VARCHAR (50) UNIQUE NOT NULL,\n",
    "                student_email VARCHAR (100) NOT NULL,\n",
    "                student_age INT NOT NULL);\n",
    "                \"\"\")\n",
    "    # Make the changes to the database persistent\n",
    "    conn.commit()\n",
    "except Error as err:\n",
    "        print(f\"Error: '{err}'\")\n",
    "        conn.rollback()\n",
    "\n",
    "# Close cursor and communication with the database\n",
    "cur.close()\n",
    "# más cursores -> más sqls\n",
    "conn.close()"
   ]
  },
  {
   "cell_type": "code",
   "execution_count": null,
   "id": "e0925400-2a9a-41eb-ae54-5d6cab9bd9a8",
   "metadata": {},
   "outputs": [],
   "source": [
    "conn = create_server_connection()\n",
    "\n",
    "cur = conn.cursor()\n",
    "\n",
    "cur.execute(\"INSERT INTO datafund_students(student_name, student_email, student_age) VALUES('Pedro','p@p.es',34)\")\n",
    "cur.execute(\"INSERT INTO datafund_students(student_name, student_email, student_age) VALUES('Anna','a@a.es',43)\")\n",
    "cur.execute(\"INSERT INTO datafund_students(student_name, student_email, student_age) VALUES('Luisa','l@l.es',54)\")\n",
    "cur.execute(\"INSERT INTO datafund_students(student_name, student_email, student_age) VALUES('Juan','j@j.es',21)\")\n",
    "\n",
    "conn.commit()\n",
    "cur.close()\n",
    "conn.close()"
   ]
  },
  {
   "cell_type": "code",
   "execution_count": null,
   "id": "c0681036-c280-437a-b838-cf262e33acfe",
   "metadata": {},
   "outputs": [],
   "source": [
    "conn = create_server_connection()\n",
    "\n",
    "cur = conn.cursor()\n",
    "cur.execute('SELECT * FROM datafund_students;')\n",
    "rows = cur.fetchall()\n",
    "# conn.commit()\n",
    "cur.close()\n",
    "conn.close()\n",
    "\n",
    "print('rows:', rows)\n",
    "\n",
    "for row in rows:\n",
    "    print('un registro:',row)"
   ]
  },
  {
   "cell_type": "code",
   "execution_count": null,
   "id": "2676df1f-51b3-480a-b581-355eecf850a9",
   "metadata": {},
   "outputs": [],
   "source": [
    "conn = create_server_connection()\n",
    "\n",
    "# Create new table\n",
    "cur = conn.cursor()\n",
    "\n",
    "cur.execute(\"\"\"CREATE TABLE students_grades(\n",
    "            grade_id SERIAL PRIMARY KEY,\n",
    "            course_name VARCHAR (50) UNIQUE NOT NULL,\n",
    "            student_number INT NOT NULL,\n",
    "            grade INT NOT NULL);\n",
    "            \"\"\")\n",
    "\n",
    "conn.commit()\n",
    "cur.close()\n",
    "conn.close()"
   ]
  },
  {
   "cell_type": "code",
   "execution_count": null,
   "id": "8c08db2d-8b04-4e8f-8f00-cdd77e06ec1a",
   "metadata": {},
   "outputs": [],
   "source": [
    "conn = create_server_connection()\n",
    "\n",
    "# Insert new data\n",
    "cur = conn.cursor()\n",
    "cur.execute(\"INSERT INTO students_grades(course_name, student_number, grade) VALUES('SQL', 1, 8)\")\n",
    "cur.execute(\"INSERT INTO students_grades(course_name, student_number, grade) VALUES('Python', 2, 1)\")\n",
    "cur.execute(\"INSERT INTO students_grades(course_name, student_number, grade) VALUES('R', 3, 6)\")\n",
    "cur.execute(\"INSERT INTO students_grades(course_name, student_number, grade) VALUES('Julia', 4, 3)\")\n",
    "cur.execute(\"INSERT INTO students_grades(course_name, student_number, grade) VALUES('Scala', 1, 8)\")\n",
    "\n",
    "conn.commit()\n",
    "cur.close()\n",
    "conn.close()"
   ]
  },
  {
   "cell_type": "code",
   "execution_count": null,
   "id": "205ba121-44bc-42d3-b7ff-8754c7adf1ce",
   "metadata": {},
   "outputs": [],
   "source": [
    "conn = create_server_connection()\n",
    "\n",
    "cur = conn.cursor()\n",
    "cur.execute(\"\"\"SELECT student_name, student_email, course_name, grade FROM datafund_students\n",
    "INNER JOIN students_grades ON datafund_students.student_id = students_grades.student_number\"\"\")\n",
    "\n",
    "rows = cur.fetchall()\n",
    "for row in rows:\n",
    "    print(row)\n",
    "\n",
    "cur.close()\n",
    "conn.close()"
   ]
  },
  {
   "cell_type": "code",
   "execution_count": 25,
   "id": "c92c9c63-020a-4afe-a103-edefbc6121b0",
   "metadata": {},
   "outputs": [
    {
     "name": "stdout",
     "output_type": "stream",
     "text": [
      "--- Mostrar los primeros 5 pagos realizados ---\n"
     ]
    }
   ],
   "source": [
    "print('--- Mostrar los primeros 5 pagos realizados ---')\n",
    "\n",
    "def obtener_ultimos_pagos(num, conn):\n",
    "    cur = conn.cursor()\n",
    "    SQL = \"\"\"SELECT * FROM payments ORDER BY paymentdate ASC LIMIT {0}\"\"\".format(num)\n",
    "    cur.execute(SQL)\n",
    "    rows = cur.fetchall()\n",
    "    cur.close()\n",
    "    \n",
    "    return rows\n"
   ]
  },
  {
   "cell_type": "code",
   "execution_count": 26,
   "id": "a940344b-58fe-4714-a3c6-2888a86663be",
   "metadata": {},
   "outputs": [
    {
     "name": "stdout",
     "output_type": "stream",
     "text": [
      "Database conn successful\n",
      "(363, 'IS232033', datetime.date(2003, 1, 16), Decimal('10223.83'))\n",
      "(128, 'DI925118', datetime.date(2003, 1, 28), Decimal('10549.01'))\n",
      "(181, 'GQ132144', datetime.date(2003, 1, 30), Decimal('5494.78'))\n",
      "(121, 'DB889831', datetime.date(2003, 2, 16), Decimal('50218.95'))\n",
      "(145, 'JJ246391', datetime.date(2003, 2, 20), Decimal('53959.21'))\n",
      "(141, 'JN722010', datetime.date(2003, 2, 25), Decimal('40206.20'))\n",
      "(278, 'GP636783', datetime.date(2003, 3, 2), Decimal('52151.81'))\n",
      "(131, 'CL442705', datetime.date(2003, 3, 12), Decimal('22292.62'))\n",
      "(486, 'JB117768', datetime.date(2003, 3, 20), Decimal('25833.14'))\n",
      "(187, 'KL124726', datetime.date(2003, 3, 27), Decimal('48425.69'))\n",
      "(129, 'PI42991', datetime.date(2003, 4, 9), Decimal('16537.85'))\n",
      "(144, 'LA685678', datetime.date(2003, 4, 9), Decimal('7674.94'))\n",
      "(124, 'CQ287967', datetime.date(2003, 4, 11), Decimal('11044.30'))\n",
      "(424, 'LM271923', datetime.date(2003, 4, 16), Decimal('21665.98'))\n",
      "(381, 'CC475233', datetime.date(2003, 4, 19), Decimal('1627.56'))\n",
      "(172, 'EH208589', datetime.date(2003, 4, 20), Decimal('33383.14'))\n",
      "(216, 'BG407567', datetime.date(2003, 5, 9), Decimal('3101.40'))\n"
     ]
    }
   ],
   "source": [
    "conn = create_server_connection()\n",
    "resultados = obtener_ultimos_pagos(17, conn)\n",
    "conn.close()\n",
    "\n",
    "for row in resultados:\n",
    "    print(row)\n",
    "\n",
    "\n"
   ]
  },
  {
   "cell_type": "code",
   "execution_count": 28,
   "id": "d1a443af-b900-49d2-96e4-c3e711c1281e",
   "metadata": {},
   "outputs": [],
   "source": [
    "def ejecutor_de_sqls(sql, conn):\n",
    "    cur = conn.cursor()\n",
    "    SQL = sql\n",
    "    cur.execute(SQL)\n",
    "    rows = cur.fetchall()\n",
    "    cur.close()\n",
    "    \n",
    "    return rows\n"
   ]
  },
  {
   "cell_type": "code",
   "execution_count": null,
   "id": "40952a05-b7ac-4690-ad32-279e41101c44",
   "metadata": {},
   "outputs": [],
   "source": [
    "SQL = \"\"\"SELECT * FROM payments ORDER BY paymentdate ASC LIMIT {0}\"\"\".format(num)\n",
    "ejecutor_de_sqls(SQL ,conn)"
   ]
  },
  {
   "cell_type": "code",
   "execution_count": null,
   "id": "33aed35c-0b0d-4dad-b2e5-4dfb079fc1fc",
   "metadata": {},
   "outputs": [],
   "source": []
  },
  {
   "cell_type": "code",
   "execution_count": null,
   "id": "4eea8ef1-4de9-49cc-9723-f589bb3c3255",
   "metadata": {},
   "outputs": [],
   "source": []
  },
  {
   "cell_type": "code",
   "execution_count": null,
   "id": "1474335b-3e31-4c83-92f8-52c628dd406b",
   "metadata": {},
   "outputs": [],
   "source": []
  },
  {
   "cell_type": "code",
   "execution_count": null,
   "id": "7fe223a1-96b2-44af-83d8-a602978e5c1f",
   "metadata": {},
   "outputs": [],
   "source": []
  },
  {
   "cell_type": "code",
   "execution_count": null,
   "id": "7046791a-fb70-46da-9ae2-ce7cf385fbf8",
   "metadata": {},
   "outputs": [],
   "source": []
  }
 ],
 "metadata": {
  "kernelspec": {
   "display_name": "Python 3 (ipykernel)",
   "language": "python",
   "name": "python3"
  },
  "language_info": {
   "codemirror_mode": {
    "name": "ipython",
    "version": 3
   },
   "file_extension": ".py",
   "mimetype": "text/x-python",
   "name": "python",
   "nbconvert_exporter": "python",
   "pygments_lexer": "ipython3",
   "version": "3.10.16"
  }
 },
 "nbformat": 4,
 "nbformat_minor": 5
}
