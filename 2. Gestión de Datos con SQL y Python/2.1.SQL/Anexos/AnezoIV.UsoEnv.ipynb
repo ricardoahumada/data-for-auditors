{
 "cells": [
  {
   "cell_type": "markdown",
   "id": "8fb66fa6",
   "metadata": {},
   "source": [
    "# Usar .env para conectarse a una Base de datos"
   ]
  },
  {
   "cell_type": "markdown",
   "id": "82667410",
   "metadata": {},
   "source": [
    "El uso de un archivo .env es una buena práctica para gestionar variables de entorno , especialmente cuando se trata de credenciales y datos sensibles como los de conexión a una base de datos.\n",
    "\n",
    "- `python-dotenv` para cargar variables del archivo `.env`\n",
    "- `psycopg2` o `SQLAlchemy` para conectarte a PostgreSQL\n",
    "\n",
    "##  Estructura"
   ]
  },
  {
   "cell_type": "markdown",
   "id": "b9fe8b4d",
   "metadata": {},
   "source": [
    "```\n",
    "mi_proyecto/\n",
    "│\n",
    "├── .env              ← Aquí van tus variables de entorno\n",
    "├── main.py           ← Archivo principal de Python\n",
    "└── requirements.txt  ← Dependencias\n",
    "```\n"
   ]
  },
  {
   "cell_type": "markdown",
   "id": "dd95ca2c",
   "metadata": {},
   "source": [
    "## Contenido del archivo .env\n",
    "Crea un archivo llamado .env en la raíz de tu proyecto con las siguientes variables:\n"
   ]
  },
  {
   "cell_type": "code",
   "execution_count": null,
   "id": "0cd299fa",
   "metadata": {},
   "outputs": [],
   "source": [
    "DB_HOST=localhost\n",
    "DB_PORT=5432\n",
    "DB_NAME=mi_basedatos\n",
    "DB_USER=mi_usuario\n",
    "DB_PASSWORD=mi_contrasena\n",
    "DB_SCHEMA=public"
   ]
  },
  {
   "cell_type": "markdown",
   "id": "3ba5f22c",
   "metadata": {},
   "source": [
    "## Instalar dependencias necesarias"
   ]
  },
  {
   "cell_type": "code",
   "execution_count": 1,
   "id": "e3d2a044",
   "metadata": {},
   "outputs": [],
   "source": [
    "# ! pip install python-dotenv"
   ]
  },
  {
   "cell_type": "markdown",
   "id": "992c711e",
   "metadata": {},
   "source": [
    "## Usar `.env` en Python"
   ]
  },
  {
   "cell_type": "code",
   "execution_count": null,
   "id": "b13fa8c2",
   "metadata": {},
   "outputs": [],
   "source": [
    "import os\n",
    "import psycopg2\n",
    "from dotenv import load_dotenv\n",
    "\n",
    "# Cargar variables del .env\n",
    "load_dotenv()\n",
    "\n",
    "# Obtener variables de conexión\n",
    "db_host = os.getenv(\"DB_HOST\")\n",
    "db_port = os.getenv(\"DB_PORT\")\n",
    "db_name = os.getenv(\"DB_NAME\")\n",
    "db_user = os.getenv(\"DB_USER\")\n",
    "db_password = os.getenv(\"DB_PASSWORD\")"
   ]
  },
  {
   "cell_type": "code",
   "execution_count": null,
   "id": "e77f70ac",
   "metadata": {},
   "outputs": [],
   "source": [
    "\n",
    "# Conectar a PostgreSQL\n",
    "try:\n",
    "    conn = psycopg2.connect(\n",
    "        host=db_host,\n",
    "        port=db_port,\n",
    "        database=db_name,\n",
    "        user=db_user,\n",
    "        password=db_password\n",
    "    )\n",
    "\n",
    "    cur = conn.cursor()\n",
    "\n",
    "    # Ejecutar una consulta de ejemplo\n",
    "    cur.execute(\"SELECT version();\")\n",
    "    db_version = cur.fetchone()\n",
    "    print(\"Versión de PostgreSQL:\", db_version)\n",
    "\n",
    "    # Ejemplo adicional: consultar datos\n",
    "    cur.execute(\"SELECT * FROM customers LIMIT 5;\")\n",
    "    rows = cur.fetchall()\n",
    "    for row in rows:\n",
    "        print(row)\n",
    "\n",
    "except Exception as e:\n",
    "    print(\"Error al conectar a PostgreSQL:\", e)\n",
    "\n",
    "finally:\n",
    "    if 'cur' in locals():\n",
    "        cur.close()\n",
    "    if 'conn' in locals():\n",
    "        conn.close()"
   ]
  }
 ],
 "metadata": {
  "kernelspec": {
   "display_name": "Python 3",
   "language": "python",
   "name": "python3"
  },
  "language_info": {
   "codemirror_mode": {
    "name": "ipython",
    "version": 3
   },
   "file_extension": ".py",
   "mimetype": "text/x-python",
   "name": "python",
   "nbconvert_exporter": "python",
   "pygments_lexer": "ipython3",
   "version": "3.12.4"
  }
 },
 "nbformat": 4,
 "nbformat_minor": 5
}
