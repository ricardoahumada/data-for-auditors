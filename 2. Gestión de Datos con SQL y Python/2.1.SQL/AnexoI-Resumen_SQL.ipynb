{
 "cells": [
  {
   "cell_type": "markdown",
   "id": "f3a233f4",
   "metadata": {},
   "source": [
    "# **Introducción a SQL**\n"
   ]
  },
  {
   "cell_type": "markdown",
   "id": "f4e448a9",
   "metadata": {},
   "source": [
    "## ¿Qué es SQL? (Para no iniciados)\n",
    "SQL (Structured Query Language , o Lenguaje de Consulta Estructurada ) es un lenguaje de programación diseñado para gestionar y manipular bases de datos relacionales . En otras palabras, sirve para hablar con las bases de datos y decirles qué información queremos guardar, cambiar, buscar o eliminar."
   ]
  },
  {
   "cell_type": "markdown",
   "id": "ef7b9af3",
   "metadata": {},
   "source": [
    "## Introducción a PostgreSQL\n",
    "\n",
    "**¿Qué es PostgreSQL?**\n",
    "\n",
    "- Sistema de base de datos relacional de código abierto.\n",
    "- Soporta tipos de datos complejos, índices, transacciones, procedimientos almacenados, y más.\n",
    "- Ideal para aplicaciones que requieren alta disponibilidad, integridad y escalabilidad.\n"
   ]
  },
  {
   "cell_type": "markdown",
   "id": "057f652b",
   "metadata": {},
   "source": [
    "## Tipos de Datos Comunes\n",
    "\n",
    "| Tipo | Descripción |\n",
    "|------|-------------|\n",
    "| `INTEGER` | Números enteros |\n",
    "| `VARCHAR(n)` | Cadena de texto de longitud variable |\n",
    "| `TEXT` | Cadena de texto sin límite |\n",
    "| `DATE` | Fecha (`YYYY-MM-DD`) |\n",
    "| `TIMESTAMP` | Fecha y hora |\n",
    "| `BOOLEAN` | Verdadero/Falso |\n",
    "| `DECIMAL(p,s)` | Número exacto con precisión definida |\n",
    "| `JSONB` | Almacenamiento binario de objetos JSON |\n"
   ]
  },
  {
   "cell_type": "markdown",
   "id": "267687f7",
   "metadata": {},
   "source": [
    "## CRUD: Operaciones Básicas\n",
    "\n",
    "### 🔍 SELECT\n",
    "```sql\n",
    "SELECT nombre, edad FROM usuarios;\n",
    "```\n",
    "\n",
    "### ➕ INSERT\n",
    "```sql\n",
    "INSERT INTO usuarios (nombre, edad) VALUES ('Ana', 28);\n",
    "```\n",
    "\n",
    "### ✏️ UPDATE\n",
    "```sql\n",
    "UPDATE usuarios SET edad = 29 WHERE nombre = 'Ana';\n",
    "```\n",
    "\n",
    "### ❌ DELETE\n",
    "```sql\n",
    "DELETE FROM usuarios WHERE edad < 18;\n",
    "```\n"
   ]
  },
  {
   "cell_type": "markdown",
   "id": "e0a1486a",
   "metadata": {},
   "source": [
    "## Filtrado y Ordenamiento\n",
    "\n",
    "### WHERE\n",
    "```sql\n",
    "SELECT * FROM usuarios WHERE edad > 30;\n",
    "```\n",
    "\n",
    "### Operadores comunes:\n",
    "- `=`, `<>`, `<`, `>`, `<=`, `>=`\n",
    "- `IN`, `NOT IN`, `LIKE`, `ILIKE`, `IS NULL`, `IS NOT NULL`\n",
    "\n",
    "### ORDER BY\n",
    "```sql\n",
    "SELECT * FROM usuarios ORDER BY edad DESC;\n",
    "```\n"
   ]
  },
  {
   "cell_type": "markdown",
   "id": "6ee3f9ea",
   "metadata": {},
   "source": [
    "## Agregaciones y Funciones de Grupo\n",
    "\n",
    "### COUNT, SUM, AVG, MAX, MIN\n",
    "```sql\n",
    "SELECT COUNT(*) FROM usuarios;\n",
    "SELECT AVG(edad), MAX(edad) FROM usuarios;\n",
    "```\n",
    "\n",
    "### GROUP BY\n",
    "```sql\n",
    "SELECT ciudad, COUNT(*) AS total_usuarios\n",
    "FROM usuarios\n",
    "GROUP BY ciudad;\n",
    "```\n",
    "\n",
    "### HAVING\n",
    "```sql\n",
    "SELECT ciudad, COUNT(*) AS total_usuarios\n",
    "FROM usuarios\n",
    "GROUP BY ciudad\n",
    "HAVING COUNT(*) > 5;\n",
    "```\n"
   ]
  },
  {
   "cell_type": "markdown",
   "id": "f336d421",
   "metadata": {},
   "source": [
    "## Relaciones y JOINs\n",
    "\n",
    "### INNER JOIN\n",
    "```sql\n",
    "SELECT u.nombre, r.rol\n",
    "FROM usuarios u\n",
    "INNER JOIN roles r ON u.rol_id = r.id;\n",
    "```\n",
    "\n",
    "### LEFT JOIN\n",
    "```sql\n",
    "SELECT u.nombre, r.rol\n",
    "FROM usuarios u\n",
    "LEFT JOIN roles r ON u.rol_id = r.id;\n",
    "```\n",
    "\n",
    "### RIGHT JOIN / FULL OUTER JOIN\n",
    "```sql\n",
    "-- Similar sintaxis, menos usados que INNER/LEFT JOIN\n",
    "```\n"
   ]
  },
  {
   "cell_type": "markdown",
   "id": "05c6aa75",
   "metadata": {},
   "source": [
    "## Subconsultas y CTEs\n",
    "\n",
    "### Subconsulta\n",
    "```sql\n",
    "SELECT nombre FROM usuarios\n",
    "WHERE edad > (\n",
    "    SELECT AVG(edad) FROM usuarios\n",
    ");\n",
    "```\n",
    "\n",
    "### Common Table Expression (CTE)\n",
    "```sql\n",
    "WITH promedio_edad AS (\n",
    "    SELECT AVG(edad) AS avg_edad FROM usuarios\n",
    ")\n",
    "SELECT nombre FROM usuarios, promedio_edad\n",
    "WHERE edad > promedio_edad.avg_edad;\n",
    "```\n"
   ]
  },
  {
   "cell_type": "markdown",
   "id": "81be728f",
   "metadata": {},
   "source": [
    "## Funciones Avanzadas\n",
    "\n",
    "### CASE\n",
    "```sql\n",
    "SELECT nombre,\n",
    "       CASE WHEN edad >= 18 THEN 'Mayor de edad'\n",
    "            ELSE 'Menor de edad'\n",
    "       END AS categoria\n",
    "FROM usuarios;\n",
    "```\n",
    "\n",
    "### COALESCE\n",
    "```sql\n",
    "SELECT nombre, COALESCE(email, 'Sin email') FROM usuarios;\n",
    "```\n",
    "\n",
    "### Funciones de fecha\n",
    "```sql\n",
    "SELECT EXTRACT(YEAR FROM fecha_registro) AS año_registro FROM usuarios;\n",
    "SELECT NOW(); -- Retorna fecha y hora actual\n",
    "```\n",
    "\n",
    "### Concatenación\n",
    "```sql\n",
    "SELECT nombre || ' - ' || email AS info_usuario FROM usuarios;\n",
    "```\n"
   ]
  },
  {
   "cell_type": "markdown",
   "id": "ddb1f680",
   "metadata": {},
   "source": [
    "## Creación de Tablas y DDL\n",
    "\n",
    "### CREATE TABLE\n",
    "```sql\n",
    "CREATE TABLE usuarios (\n",
    "    id SERIAL PRIMARY KEY,\n",
    "    nombre VARCHAR(100),\n",
    "    email TEXT UNIQUE,\n",
    "    edad INTEGER,\n",
    "    fecha_registro DATE DEFAULT CURRENT_DATE\n",
    ");\n",
    "```\n",
    "\n",
    "### ALTER TABLE\n",
    "```sql\n",
    "ALTER TABLE usuarios ADD COLUMN telefono VARCHAR(20);\n",
    "```\n",
    "\n",
    "### DROP TABLE\n",
    "```sql\n",
    "DROP TABLE IF EXISTS usuarios;\n",
    "```\n"
   ]
  },
  {
   "cell_type": "markdown",
   "id": "a8debc19",
   "metadata": {},
   "source": [
    "## Vistas y Materializaciones\n",
    "\n",
    "### CREATE VIEW\n",
    "```sql\n",
    "CREATE VIEW usuarios_mayores AS\n",
    "SELECT * FROM usuarios WHERE edad > 18;\n",
    "```\n",
    "\n",
    "### Uso de la vista\n",
    "```sql\n",
    "SELECT * FROM usuarios_mayores;\n",
    "```\n"
   ]
  },
  {
   "cell_type": "markdown",
   "id": "f0bc6fb4",
   "metadata": {},
   "source": [
    "## Ejercicios Prácticos\n",
    "\n",
    "### Ejercicio 1: Listar usuarios mayores de 25 años\n",
    "\n",
    "```sql\n",
    "SELECT * FROM usuarios WHERE edad > 25;\n",
    "```\n",
    "\n",
    "### Ejercicio 2: Contar cuántos usuarios hay por país\n",
    "\n",
    "```sql\n",
    "SELECT pais, COUNT(*) AS cantidad\n",
    "FROM usuarios\n",
    "GROUP BY pais;\n",
    "```\n",
    "\n",
    "### Ejercicio 3: Mostrar el nombre del usuario y su rol usando JOIN\n",
    "\n",
    "```sql\n",
    "SELECT u.nombre, r.nombre_rol\n",
    "FROM usuarios u\n",
    "JOIN roles r ON u.rol_id = r.id;\n",
    "```\n",
    "\n",
    "### Ejercicio 4: Usar CTE para obtener el promedio de edad y mostrar usuarios por encima de ese valor\n",
    "\n",
    "```sql\n",
    "WITH promedio AS (\n",
    "    SELECT AVG(edad) AS avg_edad FROM usuarios\n",
    ")\n",
    "SELECT nombre, edad\n",
    "FROM usuarios, promedio\n",
    "WHERE edad > promedio.avg_edad;\n",
    "```\n"
   ]
  },
  {
   "cell_type": "markdown",
   "id": "8629b24a",
   "metadata": {},
   "source": [
    "## Más información:\n",
    "\n",
    "- **Documentación oficial PostgreSQL**: [https://www.postgresql.org/docs/](https://www.postgresql.org/docs/)\n",
    "- **Libro: \"Learning SQL\" by Alan Beaulieu**\n"
   ]
  }
 ],
 "metadata": {
  "language_info": {
   "name": "python"
  }
 },
 "nbformat": 4,
 "nbformat_minor": 5
}
