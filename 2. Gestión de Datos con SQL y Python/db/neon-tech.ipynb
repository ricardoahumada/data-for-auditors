{
 "cells": [
  {
   "cell_type": "markdown",
   "id": "c00c2df8",
   "metadata": {},
   "source": [
    "# neon.tech"
   ]
  },
  {
   "cell_type": "markdown",
   "id": "27ecc257",
   "metadata": {},
   "source": [
    "Neon.tech es una plataforma que ofrece un servicio de base de datos PostgreSQL serverless y escalable en la nube , ideal para desarrolladores y aplicaciones modernas.\n",
    "\n",
    "La URL https://console.neon.tech/ es el panel de control (dashboard) de Neon , donde los usuarios pueden gestionar sus bases de datos PostgreSQL alojadas en este servicio."
   ]
  },
  {
   "cell_type": "markdown",
   "id": "e112589b",
   "metadata": {},
   "source": [
    "## Configuración\n",
    "1. Accede a https://console.neon.tech/\n",
    "2. Escoger Sign up for an account y crea una nueva cuenta\n",
    "3. Crea un proyecto y una base de datos\n",
    "4. Genera las tablas usando [schema_postgresql.sql](schema_postgresql.sql)\n",
    "5. Importa el contenido usando [data_postgresql.sql](data_postgresql.sql)"
   ]
  }
 ],
 "metadata": {
  "kernelspec": {
   "display_name": "Python 3",
   "language": "python",
   "name": "python3"
  },
  "language_info": {
   "name": "python",
   "version": "3.12.4"
  }
 },
 "nbformat": 4,
 "nbformat_minor": 5
}
