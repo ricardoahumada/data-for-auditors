{
 "cells": [
  {
   "cell_type": "markdown",
   "metadata": {},
   "source": [
    "## EJERCICIOS 1\n",
    "- Define una variable con valores que se te ocurran e identifica sus tipos. Por ejemplo, números, textos, listas, tuplas, conjuntos, etc. \n",
    "- Crea una tupla que contenga algunos nombres de mascota\n",
    "- Crea un diccionario \"mascotas\", que contenga el nombre y tipo de animal de cada mascota\n",
    "- Crea una lista de mascotas en la que cada item contenga nombre, tipo, edad y peso de la mascota\n",
    "- Crea un conjunto que represente las distintas secciones de una veterinaria y las mascotas alojadas en cada sección, con sus respectivos datos."
   ]
  }
 ],
 "metadata": {
  "kernelspec": {
   "display_name": "Python 3 (ipykernel)",
   "language": "python",
   "name": "python3"
  }
 },
 "nbformat": 4,
 "nbformat_minor": 2
}
