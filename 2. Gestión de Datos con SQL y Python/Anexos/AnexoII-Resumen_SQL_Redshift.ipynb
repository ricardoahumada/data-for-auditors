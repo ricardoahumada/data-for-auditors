{
 "cells": [
  {
   "cell_type": "markdown",
   "id": "03cee5fe",
   "metadata": {},
   "source": [
    "# Introducción a SQL en Amazon Redshift\n"
   ]
  },
  {
   "cell_type": "markdown",
   "id": "3f5e7f52",
   "metadata": {},
   "source": [
    "\n",
    "## Contenidos\n",
    "\n",
    "1. Introducción a Amazon Redshift\n",
    "2. Consultas básicas (SELECT, WHERE, ORDER BY)\n",
    "3. Funciones de agregación (COUNT, SUM, AVG, GROUP BY)\n",
    "4. JOINs entre tablas\n",
    "5. Subconsultas y CTEs\n",
    "6. Optimización básica en Redshift (Sort Keys, Dist Styles)\n",
    "7. Ejercicios propuestos\n"
   ]
  },
  {
   "cell_type": "markdown",
   "id": "8a5d4c79",
   "metadata": {},
   "source": [
    "\n",
    "# 1. Introducción a Amazon Redshift\n",
    "\n",
    "### ¿Qué es Amazon Redshift?\n",
    "\n",
    "- Es un **data warehouse** escalable basado en la nube.\n",
    "- Está optimizado para consultas analíticas sobre grandes volúmenes de datos.\n",
    "- Usa el lenguaje **SQL estándar**, con algunas extensiones específicas.\n",
    "- Soporta conectividad mediante JDBC, ODBC, Python, etc.\n"
   ]
  },
  {
   "cell_type": "markdown",
   "id": "c04d75d5",
   "metadata": {},
   "source": [
    "\n",
    "# 2. Consultas Básicas\n",
    "\n",
    "### Mostrar todas las ventas:\n",
    "```sql\n",
    "SELECT * FROM ventas LIMIT 10;\n",
    "```\n",
    "\n",
    "### Filtrar por cliente:\n",
    "```sql\n",
    "SELECT * FROM ventas WHERE cliente_id = 2;\n",
    "```\n",
    "\n",
    "### Ordenar por fecha:\n",
    "```sql\n",
    "SELECT * FROM ventas ORDER BY fecha_venta DESC;\n",
    "```\n"
   ]
  },
  {
   "cell_type": "markdown",
   "id": "f47d40a2",
   "metadata": {},
   "source": [
    "\n",
    "# 3. Agregaciones y Análisis\n",
    "\n",
    "### Total de ventas por cliente:\n",
    "```sql\n",
    "SELECT v.cliente_id, c.nombre, COUNT(*) AS total_ventas\n",
    "FROM ventas v\n",
    "JOIN clientes c ON v.cliente_id = c.cliente_id\n",
    "GROUP BY v.cliente_id, c.nombre\n",
    "ORDER BY total_ventas DESC;\n",
    "```\n",
    "\n",
    "### Ingresos totales por producto:\n",
    "```sql\n",
    "SELECT p.nombre_producto, SUM(p.precio * v.cantidad) AS ingreso_total\n",
    "FROM ventas v\n",
    "JOIN productos p ON v.producto_id = p.producto_id\n",
    "GROUP BY p.nombre_producto\n",
    "ORDER BY ingreso_total DESC;\n",
    "```\n"
   ]
  },
  {
   "cell_type": "markdown",
   "id": "8e2311e6",
   "metadata": {},
   "source": [
    "\n",
    "# 4. JOINs entre tablas\n",
    "\n",
    "### Información detallada de cada venta:\n",
    "```sql\n",
    "SELECT \n",
    "    v.venta_id,\n",
    "    c.nombre AS cliente,\n",
    "    p.nombre_producto,\n",
    "    p.precio,\n",
    "    v.cantidad,\n",
    "    (p.precio * v.cantidad) AS total\n",
    "FROM ventas v\n",
    "JOIN clientes c ON v.cliente_id = c.cliente_id\n",
    "JOIN productos p ON v.producto_id = p.producto_id;\n",
    "```\n"
   ]
  },
  {
   "cell_type": "markdown",
   "id": "076a1121",
   "metadata": {},
   "source": [
    "\n",
    "# 5. Subconsultas y CTEs\n",
    "\n",
    "### Usando subconsulta para obtener ventas mayores al promedio:\n",
    "\n",
    "```sql\n",
    "SELECT *\n",
    "FROM (\n",
    "    SELECT v.venta_id, p.precio * v.cantidad AS monto\n",
    "    FROM ventas v\n",
    "    JOIN productos p ON v.producto_id = p.producto_id\n",
    ") AS ventas_detalle\n",
    "WHERE monto > (SELECT AVG(precio * cantidad) FROM ventas JOIN productos ON ventas.producto_id = productos.producto_id);\n",
    "```\n",
    "\n",
    "### Usando CTE:\n",
    "\n",
    "```sql\n",
    "WITH ventas_detalle AS (\n",
    "    SELECT v.venta_id, p.precio * v.cantidad AS monto\n",
    "    FROM ventas v\n",
    "    JOIN productos p ON v.producto_id = p.producto_id\n",
    ")\n",
    "SELECT *\n",
    "FROM ventas_detalle\n",
    "WHERE monto > (SELECT AVG(monto) FROM ventas_detalle);\n",
    "```\n"
   ]
  },
  {
   "cell_type": "markdown",
   "id": "a82de95c",
   "metadata": {},
   "source": [
    "\n",
    "# 6. Optimización en Redshift\n",
    "\n",
    "### Definir claves de distribución y ordenamiento\n",
    "\n",
    "```sql\n",
    "CREATE TABLE ventas_opt (\n",
    "    venta_id INTEGER PRIMARY KEY,\n",
    "    cliente_id INTEGER DISTKEY,\n",
    "    producto_id INTEGER,\n",
    "    fecha_venta DATE SORTKEY,\n",
    "    cantidad INTEGER\n",
    ") DISTSTYLE KEY;\n",
    "```\n",
    "\n",
    "> ✅ **DISTKEY**: Mejora rendimiento en JOINs.\n",
    "> ✅ **SORTKEY**: Mejora velocidad en filtros y ordenamientos.\n"
   ]
  },
  {
   "cell_type": "markdown",
   "id": "54e0f927",
   "metadata": {},
   "source": [
    "\n",
    "# 7. Ejercicios Propuestos\n",
    "\n",
    "1. Listar los 5 productos más vendidos.\n",
    "2. Mostrar el total de ventas por mes.\n",
    "3. Encontrar clientes que hayan comprado todos los productos disponibles.\n",
    "4. Calcular el promedio de ventas por país.\n",
    "5. Usar CTE para encontrar el top 3 de clientes por ingresos generados.\n"
   ]
  },
  {
   "cell_type": "markdown",
   "id": "8d0d03b5",
   "metadata": {},
   "source": [
    "\n",
    "# Más información:\n",
    "\n",
    "- [Documentación oficial de Amazon Redshift](https://docs.aws.amazon.com/redshift/latest/mgmt/welcome.html)\n",
    "- [Guía de optimización de Redshift](https://docs.aws.amazon.com/redshift/latest/dg/c_designing-queries-best-practices.html)\n",
    "- [SQLZoo](https://sqlzoo.net/) – Tutoriales interactivos de SQL"
   ]
  }
 ],
 "metadata": {
  "language_info": {
   "name": "python"
  }
 },
 "nbformat": 4,
 "nbformat_minor": 5
}
