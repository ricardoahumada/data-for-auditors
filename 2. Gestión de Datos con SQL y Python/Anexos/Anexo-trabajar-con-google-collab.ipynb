{
 "cells": [
  {
   "cell_type": "markdown",
   "id": "48cc272c",
   "metadata": {},
   "source": [
    "# **Notebooks en Google Colab**\n",
    "\n",
    "## Crear cuenta google colabs\n",
    "- https://colab.research.google.com/\n",
    "\n",
    "## Crear notebooks\n",
    "- File → New notebook in drive\n",
    "- Stored in \"Colab Notebooks\"\n",
    "\n",
    "## Montar drive\n",
    "``` python\n",
    "from google.colab import drive\n",
    "drive.mount('/content/drive')\n",
    "```\n",
    "\n",
    "- Dar todos los permisos\n",
    "- Se monta en /content/drive\n",
    "\n",
    "## Clonar repo\n",
    "- Abrir terminal\n",
    "- Moverse a directorio:\n",
    "\n",
    "    ``` sh\n",
    "    cd /content/drive\n",
    "    ls -lah\n",
    "    cd MyDrive\n",
    "    ```\n",
    "- Clonar repo:\n",
    "    ``` sh\n",
    "    git clone https://github.com/ricardoahumada/data-for-auditors data-for-auditors-repo\n",
    "    ```\n",
    "\n",
    "- Entrar en repo:\n",
    "    ``` sh\n",
    "    cd data-for-auditors-repo\n",
    "    ```\n",
    "\n",
    "- Ir a Google Drive y revisar carpeta \"data-for-auditors-repo\"\n",
    "\n",
    "## Abrir notebook desde Drive\n",
    "- Acceder a la carpeta con el notebook\n",
    "- Botón derecho → Open with → Google Colab\n"
   ]
  }
 ],
 "metadata": {
  "kernelspec": {
   "display_name": "Python 3",
   "language": "python",
   "name": "python3"
  },
  "language_info": {
   "name": "python",
   "version": "3.12.4"
  }
 },
 "nbformat": 4,
 "nbformat_minor": 5
}
