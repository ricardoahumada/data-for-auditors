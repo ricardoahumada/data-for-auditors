{
 "cells": [
  {
   "cell_type": "markdown",
   "id": "0a6bdff9",
   "metadata": {},
   "source": [
    "\n",
    "# **Optimización de Memoria con Pandas**\n"
   ]
  },
  {
   "cell_type": "markdown",
   "id": "0a250d22",
   "metadata": {},
   "source": [
    "Cuando trabajamos con grandes volúmenes de datos (cientos de miles o millones de filas), la biblioteca `pandas` puede consumir mucha memoria RAM si no se usan técnicas adecuadas.\n",
    "\n",
    "Para ello deberemos:\n",
    "- Verificar y optimizar el uso de memoria\n",
    "- Usar tipos de datos más eficientes (`dtypes`)\n",
    "- Cargar solo los datos necesarios\n",
    "- Procesar archivos por bloques (chunks)\n",
    "- Eliminar columnas innecesarias\n",
    "- Convertir tipos de forma automática\n",
    "\n"
   ]
  },
  {
   "cell_type": "markdown",
   "id": "51cb29b3",
   "metadata": {},
   "source": [
    "## Importar Librerías"
   ]
  },
  {
   "cell_type": "code",
   "execution_count": null,
   "id": "dd461a30",
   "metadata": {},
   "outputs": [],
   "source": [
    "import pandas as pd\n",
    "import numpy as np\n",
    "import sys"
   ]
  },
  {
   "cell_type": "markdown",
   "id": "a864cbc5",
   "metadata": {},
   "source": [
    "## Cargar un dataset grande\n",
    "\n",
    "Usaremos un archivo CSV de ejemplo. Si no lo tienes, puedes crear uno pequeño para probar."
   ]
  },
  {
   "cell_type": "code",
   "execution_count": null,
   "id": "2607db91",
   "metadata": {},
   "outputs": [],
   "source": [
    "big_csv=\"https://github.com/ricardoahumada/Python_for_Data_Science/raw/refs/heads/master/data/2008.zip\"\n",
    "small_csv=\"https://github.com/ricardoahumada/Python_for_Data_Science/raw/refs/heads/master/data/2008_small.zip\"\n",
    "very_small_csv = 'https://github.com/ricardoahumada/data-for-auditors/raw/refs/heads/main/4.%20An%C3%A1lisis%20Masivo%20de%20Datos/Optimizacion/data/2008_very_small.csv'"
   ]
  },
  {
   "cell_type": "code",
   "execution_count": null,
   "id": "74009003",
   "metadata": {},
   "outputs": [],
   "source": [
    "df = pd.read_csv(small_csv)"
   ]
  },
  {
   "cell_type": "code",
   "execution_count": null,
   "id": "f596617f",
   "metadata": {},
   "outputs": [],
   "source": [
    "df.info()"
   ]
  },
  {
   "cell_type": "markdown",
   "id": "3dc4ff92",
   "metadata": {},
   "source": [
    "## Verificar el uso de memoria\n",
    "\n",
    "### Mostrar uso de memoria por columna\n",
    "\n"
   ]
  },
  {
   "cell_type": "code",
   "execution_count": null,
   "id": "3feb5e9a",
   "metadata": {},
   "outputs": [],
   "source": [
    "df.memory_usage(deep=True)"
   ]
  },
  {
   "cell_type": "markdown",
   "id": "26317768",
   "metadata": {},
   "source": [
    "\n",
    "### Total de memoria usada\n",
    "\n"
   ]
  },
  {
   "cell_type": "code",
   "execution_count": null,
   "id": "a2d0dac4",
   "metadata": {},
   "outputs": [],
   "source": [
    "print(f\"Memoria total usada: {df.memory_usage(deep=True).sum() / 1024**2:.2f} MB\")"
   ]
  },
  {
   "cell_type": "markdown",
   "id": "e7bdb460",
   "metadata": {},
   "source": [
    "## Optimización básica – Tipos de datos (`dtypes`)\n",
    "\n",
    "Pandas asigna automáticamente tipos de datos que pueden no ser óptimos. Podemos reducir el tamaño del DataFrame cambiando los tipos manualmente o automáticamente.\n",
    "\n",
    "### Verificar tipos actuales\n",
    "\n"
   ]
  },
  {
   "cell_type": "code",
   "execution_count": null,
   "id": "25d39485",
   "metadata": {},
   "outputs": [],
   "source": [
    "df.dtypes"
   ]
  },
  {
   "cell_type": "markdown",
   "id": "097f0206",
   "metadata": {},
   "source": [
    "### Cambiar tipos manualmente (ejemplo)\n",
    "\n"
   ]
  },
  {
   "cell_type": "code",
   "execution_count": null,
   "id": "904e8e6e",
   "metadata": {},
   "outputs": [],
   "source": [
    "dtypes_optimized = {\n",
    "    'Month': np.int8,\n",
    "    'DepTime': np.float32,\n",
    "    'UniqueCarrier': 'category'\n",
    "}\n",
    "\n",
    "df = df.astype(dtypes_optimized)\n",
    "\n"
   ]
  },
  {
   "cell_type": "markdown",
   "id": "7d70ed99",
   "metadata": {},
   "source": [
    "### Cambiar tipos automáticamente\n",
    "\n",
    "Función para optimizar todos los tipos numéricos y categóricos:"
   ]
  },
  {
   "cell_type": "code",
   "execution_count": null,
   "id": "5a31b734",
   "metadata": {},
   "outputs": [],
   "source": [
    "def optimize_dtypes(df):\n",
    "    for col in df.select_dtypes(include=['float']).columns:\n",
    "        df[col] = pd.to_numeric(df[col], downcast='float')\n",
    "    \n",
    "    for col in df.select_dtypes(include=['int']).columns:\n",
    "        df[col] = pd.to_numeric(df[col], downcast='integer')\n",
    "    \n",
    "    for col in df.select_dtypes(include=['object']).columns:\n",
    "        try:\n",
    "            df[col] = df[col].astype('category')\n",
    "        except:\n",
    "            pass\n",
    "    \n",
    "    return df\n",
    "\n",
    "df = optimize_dtypes(df)"
   ]
  },
  {
   "cell_type": "markdown",
   "id": "d6dd5283",
   "metadata": {},
   "source": [
    "### Verificar memoria después de optimizar"
   ]
  },
  {
   "cell_type": "code",
   "execution_count": null,
   "id": "44c795bc",
   "metadata": {},
   "outputs": [],
   "source": [
    "print(f\"Memoria después de optimizar: {df.memory_usage(deep=True).sum() / 1024**2:.2f} MB\")"
   ]
  },
  {
   "cell_type": "markdown",
   "id": "a25289a3",
   "metadata": {},
   "source": [
    "## Eliminar columnas innecesarias\n",
    "\n",
    "Si hay columnas que no se van a usar, elimínalas para liberar memoria.\n",
    "\n"
   ]
  },
  {
   "cell_type": "code",
   "execution_count": null,
   "id": "de835a02",
   "metadata": {},
   "outputs": [],
   "source": [
    "df.drop(['Unnamed: 0','FlightNum','CancellationCode'], axis=1, inplace=True)\n",
    "\n",
    "# También puedes usar `del`:\n",
    "\n",
    "# del df['CancellationCode']\n",
    "\n"
   ]
  },
  {
   "cell_type": "markdown",
   "id": "5c81aefb",
   "metadata": {},
   "source": [
    "## Cargar solo las columnas necesarias\n",
    "\n",
    "En lugar de cargar todo el archivo, carga solo las columnas que necesitas.\n",
    "\n"
   ]
  },
  {
   "cell_type": "code",
   "execution_count": null,
   "id": "6833e3cc",
   "metadata": {},
   "outputs": [],
   "source": [
    "df.columns"
   ]
  },
  {
   "cell_type": "code",
   "execution_count": null,
   "id": "8e63ebc4",
   "metadata": {},
   "outputs": [],
   "source": [
    "cols_to_use = ['Year', 'Month', 'DayofMonth', 'DayOfWeek', 'DepTime',\n",
    "       'CRSDepTime', 'ArrTime', 'CRSArrTime', 'UniqueCarrier', 'ActualElapsedTime', 'CRSElapsedTime', 'AirTime', 'ArrDelay',\n",
    "       'DepDelay', 'Origin', 'Dest', 'Distance', 'Cancelled', 'Diverted', 'CarrierDelay', 'WeatherDelay', 'NASDelay',\n",
    "       'SecurityDelay', 'LateAircraftDelay']\n",
    "\n",
    "df = pd.read_csv(small_csv, usecols=cols_to_use)\n",
    "\n"
   ]
  },
  {
   "cell_type": "code",
   "execution_count": null,
   "id": "22c5e7e3",
   "metadata": {},
   "outputs": [],
   "source": [
    "print(f\"Memoria: {df.memory_usage(deep=True).sum() / 1024**2:.2f} MB\")"
   ]
  },
  {
   "cell_type": "markdown",
   "id": "54dec2d0",
   "metadata": {},
   "source": [
    "## Cargar datos por partes (`chunksize`)\n",
    "\n",
    "Si el archivo es muy grande para cargarlo en memoria, usa `chunksize`."
   ]
  },
  {
   "cell_type": "code",
   "execution_count": null,
   "id": "5c7a27aa",
   "metadata": {},
   "outputs": [],
   "source": [
    "def process_chunk(chunk):\n",
    "    print(chunk.shape)\n",
    "    print(chunk.head())\n",
    "\n",
    "for chunk in pd.read_csv(small_csv, chunksize=100000):  # 100,000 filas por bloque\n",
    "    process_chunk(chunk)  # función de procesamiento\n"
   ]
  },
  {
   "cell_type": "markdown",
   "id": "53cce62e",
   "metadata": {},
   "source": [
    "## Limpiar valores nulos\n",
    "\n",
    "Los valores nulos también ocupan espacio. Limpia o reemplaza según sea necesario."
   ]
  },
  {
   "cell_type": "code",
   "execution_count": null,
   "id": "0551ef1a",
   "metadata": {},
   "outputs": [],
   "source": [
    "df.dropna(inplace=True)  # Elimina filas con nulos\n",
    "# o\n",
    "df.fillna(0, inplace=True)  # Rellena nulos con 0 u otros valores"
   ]
  },
  {
   "cell_type": "code",
   "execution_count": null,
   "id": "57ff487f",
   "metadata": {},
   "outputs": [],
   "source": [
    "print(f\"Memoria: {df.memory_usage(deep=True).sum() / 1024**2:.2f} MB\")"
   ]
  },
  {
   "cell_type": "markdown",
   "id": "d0af7ba1",
   "metadata": {},
   "source": [
    "## Visualización opcional\n",
    "\n",
    "Si quieres ver cómo afecta cada cambio al uso de memoria:\n"
   ]
  },
  {
   "cell_type": "code",
   "execution_count": null,
   "id": "0ef90380",
   "metadata": {},
   "outputs": [],
   "source": [
    "before = sys.getsizeof(df)\n",
    "df = optimize_dtypes(df)\n",
    "after = sys.getsizeof(df)\n",
    "\n",
    "print(f\"Antes: {before / 1024**2:.2f} MB | Después: {after / 1024**2:.2f} MB\")"
   ]
  },
  {
   "cell_type": "markdown",
   "id": "5ecd1fdf",
   "metadata": {},
   "source": [
    "## Más información:\n",
    "\n",
    "- [Documentación oficial de pandas](https://pandas.pydata.org/pandas-docs/stable/)\n",
    "- [Categorías en pandas](https://pandas.pydata.org/docs/user_guide/enhancingperf.html)\n",
    "- [Uso de chunks](https://pandas.pydata.org/docs/reference/api/pandas.read_csv.html)\n",
    "- [Downcasting numérico](https://pandas.pydata.org/docs/user_guide/enhancingperf.html#memory-usage)\n"
   ]
  }
 ],
 "metadata": {
  "kernelspec": {
   "display_name": "Python 3",
   "language": "python",
   "name": "python3"
  },
  "language_info": {
   "codemirror_mode": {
    "name": "ipython",
    "version": 3
   },
   "file_extension": ".py",
   "mimetype": "text/x-python",
   "name": "python",
   "nbconvert_exporter": "python",
   "pygments_lexer": "ipython3",
   "version": "3.12.4"
  }
 },
 "nbformat": 4,
 "nbformat_minor": 5
}
